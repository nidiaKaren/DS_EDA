{
 "cells": [
  {
   "cell_type": "code",
   "execution_count": 1,
   "id": "46471c25-f12d-4e70-9fb2-392fdbb52700",
   "metadata": {
    "tags": []
   },
   "outputs": [],
   "source": [
    "import pandas as pd\n",
    "#https://pandas.pydata.org/docs/reference/api/pandas.DataFrame.empty.html\n",
    "import numpy as np\n",
    "import seaborn as sns\n",
    "import matplotlib.pyplot as plt\n",
    "#import emoji\n",
    "#definir eñlnumero de columnas visibles en un dataframe\n",
    "pd.set_option(\"display.max_columns\",200)\n",
    "#definir el numero de filas visibles en un dataframe\n",
    "pd.set_option(\"display.max_rows\",100)"
   ]
  },
  {
   "cell_type": "code",
   "execution_count": 2,
   "id": "cb6d5bba-a103-4e91-8b70-62cfdd163b5e",
   "metadata": {
    "tags": []
   },
   "outputs": [
    {
     "name": "stderr",
     "output_type": "stream",
     "text": [
      "C:\\Users\\Nidia\\AppData\\Local\\Temp\\ipykernel_24152\\4126175073.py:3: DtypeWarning: Columns (1,16) have mixed types. Specify dtype option on import or set low_memory=False.\n",
      "  df=pd.read_csv('practica_1.csv',encoding=\"utf-8\")\n"
     ]
    }
   ],
   "source": [
    "#Tabla con informacion\n",
    "#archivo='practica_1.csv'\n",
    "df=pd.read_csv('practica_1.csv',encoding=\"utf-8\")"
   ]
  },
  {
   "cell_type": "code",
   "execution_count": 3,
   "id": "163dc55f-d9ac-423f-ba80-bdc712e496b7",
   "metadata": {
    "tags": []
   },
   "outputs": [
    {
     "data": {
      "text/html": [
       "<div>\n",
       "<style scoped>\n",
       "    .dataframe tbody tr th:only-of-type {\n",
       "        vertical-align: middle;\n",
       "    }\n",
       "\n",
       "    .dataframe tbody tr th {\n",
       "        vertical-align: top;\n",
       "    }\n",
       "\n",
       "    .dataframe thead th {\n",
       "        text-align: right;\n",
       "    }\n",
       "</style>\n",
       "<table border=\"1\" class=\"dataframe\">\n",
       "  <thead>\n",
       "    <tr style=\"text-align: right;\">\n",
       "      <th></th>\n",
       "      <th>id</th>\n",
       "      <th>ao_hechos</th>\n",
       "      <th>mes_hechos</th>\n",
       "      <th>fecha_hechos</th>\n",
       "      <th>delito</th>\n",
       "      <th>categoria_delito</th>\n",
       "      <th>fiscalia</th>\n",
       "      <th>agencia</th>\n",
       "      <th>unidad_investigacion</th>\n",
       "      <th>colonia_hechos</th>\n",
       "      <th>alcaldia_hechos</th>\n",
       "      <th>fecha_inicio</th>\n",
       "      <th>mes_inicio</th>\n",
       "      <th>ao_inicio</th>\n",
       "      <th>calle_hechos</th>\n",
       "      <th>calle_hechos2</th>\n",
       "      <th>longitud</th>\n",
       "      <th>latitud</th>\n",
       "      <th>geopoint</th>\n",
       "      <th>Unnamed: 19</th>\n",
       "      <th>Unnamed: 20</th>\n",
       "      <th>Unnamed: 21</th>\n",
       "      <th>Unnamed: 22</th>\n",
       "      <th>Unnamed: 23</th>\n",
       "      <th>Unnamed: 24</th>\n",
       "      <th>Unnamed: 25</th>\n",
       "    </tr>\n",
       "  </thead>\n",
       "  <tbody>\n",
       "    <tr>\n",
       "      <th>0</th>\n",
       "      <td>0</td>\n",
       "      <td>2016</td>\n",
       "      <td>Enero</td>\n",
       "      <td>2016-01-05 17:00:00</td>\n",
       "      <td>LESIONES CULPOSAS</td>\n",
       "      <td>DELITO DE BAJO IMPACTO</td>\n",
       "      <td>INVESTIGACIÃN EN GUSTAVO A. MADERO</td>\n",
       "      <td>GAM-6</td>\n",
       "      <td>UI-1CD</td>\n",
       "      <td>GRANJAS MODERNAS</td>\n",
       "      <td>GUSTAVO A MADERO</td>\n",
       "      <td>2016-01-05 18:35:37</td>\n",
       "      <td>Enero</td>\n",
       "      <td>2016</td>\n",
       "      <td>SAN JUAN DE ARAGON</td>\n",
       "      <td>CALLE ANZAR</td>\n",
       "      <td>-99.103527</td>\n",
       "      <td>19.481076</td>\n",
       "      <td>19.4810759998,-99.103527</td>\n",
       "      <td>NaN</td>\n",
       "      <td>NaN</td>\n",
       "      <td>NaN</td>\n",
       "      <td>NaN</td>\n",
       "      <td>NaN</td>\n",
       "      <td>NaN</td>\n",
       "      <td>NaN</td>\n",
       "    </tr>\n",
       "    <tr>\n",
       "      <th>1</th>\n",
       "      <td>2</td>\n",
       "      <td>2017</td>\n",
       "      <td>Noviembre</td>\n",
       "      <td>2017-11-01 16:40:00</td>\n",
       "      <td>ROBO A TRANSEUNTE EN VIA PUBLICA CON VIOLENCIA</td>\n",
       "      <td>ROBO A TRANSEUNTE EN VÃA PÃBLICA CON Y SIN V...</td>\n",
       "      <td>INVESTIGACIÃN EN IZTACALCO</td>\n",
       "      <td>IZC-2</td>\n",
       "      <td>UI-1SD</td>\n",
       "      <td>GABRIEL RAMOS MILLÃN SECCIÃN TLACOTAL</td>\n",
       "      <td>IZTACALCO</td>\n",
       "      <td>2017-11-01 16:56:04</td>\n",
       "      <td>Noviembre</td>\n",
       "      <td>2017</td>\n",
       "      <td>SUR 117</td>\n",
       "      <td>ORIENTE 100A</td>\n",
       "      <td>-99.106072</td>\n",
       "      <td>19.395398</td>\n",
       "      <td>19.3953976727,-99.1060723829</td>\n",
       "      <td>NaN</td>\n",
       "      <td>NaN</td>\n",
       "      <td>NaN</td>\n",
       "      <td>NaN</td>\n",
       "      <td>NaN</td>\n",
       "      <td>NaN</td>\n",
       "      <td>NaN</td>\n",
       "    </tr>\n",
       "  </tbody>\n",
       "</table>\n",
       "</div>"
      ],
      "text/plain": [
       "   id ao_hechos mes_hechos         fecha_hechos  \\\n",
       "0   0      2016      Enero  2016-01-05 17:00:00   \n",
       "1   2      2017  Noviembre  2017-11-01 16:40:00   \n",
       "\n",
       "                                           delito  \\\n",
       "0                               LESIONES CULPOSAS   \n",
       "1  ROBO A TRANSEUNTE EN VIA PUBLICA CON VIOLENCIA   \n",
       "\n",
       "                                    categoria_delito  \\\n",
       "0                             DELITO DE BAJO IMPACTO   \n",
       "1  ROBO A TRANSEUNTE EN VÃA PÃBLICA CON Y SIN V...   \n",
       "\n",
       "                              fiscalia agencia unidad_investigacion  \\\n",
       "0  INVESTIGACIÃN EN GUSTAVO A. MADERO   GAM-6               UI-1CD   \n",
       "1          INVESTIGACIÃN EN IZTACALCO   IZC-2               UI-1SD   \n",
       "\n",
       "                            colonia_hechos   alcaldia_hechos  \\\n",
       "0                         GRANJAS MODERNAS  GUSTAVO A MADERO   \n",
       "1  GABRIEL RAMOS MILLÃN SECCIÃN TLACOTAL         IZTACALCO   \n",
       "\n",
       "          fecha_inicio mes_inicio  ao_inicio        calle_hechos  \\\n",
       "0  2016-01-05 18:35:37      Enero       2016  SAN JUAN DE ARAGON   \n",
       "1  2017-11-01 16:56:04  Noviembre       2017             SUR 117   \n",
       "\n",
       "  calle_hechos2   longitud    latitud                      geopoint  \\\n",
       "0   CALLE ANZAR -99.103527  19.481076      19.4810759998,-99.103527   \n",
       "1  ORIENTE 100A -99.106072  19.395398  19.3953976727,-99.1060723829   \n",
       "\n",
       "   Unnamed: 19  Unnamed: 20  Unnamed: 21  Unnamed: 22  Unnamed: 23  \\\n",
       "0          NaN          NaN          NaN          NaN          NaN   \n",
       "1          NaN          NaN          NaN          NaN          NaN   \n",
       "\n",
       "   Unnamed: 24  Unnamed: 25  \n",
       "0          NaN          NaN  \n",
       "1          NaN          NaN  "
      ]
     },
     "execution_count": 3,
     "metadata": {},
     "output_type": "execute_result"
    }
   ],
   "source": [
    "df.head(2)"
   ]
  },
  {
   "cell_type": "code",
   "execution_count": 4,
   "id": "7a1795ee-9f88-4db9-b117-18e45e1e4c10",
   "metadata": {
    "tags": []
   },
   "outputs": [
    {
     "name": "stdout",
     "output_type": "stream",
     "text": [
      "<class 'pandas.core.frame.DataFrame'>\n",
      "RangeIndex: 774952 entries, 0 to 774951\n",
      "Data columns (total 26 columns):\n",
      " #   Column                Non-Null Count   Dtype  \n",
      "---  ------                --------------   -----  \n",
      " 0   id                    774952 non-null  int64  \n",
      " 1   ao_hechos             774952 non-null  object \n",
      " 2   mes_hechos            774952 non-null  object \n",
      " 3   fecha_hechos          774952 non-null  object \n",
      " 4   delito                774952 non-null  object \n",
      " 5   categoria_delito      774952 non-null  object \n",
      " 6   fiscalia              774952 non-null  object \n",
      " 7   agencia               774952 non-null  object \n",
      " 8   unidad_investigacion  774952 non-null  object \n",
      " 9   colonia_hechos        774952 non-null  object \n",
      " 10  alcaldia_hechos       774952 non-null  object \n",
      " 11  fecha_inicio          774952 non-null  object \n",
      " 12  mes_inicio            774952 non-null  object \n",
      " 13  ao_inicio             774952 non-null  int64  \n",
      " 14  calle_hechos          774952 non-null  object \n",
      " 15  calle_hechos2         313676 non-null  object \n",
      " 16  longitud              774951 non-null  object \n",
      " 17  latitud               774952 non-null  float64\n",
      " 18  geopoint              774952 non-null  object \n",
      " 19  Unnamed: 19           0 non-null       float64\n",
      " 20  Unnamed: 20           0 non-null       float64\n",
      " 21  Unnamed: 21           0 non-null       float64\n",
      " 22  Unnamed: 22           0 non-null       float64\n",
      " 23  Unnamed: 23           0 non-null       float64\n",
      " 24  Unnamed: 24           0 non-null       float64\n",
      " 25  Unnamed: 25           0 non-null       float64\n",
      "dtypes: float64(8), int64(2), object(16)\n",
      "memory usage: 153.7+ MB\n"
     ]
    }
   ],
   "source": [
    "#Este método imprime información sobre un DataFrame, incluido el tipo de índice y las columnas, \n",
    "#los valores no nulos y el uso de la memoria.\n",
    "df.info()"
   ]
  },
  {
   "cell_type": "markdown",
   "id": "3bb2cc99-9eb0-43a9-91cc-3659ab727c10",
   "metadata": {},
   "source": [
    "- 8 columnas tipo float64\n",
    "- 2 columnas tipo int64\n",
    "- 16 columnas tipo object"
   ]
  },
  {
   "cell_type": "code",
   "execution_count": 5,
   "id": "3fc5c8da-84bd-4404-9e74-ed35647bd2fe",
   "metadata": {},
   "outputs": [
    {
     "data": {
      "text/html": [
       "<div>\n",
       "<style scoped>\n",
       "    .dataframe tbody tr th:only-of-type {\n",
       "        vertical-align: middle;\n",
       "    }\n",
       "\n",
       "    .dataframe tbody tr th {\n",
       "        vertical-align: top;\n",
       "    }\n",
       "\n",
       "    .dataframe thead th {\n",
       "        text-align: right;\n",
       "    }\n",
       "</style>\n",
       "<table border=\"1\" class=\"dataframe\">\n",
       "  <thead>\n",
       "    <tr style=\"text-align: right;\">\n",
       "      <th></th>\n",
       "      <th>id</th>\n",
       "      <th>ao_inicio</th>\n",
       "      <th>latitud</th>\n",
       "      <th>Unnamed: 19</th>\n",
       "      <th>Unnamed: 20</th>\n",
       "      <th>Unnamed: 21</th>\n",
       "      <th>Unnamed: 22</th>\n",
       "      <th>Unnamed: 23</th>\n",
       "      <th>Unnamed: 24</th>\n",
       "      <th>Unnamed: 25</th>\n",
       "    </tr>\n",
       "  </thead>\n",
       "  <tbody>\n",
       "    <tr>\n",
       "      <th>102735</th>\n",
       "      <td>107234</td>\n",
       "      <td>2018</td>\n",
       "      <td>19.359703</td>\n",
       "      <td>NaN</td>\n",
       "      <td>NaN</td>\n",
       "      <td>NaN</td>\n",
       "      <td>NaN</td>\n",
       "      <td>NaN</td>\n",
       "      <td>NaN</td>\n",
       "      <td>NaN</td>\n",
       "    </tr>\n",
       "    <tr>\n",
       "      <th>37003</th>\n",
       "      <td>38610</td>\n",
       "      <td>2016</td>\n",
       "      <td>19.455448</td>\n",
       "      <td>NaN</td>\n",
       "      <td>NaN</td>\n",
       "      <td>NaN</td>\n",
       "      <td>NaN</td>\n",
       "      <td>NaN</td>\n",
       "      <td>NaN</td>\n",
       "      <td>NaN</td>\n",
       "    </tr>\n",
       "    <tr>\n",
       "      <th>625660</th>\n",
       "      <td>653209</td>\n",
       "      <td>2018</td>\n",
       "      <td>19.369520</td>\n",
       "      <td>NaN</td>\n",
       "      <td>NaN</td>\n",
       "      <td>NaN</td>\n",
       "      <td>NaN</td>\n",
       "      <td>NaN</td>\n",
       "      <td>NaN</td>\n",
       "      <td>NaN</td>\n",
       "    </tr>\n",
       "    <tr>\n",
       "      <th>290489</th>\n",
       "      <td>303282</td>\n",
       "      <td>2017</td>\n",
       "      <td>19.384822</td>\n",
       "      <td>NaN</td>\n",
       "      <td>NaN</td>\n",
       "      <td>NaN</td>\n",
       "      <td>NaN</td>\n",
       "      <td>NaN</td>\n",
       "      <td>NaN</td>\n",
       "      <td>NaN</td>\n",
       "    </tr>\n",
       "    <tr>\n",
       "      <th>116381</th>\n",
       "      <td>121502</td>\n",
       "      <td>2016</td>\n",
       "      <td>19.439283</td>\n",
       "      <td>NaN</td>\n",
       "      <td>NaN</td>\n",
       "      <td>NaN</td>\n",
       "      <td>NaN</td>\n",
       "      <td>NaN</td>\n",
       "      <td>NaN</td>\n",
       "      <td>NaN</td>\n",
       "    </tr>\n",
       "    <tr>\n",
       "      <th>627590</th>\n",
       "      <td>655234</td>\n",
       "      <td>2016</td>\n",
       "      <td>19.257385</td>\n",
       "      <td>NaN</td>\n",
       "      <td>NaN</td>\n",
       "      <td>NaN</td>\n",
       "      <td>NaN</td>\n",
       "      <td>NaN</td>\n",
       "      <td>NaN</td>\n",
       "      <td>NaN</td>\n",
       "    </tr>\n",
       "    <tr>\n",
       "      <th>707165</th>\n",
       "      <td>738274</td>\n",
       "      <td>2016</td>\n",
       "      <td>19.449336</td>\n",
       "      <td>NaN</td>\n",
       "      <td>NaN</td>\n",
       "      <td>NaN</td>\n",
       "      <td>NaN</td>\n",
       "      <td>NaN</td>\n",
       "      <td>NaN</td>\n",
       "      <td>NaN</td>\n",
       "    </tr>\n",
       "    <tr>\n",
       "      <th>27890</th>\n",
       "      <td>29083</td>\n",
       "      <td>2018</td>\n",
       "      <td>19.417519</td>\n",
       "      <td>NaN</td>\n",
       "      <td>NaN</td>\n",
       "      <td>NaN</td>\n",
       "      <td>NaN</td>\n",
       "      <td>NaN</td>\n",
       "      <td>NaN</td>\n",
       "      <td>NaN</td>\n",
       "    </tr>\n",
       "    <tr>\n",
       "      <th>568054</th>\n",
       "      <td>593020</td>\n",
       "      <td>2016</td>\n",
       "      <td>19.367969</td>\n",
       "      <td>NaN</td>\n",
       "      <td>NaN</td>\n",
       "      <td>NaN</td>\n",
       "      <td>NaN</td>\n",
       "      <td>NaN</td>\n",
       "      <td>NaN</td>\n",
       "      <td>NaN</td>\n",
       "    </tr>\n",
       "    <tr>\n",
       "      <th>47529</th>\n",
       "      <td>49595</td>\n",
       "      <td>2017</td>\n",
       "      <td>19.370665</td>\n",
       "      <td>NaN</td>\n",
       "      <td>NaN</td>\n",
       "      <td>NaN</td>\n",
       "      <td>NaN</td>\n",
       "      <td>NaN</td>\n",
       "      <td>NaN</td>\n",
       "      <td>NaN</td>\n",
       "    </tr>\n",
       "  </tbody>\n",
       "</table>\n",
       "</div>"
      ],
      "text/plain": [
       "            id  ao_inicio    latitud  Unnamed: 19  Unnamed: 20  Unnamed: 21  \\\n",
       "102735  107234       2018  19.359703          NaN          NaN          NaN   \n",
       "37003    38610       2016  19.455448          NaN          NaN          NaN   \n",
       "625660  653209       2018  19.369520          NaN          NaN          NaN   \n",
       "290489  303282       2017  19.384822          NaN          NaN          NaN   \n",
       "116381  121502       2016  19.439283          NaN          NaN          NaN   \n",
       "627590  655234       2016  19.257385          NaN          NaN          NaN   \n",
       "707165  738274       2016  19.449336          NaN          NaN          NaN   \n",
       "27890    29083       2018  19.417519          NaN          NaN          NaN   \n",
       "568054  593020       2016  19.367969          NaN          NaN          NaN   \n",
       "47529    49595       2017  19.370665          NaN          NaN          NaN   \n",
       "\n",
       "        Unnamed: 22  Unnamed: 23  Unnamed: 24  Unnamed: 25  \n",
       "102735          NaN          NaN          NaN          NaN  \n",
       "37003           NaN          NaN          NaN          NaN  \n",
       "625660          NaN          NaN          NaN          NaN  \n",
       "290489          NaN          NaN          NaN          NaN  \n",
       "116381          NaN          NaN          NaN          NaN  \n",
       "627590          NaN          NaN          NaN          NaN  \n",
       "707165          NaN          NaN          NaN          NaN  \n",
       "27890           NaN          NaN          NaN          NaN  \n",
       "568054          NaN          NaN          NaN          NaN  \n",
       "47529           NaN          NaN          NaN          NaN  "
      ]
     },
     "execution_count": 5,
     "metadata": {},
     "output_type": "execute_result"
    }
   ],
   "source": [
    "df.select_dtypes(include=['int64',\"float64\"]).sample(10)"
   ]
  },
  {
   "cell_type": "code",
   "execution_count": 6,
   "id": "aedca755-4369-4420-9bef-ee1ad45c62b8",
   "metadata": {
    "tags": []
   },
   "outputs": [],
   "source": [
    "#se procede a eliminar columnas unnamed se ha verificado que son campos sin valores\n",
    "df = df.drop(columns=[\"Unnamed: 19\",\"Unnamed: 20\",\"Unnamed: 21\",\"Unnamed: 22\",\"Unnamed: 23\",\"Unnamed: 24\",\"Unnamed: 25\"])"
   ]
  },
  {
   "cell_type": "code",
   "execution_count": 7,
   "id": "2c667c69-6b51-4fad-a152-65f7da0e6ade",
   "metadata": {
    "tags": []
   },
   "outputs": [
    {
     "name": "stdout",
     "output_type": "stream",
     "text": [
      "<class 'pandas.core.frame.DataFrame'>\n",
      "RangeIndex: 774952 entries, 0 to 774951\n",
      "Data columns (total 19 columns):\n",
      " #   Column                Non-Null Count   Dtype  \n",
      "---  ------                --------------   -----  \n",
      " 0   id                    774952 non-null  int64  \n",
      " 1   ao_hechos             774952 non-null  object \n",
      " 2   mes_hechos            774952 non-null  object \n",
      " 3   fecha_hechos          774952 non-null  object \n",
      " 4   delito                774952 non-null  object \n",
      " 5   categoria_delito      774952 non-null  object \n",
      " 6   fiscalia              774952 non-null  object \n",
      " 7   agencia               774952 non-null  object \n",
      " 8   unidad_investigacion  774952 non-null  object \n",
      " 9   colonia_hechos        774952 non-null  object \n",
      " 10  alcaldia_hechos       774952 non-null  object \n",
      " 11  fecha_inicio          774952 non-null  object \n",
      " 12  mes_inicio            774952 non-null  object \n",
      " 13  ao_inicio             774952 non-null  int64  \n",
      " 14  calle_hechos          774952 non-null  object \n",
      " 15  calle_hechos2         313676 non-null  object \n",
      " 16  longitud              774951 non-null  object \n",
      " 17  latitud               774952 non-null  float64\n",
      " 18  geopoint              774952 non-null  object \n",
      "dtypes: float64(1), int64(2), object(16)\n",
      "memory usage: 112.3+ MB\n"
     ]
    }
   ],
   "source": [
    "df.info()"
   ]
  },
  {
   "cell_type": "code",
   "execution_count": 8,
   "id": "40081ab0-2b7d-496c-bb6a-de28f4bf67c1",
   "metadata": {
    "tags": []
   },
   "outputs": [
    {
     "data": {
      "text/html": [
       "<div>\n",
       "<style scoped>\n",
       "    .dataframe tbody tr th:only-of-type {\n",
       "        vertical-align: middle;\n",
       "    }\n",
       "\n",
       "    .dataframe tbody tr th {\n",
       "        vertical-align: top;\n",
       "    }\n",
       "\n",
       "    .dataframe thead th {\n",
       "        text-align: right;\n",
       "    }\n",
       "</style>\n",
       "<table border=\"1\" class=\"dataframe\">\n",
       "  <thead>\n",
       "    <tr style=\"text-align: right;\">\n",
       "      <th></th>\n",
       "      <th>ao_hechos</th>\n",
       "      <th>mes_hechos</th>\n",
       "      <th>fecha_hechos</th>\n",
       "      <th>delito</th>\n",
       "      <th>categoria_delito</th>\n",
       "      <th>fiscalia</th>\n",
       "      <th>agencia</th>\n",
       "      <th>unidad_investigacion</th>\n",
       "      <th>colonia_hechos</th>\n",
       "      <th>alcaldia_hechos</th>\n",
       "      <th>fecha_inicio</th>\n",
       "      <th>mes_inicio</th>\n",
       "      <th>calle_hechos</th>\n",
       "      <th>calle_hechos2</th>\n",
       "      <th>longitud</th>\n",
       "      <th>geopoint</th>\n",
       "    </tr>\n",
       "  </thead>\n",
       "  <tbody>\n",
       "    <tr>\n",
       "      <th>524108</th>\n",
       "      <td>2019</td>\n",
       "      <td>Marzo</td>\n",
       "      <td>2019-03-11 18:35:00</td>\n",
       "      <td>FALSIFICACION DE DOCUMENTOS</td>\n",
       "      <td>DELITO DE BAJO IMPACTO</td>\n",
       "      <td>INVESTIGACIÃN EN MIGUEL HIDALGO</td>\n",
       "      <td>MH-5</td>\n",
       "      <td>UI-1CD</td>\n",
       "      <td>POLANCO</td>\n",
       "      <td>MIGUEL HIDALGO</td>\n",
       "      <td>2019-03-11 20:31:07</td>\n",
       "      <td>Marzo</td>\n",
       "      <td>MOLIERE</td>\n",
       "      <td>HOMERO</td>\n",
       "      <td>-99.2021178196577</td>\n",
       "      <td>19.4357378734,-99.2021178197</td>\n",
       "    </tr>\n",
       "    <tr>\n",
       "      <th>700352</th>\n",
       "      <td>2018</td>\n",
       "      <td>Octubre</td>\n",
       "      <td>2018-10-06 19:10:00</td>\n",
       "      <td>ROBO DE DINERO</td>\n",
       "      <td>DELITO DE BAJO IMPACTO</td>\n",
       "      <td>INVESTIGACIÃN EN TLALPAN</td>\n",
       "      <td>TLP-4</td>\n",
       "      <td>UI-1CD</td>\n",
       "      <td>EX HACIENDA SAN JUAN DE DIOS</td>\n",
       "      <td>TLALPAN</td>\n",
       "      <td>2018-10-06 22:36:15</td>\n",
       "      <td>Octubre</td>\n",
       "      <td>AV. DIVISION DEL NORTE</td>\n",
       "      <td>NaN</td>\n",
       "      <td>-99.130009</td>\n",
       "      <td>19.2898406214,-99.1300088402</td>\n",
       "    </tr>\n",
       "    <tr>\n",
       "      <th>36168</th>\n",
       "      <td>2017</td>\n",
       "      <td>Abril</td>\n",
       "      <td>2017-04-13 08:00:00</td>\n",
       "      <td>ROBO DE OBJETOS DEL INTERIOR DE UN VEHICULO</td>\n",
       "      <td>DELITO DE BAJO IMPACTO</td>\n",
       "      <td>INVESTIGACIÃN EN IZTACALCO</td>\n",
       "      <td>IZC-1</td>\n",
       "      <td>UI-3SD</td>\n",
       "      <td>SANTA ANITA</td>\n",
       "      <td>IZTACALCO</td>\n",
       "      <td>2017-04-25 13:59:18</td>\n",
       "      <td>Abril</td>\n",
       "      <td>EMILIANO ZAPATA</td>\n",
       "      <td>HIDALGO</td>\n",
       "      <td>-99.124054</td>\n",
       "      <td>19.4005258297,-99.1240539614</td>\n",
       "    </tr>\n",
       "    <tr>\n",
       "      <th>625374</th>\n",
       "      <td>2018</td>\n",
       "      <td>Julio</td>\n",
       "      <td>2018-07-11 13:30:00</td>\n",
       "      <td>ROBO A CASA HABITACION SIN VIOLENCIA</td>\n",
       "      <td>DELITO DE BAJO IMPACTO</td>\n",
       "      <td>INVESTIGACIÃN EN CUAUHTEMOC</td>\n",
       "      <td>CUH-3</td>\n",
       "      <td>UI-2SD</td>\n",
       "      <td>MORELOS</td>\n",
       "      <td>CUAUHTEMOC</td>\n",
       "      <td>2018-07-12 18:39:21</td>\n",
       "      <td>Julio</td>\n",
       "      <td>CONSTANCIA</td>\n",
       "      <td>NaN</td>\n",
       "      <td>-99.12771</td>\n",
       "      <td>19.4496287828,-99.1277099834</td>\n",
       "    </tr>\n",
       "    <tr>\n",
       "      <th>713528</th>\n",
       "      <td>2016</td>\n",
       "      <td>Enero</td>\n",
       "      <td>2016-01-05 12:00:00</td>\n",
       "      <td>DENUNCIA DE HECHOS</td>\n",
       "      <td>HECHO NO DELICTIVO</td>\n",
       "      <td>INVESTIGACIÃN EN GUSTAVO A. MADERO</td>\n",
       "      <td>GAM-5</td>\n",
       "      <td>UI-3CD</td>\n",
       "      <td>GABRIEL HERNÃNDEZ</td>\n",
       "      <td>GUSTAVO A MADERO</td>\n",
       "      <td>2016-10-22 01:39:27</td>\n",
       "      <td>Octubre</td>\n",
       "      <td>CABO SAN ANTONIO</td>\n",
       "      <td>CABO HORNOS</td>\n",
       "      <td>-99.099571</td>\n",
       "      <td>19.4984781098,-99.0995707132</td>\n",
       "    </tr>\n",
       "  </tbody>\n",
       "</table>\n",
       "</div>"
      ],
      "text/plain": [
       "       ao_hechos mes_hechos         fecha_hechos  \\\n",
       "524108      2019      Marzo  2019-03-11 18:35:00   \n",
       "700352      2018    Octubre  2018-10-06 19:10:00   \n",
       "36168       2017      Abril  2017-04-13 08:00:00   \n",
       "625374      2018      Julio  2018-07-11 13:30:00   \n",
       "713528      2016      Enero  2016-01-05 12:00:00   \n",
       "\n",
       "                                             delito        categoria_delito  \\\n",
       "524108                  FALSIFICACION DE DOCUMENTOS  DELITO DE BAJO IMPACTO   \n",
       "700352                               ROBO DE DINERO  DELITO DE BAJO IMPACTO   \n",
       "36168   ROBO DE OBJETOS DEL INTERIOR DE UN VEHICULO  DELITO DE BAJO IMPACTO   \n",
       "625374         ROBO A CASA HABITACION SIN VIOLENCIA  DELITO DE BAJO IMPACTO   \n",
       "713528                           DENUNCIA DE HECHOS      HECHO NO DELICTIVO   \n",
       "\n",
       "                                   fiscalia agencia unidad_investigacion  \\\n",
       "524108     INVESTIGACIÃN EN MIGUEL HIDALGO    MH-5               UI-1CD   \n",
       "700352            INVESTIGACIÃN EN TLALPAN   TLP-4               UI-1CD   \n",
       "36168           INVESTIGACIÃN EN IZTACALCO   IZC-1               UI-3SD   \n",
       "625374         INVESTIGACIÃN EN CUAUHTEMOC   CUH-3               UI-2SD   \n",
       "713528  INVESTIGACIÃN EN GUSTAVO A. MADERO   GAM-5               UI-3CD   \n",
       "\n",
       "                      colonia_hechos   alcaldia_hechos         fecha_inicio  \\\n",
       "524108                       POLANCO    MIGUEL HIDALGO  2019-03-11 20:31:07   \n",
       "700352  EX HACIENDA SAN JUAN DE DIOS           TLALPAN  2018-10-06 22:36:15   \n",
       "36168                    SANTA ANITA         IZTACALCO  2017-04-25 13:59:18   \n",
       "625374                       MORELOS        CUAUHTEMOC  2018-07-12 18:39:21   \n",
       "713528            GABRIEL HERNÃNDEZ  GUSTAVO A MADERO  2016-10-22 01:39:27   \n",
       "\n",
       "       mes_inicio            calle_hechos calle_hechos2           longitud  \\\n",
       "524108      Marzo                 MOLIERE        HOMERO  -99.2021178196577   \n",
       "700352    Octubre  AV. DIVISION DEL NORTE           NaN         -99.130009   \n",
       "36168       Abril         EMILIANO ZAPATA       HIDALGO         -99.124054   \n",
       "625374      Julio              CONSTANCIA           NaN          -99.12771   \n",
       "713528    Octubre        CABO SAN ANTONIO   CABO HORNOS         -99.099571   \n",
       "\n",
       "                            geopoint  \n",
       "524108  19.4357378734,-99.2021178197  \n",
       "700352  19.2898406214,-99.1300088402  \n",
       "36168   19.4005258297,-99.1240539614  \n",
       "625374  19.4496287828,-99.1277099834  \n",
       "713528  19.4984781098,-99.0995707132  "
      ]
     },
     "execution_count": 8,
     "metadata": {},
     "output_type": "execute_result"
    }
   ],
   "source": [
    "df.select_dtypes(exclude=['int64',\"float64\"]).sample(5)"
   ]
  },
  {
   "cell_type": "code",
   "execution_count": 9,
   "id": "bea91fbc-ec2d-41c3-8c7d-3416fa246934",
   "metadata": {
    "tags": []
   },
   "outputs": [],
   "source": [
    "#Prefijos para los tipos de variables\n",
    "#La siguiente nomenclatura se trabajara en el módulo\n",
    "# \"c_\"  - Variables numericas : Discretas y continuas\n",
    "# \"v_\"  - Variables categoricas\n",
    "# \"d_\"  - Variables tipo fecha\n",
    "# \"t_\"  - Variables de texto : comentarios, descripciones, url\n",
    "# \"g_\"  - Variables geograficas\n",
    "\n",
    "\n",
    "c_feats=[\"id\",\"ao_hechos\"]\n",
    "v_feats=[\"mes_hechos\",\"delito\",\"categoria_delito\",\"fiscalia\",\"agencia\",\"unidad_investigacion\",\"colonia_hechos\",\"alcaldia_hechos\",\"mes_inicio\"]\n",
    "d_feats=[\"fecha_hechos\",\"fecha_inicio\"]\n",
    "t_feats=[\"calle_hechos\",\"calle_hechos2\"]\n",
    "g_feats=[\"longitud\",\"latitud\",\"geopoint\"]"
   ]
  },
  {
   "cell_type": "markdown",
   "id": "f3bad4eb-705a-4bf6-8ed8-4eb83744b536",
   "metadata": {},
   "source": [
    "# Etiquetar variables"
   ]
  },
  {
   "cell_type": "code",
   "execution_count": 10,
   "id": "d1ae3b5b-1453-4178-ba82-7852b141620c",
   "metadata": {
    "tags": []
   },
   "outputs": [],
   "source": [
    "c_feats_new=[\"c_\"+x for x in c_feats]\n",
    "v_feats_new=[\"v_\"+x for x in v_feats]\n",
    "d_feats_new=[\"d_\"+x for x in d_feats]\n",
    "t_feats_new=[\"t_\"+x for x in t_feats]\n",
    "g_feats_new=[\"g_\"+x for x in g_feats]"
   ]
  },
  {
   "cell_type": "code",
   "execution_count": 11,
   "id": "8428e6a2-6bb0-4699-8ce6-3d267e626c44",
   "metadata": {
    "tags": []
   },
   "outputs": [],
   "source": [
    "df.rename(columns=dict(zip(d_feats,d_feats_new)),inplace=True)\n",
    "df.rename(columns=dict(zip(v_feats,v_feats_new)),inplace=True)\n",
    "df.rename(columns=dict(zip(t_feats,t_feats_new)),inplace=True)\n",
    "df.rename(columns=dict(zip(c_feats,c_feats_new)),inplace=True)\n",
    "df.rename(columns=dict(zip(g_feats,g_feats_new)),inplace=True)"
   ]
  },
  {
   "cell_type": "code",
   "execution_count": 12,
   "id": "747992eb-a29c-4cc1-aa7b-78da2b1eb128",
   "metadata": {
    "tags": []
   },
   "outputs": [
    {
     "data": {
      "text/html": [
       "<div>\n",
       "<style scoped>\n",
       "    .dataframe tbody tr th:only-of-type {\n",
       "        vertical-align: middle;\n",
       "    }\n",
       "\n",
       "    .dataframe tbody tr th {\n",
       "        vertical-align: top;\n",
       "    }\n",
       "\n",
       "    .dataframe thead th {\n",
       "        text-align: right;\n",
       "    }\n",
       "</style>\n",
       "<table border=\"1\" class=\"dataframe\">\n",
       "  <thead>\n",
       "    <tr style=\"text-align: right;\">\n",
       "      <th></th>\n",
       "      <th>c_id</th>\n",
       "      <th>c_ao_hechos</th>\n",
       "    </tr>\n",
       "  </thead>\n",
       "  <tbody>\n",
       "    <tr>\n",
       "      <th>0</th>\n",
       "      <td>0</td>\n",
       "      <td>2016</td>\n",
       "    </tr>\n",
       "    <tr>\n",
       "      <th>1</th>\n",
       "      <td>2</td>\n",
       "      <td>2017</td>\n",
       "    </tr>\n",
       "    <tr>\n",
       "      <th>2</th>\n",
       "      <td>3</td>\n",
       "      <td>2015</td>\n",
       "    </tr>\n",
       "    <tr>\n",
       "      <th>3</th>\n",
       "      <td>4</td>\n",
       "      <td>2018</td>\n",
       "    </tr>\n",
       "    <tr>\n",
       "      <th>4</th>\n",
       "      <td>5</td>\n",
       "      <td>2018</td>\n",
       "    </tr>\n",
       "    <tr>\n",
       "      <th>...</th>\n",
       "      <td>...</td>\n",
       "      <td>...</td>\n",
       "    </tr>\n",
       "    <tr>\n",
       "      <th>774947</th>\n",
       "      <td>808866</td>\n",
       "      <td>2018</td>\n",
       "    </tr>\n",
       "    <tr>\n",
       "      <th>774948</th>\n",
       "      <td>808867</td>\n",
       "      <td>2018</td>\n",
       "    </tr>\n",
       "    <tr>\n",
       "      <th>774949</th>\n",
       "      <td>808868</td>\n",
       "      <td>2019</td>\n",
       "    </tr>\n",
       "    <tr>\n",
       "      <th>774950</th>\n",
       "      <td>808869</td>\n",
       "      <td>2019</td>\n",
       "    </tr>\n",
       "    <tr>\n",
       "      <th>774951</th>\n",
       "      <td>808870</td>\n",
       "      <td>2017</td>\n",
       "    </tr>\n",
       "  </tbody>\n",
       "</table>\n",
       "<p>774952 rows × 2 columns</p>\n",
       "</div>"
      ],
      "text/plain": [
       "          c_id c_ao_hechos\n",
       "0            0        2016\n",
       "1            2        2017\n",
       "2            3        2015\n",
       "3            4        2018\n",
       "4            5        2018\n",
       "...        ...         ...\n",
       "774947  808866        2018\n",
       "774948  808867        2018\n",
       "774949  808868        2019\n",
       "774950  808869        2019\n",
       "774951  808870        2017\n",
       "\n",
       "[774952 rows x 2 columns]"
      ]
     },
     "execution_count": 12,
     "metadata": {},
     "output_type": "execute_result"
    }
   ],
   "source": [
    "df.filter(like=\"c_\")"
   ]
  },
  {
   "cell_type": "markdown",
   "id": "d3824bde-3856-4898-901d-a452a766ce8c",
   "metadata": {
    "tags": []
   },
   "source": [
    "# DUPLICADOS"
   ]
  },
  {
   "cell_type": "markdown",
   "id": "87ef9687-0831-43ee-8f9d-00402b0db9b6",
   "metadata": {},
   "source": [
    "## Duplicados en general"
   ]
  },
  {
   "cell_type": "code",
   "execution_count": 13,
   "id": "4e83b36a-1584-4771-92e1-3271e16a3d01",
   "metadata": {
    "tags": []
   },
   "outputs": [
    {
     "data": {
      "text/html": [
       "<div>\n",
       "<style scoped>\n",
       "    .dataframe tbody tr th:only-of-type {\n",
       "        vertical-align: middle;\n",
       "    }\n",
       "\n",
       "    .dataframe tbody tr th {\n",
       "        vertical-align: top;\n",
       "    }\n",
       "\n",
       "    .dataframe thead th {\n",
       "        text-align: right;\n",
       "    }\n",
       "</style>\n",
       "<table border=\"1\" class=\"dataframe\">\n",
       "  <thead>\n",
       "    <tr style=\"text-align: right;\">\n",
       "      <th></th>\n",
       "      <th>c_id</th>\n",
       "      <th>c_ao_hechos</th>\n",
       "      <th>v_mes_hechos</th>\n",
       "      <th>d_fecha_hechos</th>\n",
       "      <th>v_delito</th>\n",
       "      <th>v_categoria_delito</th>\n",
       "      <th>v_fiscalia</th>\n",
       "      <th>v_agencia</th>\n",
       "      <th>v_unidad_investigacion</th>\n",
       "      <th>v_colonia_hechos</th>\n",
       "      <th>v_alcaldia_hechos</th>\n",
       "      <th>d_fecha_inicio</th>\n",
       "      <th>v_mes_inicio</th>\n",
       "      <th>ao_inicio</th>\n",
       "      <th>t_calle_hechos</th>\n",
       "      <th>t_calle_hechos2</th>\n",
       "      <th>g_longitud</th>\n",
       "      <th>g_latitud</th>\n",
       "      <th>g_geopoint</th>\n",
       "    </tr>\n",
       "  </thead>\n",
       "  <tbody>\n",
       "    <tr>\n",
       "      <th>0</th>\n",
       "      <td>0</td>\n",
       "      <td>2016</td>\n",
       "      <td>Enero</td>\n",
       "      <td>2016-01-05 17:00:00</td>\n",
       "      <td>LESIONES CULPOSAS</td>\n",
       "      <td>DELITO DE BAJO IMPACTO</td>\n",
       "      <td>INVESTIGACIÃN EN GUSTAVO A. MADERO</td>\n",
       "      <td>GAM-6</td>\n",
       "      <td>UI-1CD</td>\n",
       "      <td>GRANJAS MODERNAS</td>\n",
       "      <td>GUSTAVO A MADERO</td>\n",
       "      <td>2016-01-05 18:35:37</td>\n",
       "      <td>Enero</td>\n",
       "      <td>2016</td>\n",
       "      <td>SAN JUAN DE ARAGON</td>\n",
       "      <td>CALLE ANZAR</td>\n",
       "      <td>-99.103527</td>\n",
       "      <td>19.481076</td>\n",
       "      <td>19.4810759998,-99.103527</td>\n",
       "    </tr>\n",
       "    <tr>\n",
       "      <th>1</th>\n",
       "      <td>2</td>\n",
       "      <td>2017</td>\n",
       "      <td>Noviembre</td>\n",
       "      <td>2017-11-01 16:40:00</td>\n",
       "      <td>ROBO A TRANSEUNTE EN VIA PUBLICA CON VIOLENCIA</td>\n",
       "      <td>ROBO A TRANSEUNTE EN VÃA PÃBLICA CON Y SIN V...</td>\n",
       "      <td>INVESTIGACIÃN EN IZTACALCO</td>\n",
       "      <td>IZC-2</td>\n",
       "      <td>UI-1SD</td>\n",
       "      <td>GABRIEL RAMOS MILLÃN SECCIÃN TLACOTAL</td>\n",
       "      <td>IZTACALCO</td>\n",
       "      <td>2017-11-01 16:56:04</td>\n",
       "      <td>Noviembre</td>\n",
       "      <td>2017</td>\n",
       "      <td>SUR 117</td>\n",
       "      <td>ORIENTE 100A</td>\n",
       "      <td>-99.106072</td>\n",
       "      <td>19.395398</td>\n",
       "      <td>19.3953976727,-99.1060723829</td>\n",
       "    </tr>\n",
       "    <tr>\n",
       "      <th>2</th>\n",
       "      <td>3</td>\n",
       "      <td>2015</td>\n",
       "      <td>Diciembre</td>\n",
       "      <td>2015-12-30 20:00:00</td>\n",
       "      <td>FRAUDE</td>\n",
       "      <td>DELITO DE BAJO IMPACTO</td>\n",
       "      <td>INVESTIGACIÃN EN IZTAPALAPA</td>\n",
       "      <td>IZP-8</td>\n",
       "      <td>UI-1CD</td>\n",
       "      <td>CONSEJO AGRARISTA MEXICANO</td>\n",
       "      <td>IZTAPALAPA</td>\n",
       "      <td>2016-01-05 21:12:42</td>\n",
       "      <td>Enero</td>\n",
       "      <td>2016</td>\n",
       "      <td>CUARTA CERRADA DE FRESNO</td>\n",
       "      <td>ENCINO (SIN REGISTRO DEL SAP)</td>\n",
       "      <td>-99.055887</td>\n",
       "      <td>19.322458</td>\n",
       "      <td>19.3224579998,-99.055887</td>\n",
       "    </tr>\n",
       "    <tr>\n",
       "      <th>3</th>\n",
       "      <td>4</td>\n",
       "      <td>2018</td>\n",
       "      <td>Mayo</td>\n",
       "      <td>2018-05-16 16:00:00</td>\n",
       "      <td>ROBO A REPARTIDOR CON VIOLENCIA</td>\n",
       "      <td>ROBO A REPARTIDOR CON Y SIN VIOLENCIA</td>\n",
       "      <td>INVESTIGACIÃN EN IZTAPALAPA</td>\n",
       "      <td>IZP-9</td>\n",
       "      <td>UI-2SD</td>\n",
       "      <td>DESARROLLO URBANO QUETZALCOATL</td>\n",
       "      <td>IZTAPALAPA</td>\n",
       "      <td>2018-05-22 10:44:45</td>\n",
       "      <td>Mayo</td>\n",
       "      <td>2018</td>\n",
       "      <td>TARASCO</td>\n",
       "      <td>ZAPOTECO</td>\n",
       "      <td>-99.042786</td>\n",
       "      <td>19.319141</td>\n",
       "      <td>19.3191405147,-99.0427862526</td>\n",
       "    </tr>\n",
       "    <tr>\n",
       "      <th>4</th>\n",
       "      <td>5</td>\n",
       "      <td>2018</td>\n",
       "      <td>Mayo</td>\n",
       "      <td>2018-05-21 20:40:00</td>\n",
       "      <td>ROBO A TRANSEUNTE DE CELULAR CON VIOLENCIA</td>\n",
       "      <td>DELITO DE BAJO IMPACTO</td>\n",
       "      <td>INVESTIGACIÃN EN CUAUHTEMOC</td>\n",
       "      <td>CUH-2</td>\n",
       "      <td>UI-2SD</td>\n",
       "      <td>INFONAVIT IZTACALCO</td>\n",
       "      <td>IZTACALCO</td>\n",
       "      <td>2018-05-22 10:52:18</td>\n",
       "      <td>Mayo</td>\n",
       "      <td>2018</td>\n",
       "      <td>FRANCISCO DEL PASO Y TRONCOSO</td>\n",
       "      <td>ISLA</td>\n",
       "      <td>-99.111563</td>\n",
       "      <td>19.386594</td>\n",
       "      <td>19.3865939284,-99.1115626682</td>\n",
       "    </tr>\n",
       "  </tbody>\n",
       "</table>\n",
       "</div>"
      ],
      "text/plain": [
       "   c_id c_ao_hechos v_mes_hechos       d_fecha_hechos  \\\n",
       "0     0        2016        Enero  2016-01-05 17:00:00   \n",
       "1     2        2017    Noviembre  2017-11-01 16:40:00   \n",
       "2     3        2015    Diciembre  2015-12-30 20:00:00   \n",
       "3     4        2018         Mayo  2018-05-16 16:00:00   \n",
       "4     5        2018         Mayo  2018-05-21 20:40:00   \n",
       "\n",
       "                                         v_delito  \\\n",
       "0                               LESIONES CULPOSAS   \n",
       "1  ROBO A TRANSEUNTE EN VIA PUBLICA CON VIOLENCIA   \n",
       "2                                          FRAUDE   \n",
       "3                 ROBO A REPARTIDOR CON VIOLENCIA   \n",
       "4      ROBO A TRANSEUNTE DE CELULAR CON VIOLENCIA   \n",
       "\n",
       "                                  v_categoria_delito  \\\n",
       "0                             DELITO DE BAJO IMPACTO   \n",
       "1  ROBO A TRANSEUNTE EN VÃA PÃBLICA CON Y SIN V...   \n",
       "2                             DELITO DE BAJO IMPACTO   \n",
       "3              ROBO A REPARTIDOR CON Y SIN VIOLENCIA   \n",
       "4                             DELITO DE BAJO IMPACTO   \n",
       "\n",
       "                            v_fiscalia v_agencia v_unidad_investigacion  \\\n",
       "0  INVESTIGACIÃN EN GUSTAVO A. MADERO     GAM-6                 UI-1CD   \n",
       "1          INVESTIGACIÃN EN IZTACALCO     IZC-2                 UI-1SD   \n",
       "2         INVESTIGACIÃN EN IZTAPALAPA     IZP-8                 UI-1CD   \n",
       "3         INVESTIGACIÃN EN IZTAPALAPA     IZP-9                 UI-2SD   \n",
       "4         INVESTIGACIÃN EN CUAUHTEMOC     CUH-2                 UI-2SD   \n",
       "\n",
       "                          v_colonia_hechos v_alcaldia_hechos  \\\n",
       "0                         GRANJAS MODERNAS  GUSTAVO A MADERO   \n",
       "1  GABRIEL RAMOS MILLÃN SECCIÃN TLACOTAL         IZTACALCO   \n",
       "2               CONSEJO AGRARISTA MEXICANO        IZTAPALAPA   \n",
       "3           DESARROLLO URBANO QUETZALCOATL        IZTAPALAPA   \n",
       "4                      INFONAVIT IZTACALCO         IZTACALCO   \n",
       "\n",
       "        d_fecha_inicio v_mes_inicio  ao_inicio                 t_calle_hechos  \\\n",
       "0  2016-01-05 18:35:37        Enero       2016             SAN JUAN DE ARAGON   \n",
       "1  2017-11-01 16:56:04    Noviembre       2017                        SUR 117   \n",
       "2  2016-01-05 21:12:42        Enero       2016       CUARTA CERRADA DE FRESNO   \n",
       "3  2018-05-22 10:44:45         Mayo       2018                        TARASCO   \n",
       "4  2018-05-22 10:52:18         Mayo       2018  FRANCISCO DEL PASO Y TRONCOSO   \n",
       "\n",
       "                 t_calle_hechos2 g_longitud  g_latitud  \\\n",
       "0                    CALLE ANZAR -99.103527  19.481076   \n",
       "1                   ORIENTE 100A -99.106072  19.395398   \n",
       "2  ENCINO (SIN REGISTRO DEL SAP) -99.055887  19.322458   \n",
       "3                       ZAPOTECO -99.042786  19.319141   \n",
       "4                           ISLA -99.111563  19.386594   \n",
       "\n",
       "                     g_geopoint  \n",
       "0      19.4810759998,-99.103527  \n",
       "1  19.3953976727,-99.1060723829  \n",
       "2      19.3224579998,-99.055887  \n",
       "3  19.3191405147,-99.0427862526  \n",
       "4  19.3865939284,-99.1115626682  "
      ]
     },
     "execution_count": 13,
     "metadata": {},
     "output_type": "execute_result"
    }
   ],
   "source": [
    "#Duplicados en general\n",
    "n_rows=df.shape[0]\n",
    "df.head()\n"
   ]
  },
  {
   "cell_type": "code",
   "execution_count": 14,
   "id": "b2bc9ec2-41cd-4ffd-9d0f-e33a46cee01e",
   "metadata": {
    "tags": []
   },
   "outputs": [
    {
     "data": {
      "text/plain": [
       "0         False\n",
       "1         False\n",
       "2         False\n",
       "3         False\n",
       "4         False\n",
       "          ...  \n",
       "774947    False\n",
       "774948    False\n",
       "774949    False\n",
       "774950    False\n",
       "774951    False\n",
       "Length: 774952, dtype: bool"
      ]
     },
     "execution_count": 14,
     "metadata": {},
     "output_type": "execute_result"
    }
   ],
   "source": [
    "df.duplicated()"
   ]
  },
  {
   "cell_type": "code",
   "execution_count": 15,
   "id": "26dc210e-8646-44a2-a3c2-850ad97b8fe7",
   "metadata": {
    "tags": []
   },
   "outputs": [
    {
     "data": {
      "text/html": [
       "<div>\n",
       "<style scoped>\n",
       "    .dataframe tbody tr th:only-of-type {\n",
       "        vertical-align: middle;\n",
       "    }\n",
       "\n",
       "    .dataframe tbody tr th {\n",
       "        vertical-align: top;\n",
       "    }\n",
       "\n",
       "    .dataframe thead th {\n",
       "        text-align: right;\n",
       "    }\n",
       "</style>\n",
       "<table border=\"1\" class=\"dataframe\">\n",
       "  <thead>\n",
       "    <tr style=\"text-align: right;\">\n",
       "      <th></th>\n",
       "      <th>c_id</th>\n",
       "      <th>c_ao_hechos</th>\n",
       "      <th>v_mes_hechos</th>\n",
       "      <th>d_fecha_hechos</th>\n",
       "      <th>v_delito</th>\n",
       "      <th>v_categoria_delito</th>\n",
       "      <th>v_fiscalia</th>\n",
       "      <th>v_agencia</th>\n",
       "      <th>v_unidad_investigacion</th>\n",
       "      <th>v_colonia_hechos</th>\n",
       "      <th>v_alcaldia_hechos</th>\n",
       "      <th>d_fecha_inicio</th>\n",
       "      <th>v_mes_inicio</th>\n",
       "      <th>ao_inicio</th>\n",
       "      <th>t_calle_hechos</th>\n",
       "      <th>t_calle_hechos2</th>\n",
       "      <th>g_longitud</th>\n",
       "      <th>g_latitud</th>\n",
       "      <th>g_geopoint</th>\n",
       "    </tr>\n",
       "  </thead>\n",
       "  <tbody>\n",
       "  </tbody>\n",
       "</table>\n",
       "</div>"
      ],
      "text/plain": [
       "Empty DataFrame\n",
       "Columns: [c_id, c_ao_hechos, v_mes_hechos, d_fecha_hechos, v_delito, v_categoria_delito, v_fiscalia, v_agencia, v_unidad_investigacion, v_colonia_hechos, v_alcaldia_hechos, d_fecha_inicio, v_mes_inicio, ao_inicio, t_calle_hechos, t_calle_hechos2, g_longitud, g_latitud, g_geopoint]\n",
       "Index: []"
      ]
     },
     "execution_count": 15,
     "metadata": {},
     "output_type": "execute_result"
    }
   ],
   "source": [
    "df[df.duplicated()]"
   ]
  },
  {
   "cell_type": "code",
   "execution_count": 16,
   "id": "a52b8635-e5d2-4163-ad0a-54b6676c3d45",
   "metadata": {
    "tags": []
   },
   "outputs": [
    {
     "data": {
      "text/plain": [
       "(774952, 19)"
      ]
     },
     "execution_count": 16,
     "metadata": {},
     "output_type": "execute_result"
    }
   ],
   "source": [
    "df.shape"
   ]
  },
  {
   "cell_type": "code",
   "execution_count": 17,
   "id": "91d7830f-2781-44c5-9e0c-14fc3cd2bf52",
   "metadata": {
    "tags": []
   },
   "outputs": [
    {
     "data": {
      "text/plain": [
       "0"
      ]
     },
     "execution_count": 17,
     "metadata": {},
     "output_type": "execute_result"
    }
   ],
   "source": [
    "df.duplicated().sum()#Total de registros duplicados"
   ]
  },
  {
   "cell_type": "markdown",
   "id": "ef8e2a54-bf92-4c7f-aa2a-76035d7c9b29",
   "metadata": {},
   "source": [
    "## Duplicados por unidad muestral (ID)"
   ]
  },
  {
   "cell_type": "code",
   "execution_count": 18,
   "id": "f6cc0c6f-1000-4a53-a113-68030e8015a3",
   "metadata": {
    "tags": []
   },
   "outputs": [
    {
     "data": {
      "text/plain": [
       "(774952, 19)"
      ]
     },
     "execution_count": 18,
     "metadata": {},
     "output_type": "execute_result"
    }
   ],
   "source": [
    "df.shape"
   ]
  },
  {
   "cell_type": "code",
   "execution_count": 19,
   "id": "95c37832-51f0-429e-8e85-23350996a780",
   "metadata": {
    "tags": []
   },
   "outputs": [
    {
     "data": {
      "text/html": [
       "<div>\n",
       "<style scoped>\n",
       "    .dataframe tbody tr th:only-of-type {\n",
       "        vertical-align: middle;\n",
       "    }\n",
       "\n",
       "    .dataframe tbody tr th {\n",
       "        vertical-align: top;\n",
       "    }\n",
       "\n",
       "    .dataframe thead th {\n",
       "        text-align: right;\n",
       "    }\n",
       "</style>\n",
       "<table border=\"1\" class=\"dataframe\">\n",
       "  <thead>\n",
       "    <tr style=\"text-align: right;\">\n",
       "      <th></th>\n",
       "      <th>c_id</th>\n",
       "      <th>c_ao_hechos</th>\n",
       "      <th>v_mes_hechos</th>\n",
       "      <th>d_fecha_hechos</th>\n",
       "      <th>v_delito</th>\n",
       "      <th>v_categoria_delito</th>\n",
       "      <th>v_fiscalia</th>\n",
       "      <th>v_agencia</th>\n",
       "      <th>v_unidad_investigacion</th>\n",
       "      <th>v_colonia_hechos</th>\n",
       "      <th>v_alcaldia_hechos</th>\n",
       "      <th>d_fecha_inicio</th>\n",
       "      <th>v_mes_inicio</th>\n",
       "      <th>ao_inicio</th>\n",
       "      <th>t_calle_hechos</th>\n",
       "      <th>t_calle_hechos2</th>\n",
       "      <th>g_longitud</th>\n",
       "      <th>g_latitud</th>\n",
       "      <th>g_geopoint</th>\n",
       "    </tr>\n",
       "  </thead>\n",
       "  <tbody>\n",
       "  </tbody>\n",
       "</table>\n",
       "</div>"
      ],
      "text/plain": [
       "Empty DataFrame\n",
       "Columns: [c_id, c_ao_hechos, v_mes_hechos, d_fecha_hechos, v_delito, v_categoria_delito, v_fiscalia, v_agencia, v_unidad_investigacion, v_colonia_hechos, v_alcaldia_hechos, d_fecha_inicio, v_mes_inicio, ao_inicio, t_calle_hechos, t_calle_hechos2, g_longitud, g_latitud, g_geopoint]\n",
       "Index: []"
      ]
     },
     "execution_count": 19,
     "metadata": {},
     "output_type": "execute_result"
    }
   ],
   "source": [
    "unidad_muestral = [\"c_id\"] \n",
    "df[df.duplicated(subset=unidad_muestral,keep=False)]"
   ]
  },
  {
   "cell_type": "markdown",
   "id": "7798b4c7-20fe-446d-8415-fffbcd4d44b0",
   "metadata": {
    "tags": []
   },
   "source": [
    "# Solo delitos que ocurrieron despues del 2013"
   ]
  },
  {
   "cell_type": "markdown",
   "id": "cad08405-485f-4605-98e3-695397720c0e",
   "metadata": {
    "tags": []
   },
   "source": [
    "## Limpieza variable c_ao_hechos"
   ]
  },
  {
   "cell_type": "code",
   "execution_count": 20,
   "id": "6dd40b81-6a28-404a-b117-616e80f709d6",
   "metadata": {
    "tags": []
   },
   "outputs": [
    {
     "data": {
      "text/plain": [
       "c_ao_hechos\n",
       "2018    220464\n",
       "2017    195552\n",
       "2016    168535\n",
       "2019    102565\n",
       "2017     20221\n",
       "         ...  \n",
       "2058         1\n",
       "1960         1\n",
       "1977         1\n",
       "1258         1\n",
       "1906         1\n",
       "Name: count, Length: 109, dtype: int64"
      ]
     },
     "execution_count": 20,
     "metadata": {},
     "output_type": "execute_result"
    }
   ],
   "source": [
    "df[\"c_ao_hechos\"].value_counts()"
   ]
  },
  {
   "cell_type": "markdown",
   "id": "d55d32d0-0dc0-4d77-8c9c-2da36d15be57",
   "metadata": {},
   "source": [
    "### ORDEN"
   ]
  },
  {
   "cell_type": "code",
   "execution_count": 21,
   "id": "ca7820ef-7465-478b-b58b-7a0aebff1aac",
   "metadata": {
    "tags": []
   },
   "outputs": [],
   "source": [
    "#convertir a nulos los valores diferentes de años\n",
    "df.loc[df[\"c_ao_hechos\"] == 'Febrero', \"c_ao_hechos\"] = 0\n",
    "df.loc[df[\"c_ao_hechos\"] == np.nan, \"c_ao_hechos\"] = 0\n",
    "df.loc[df[\"c_ao_hechos\"] == 'Junio', \"c_ao_hechos\"] = 0\n",
    "df.loc[df[\"c_ao_hechos\"] == 'Junio', \"c_ao_hechos\"] = 0\n",
    "df[\"c_ao_hechos\"] = df[\"c_ao_hechos\"].fillna(0).astype(int)"
   ]
  },
  {
   "cell_type": "code",
   "execution_count": 22,
   "id": "86543aa2-57a6-40bc-9ff8-e26b9a566af4",
   "metadata": {
    "tags": []
   },
   "outputs": [],
   "source": [
    "df[\"c_ao_hechos\"] = df[\"c_ao_hechos\"].round().astype(int)"
   ]
  },
  {
   "cell_type": "markdown",
   "id": "f86c30b6-45a0-4a23-8014-4e170edd2d61",
   "metadata": {},
   "source": [
    "### consistencia"
   ]
  },
  {
   "cell_type": "code",
   "execution_count": 23,
   "id": "e0d736e7-80b3-4e70-9128-43e8494f7419",
   "metadata": {
    "tags": []
   },
   "outputs": [],
   "source": [
    "filtro = df['c_ao_hechos'] > 2013\n",
    "df=df[filtro] "
   ]
  },
  {
   "cell_type": "code",
   "execution_count": 24,
   "id": "f71b5172-ffb2-4bd6-89eb-7b5870fce088",
   "metadata": {
    "tags": []
   },
   "outputs": [
    {
     "data": {
      "text/html": [
       "<div>\n",
       "<style scoped>\n",
       "    .dataframe tbody tr th:only-of-type {\n",
       "        vertical-align: middle;\n",
       "    }\n",
       "\n",
       "    .dataframe tbody tr th {\n",
       "        vertical-align: top;\n",
       "    }\n",
       "\n",
       "    .dataframe thead th {\n",
       "        text-align: right;\n",
       "    }\n",
       "</style>\n",
       "<table border=\"1\" class=\"dataframe\">\n",
       "  <thead>\n",
       "    <tr style=\"text-align: right;\">\n",
       "      <th></th>\n",
       "      <th>c_id</th>\n",
       "      <th>c_ao_hechos</th>\n",
       "      <th>v_mes_hechos</th>\n",
       "      <th>d_fecha_hechos</th>\n",
       "      <th>v_delito</th>\n",
       "      <th>v_categoria_delito</th>\n",
       "      <th>v_fiscalia</th>\n",
       "      <th>v_agencia</th>\n",
       "      <th>v_unidad_investigacion</th>\n",
       "      <th>v_colonia_hechos</th>\n",
       "      <th>v_alcaldia_hechos</th>\n",
       "      <th>d_fecha_inicio</th>\n",
       "      <th>v_mes_inicio</th>\n",
       "      <th>ao_inicio</th>\n",
       "      <th>t_calle_hechos</th>\n",
       "      <th>t_calle_hechos2</th>\n",
       "      <th>g_longitud</th>\n",
       "      <th>g_latitud</th>\n",
       "      <th>g_geopoint</th>\n",
       "    </tr>\n",
       "  </thead>\n",
       "  <tbody>\n",
       "    <tr>\n",
       "      <th>0</th>\n",
       "      <td>0</td>\n",
       "      <td>2016</td>\n",
       "      <td>Enero</td>\n",
       "      <td>2016-01-05 17:00:00</td>\n",
       "      <td>LESIONES CULPOSAS</td>\n",
       "      <td>DELITO DE BAJO IMPACTO</td>\n",
       "      <td>INVESTIGACIÃN EN GUSTAVO A. MADERO</td>\n",
       "      <td>GAM-6</td>\n",
       "      <td>UI-1CD</td>\n",
       "      <td>GRANJAS MODERNAS</td>\n",
       "      <td>GUSTAVO A MADERO</td>\n",
       "      <td>2016-01-05 18:35:37</td>\n",
       "      <td>Enero</td>\n",
       "      <td>2016</td>\n",
       "      <td>SAN JUAN DE ARAGON</td>\n",
       "      <td>CALLE ANZAR</td>\n",
       "      <td>-99.103527</td>\n",
       "      <td>19.481076</td>\n",
       "      <td>19.4810759998,-99.103527</td>\n",
       "    </tr>\n",
       "    <tr>\n",
       "      <th>1</th>\n",
       "      <td>2</td>\n",
       "      <td>2017</td>\n",
       "      <td>Noviembre</td>\n",
       "      <td>2017-11-01 16:40:00</td>\n",
       "      <td>ROBO A TRANSEUNTE EN VIA PUBLICA CON VIOLENCIA</td>\n",
       "      <td>ROBO A TRANSEUNTE EN VÃA PÃBLICA CON Y SIN V...</td>\n",
       "      <td>INVESTIGACIÃN EN IZTACALCO</td>\n",
       "      <td>IZC-2</td>\n",
       "      <td>UI-1SD</td>\n",
       "      <td>GABRIEL RAMOS MILLÃN SECCIÃN TLACOTAL</td>\n",
       "      <td>IZTACALCO</td>\n",
       "      <td>2017-11-01 16:56:04</td>\n",
       "      <td>Noviembre</td>\n",
       "      <td>2017</td>\n",
       "      <td>SUR 117</td>\n",
       "      <td>ORIENTE 100A</td>\n",
       "      <td>-99.106072</td>\n",
       "      <td>19.395398</td>\n",
       "      <td>19.3953976727,-99.1060723829</td>\n",
       "    </tr>\n",
       "    <tr>\n",
       "      <th>2</th>\n",
       "      <td>3</td>\n",
       "      <td>2015</td>\n",
       "      <td>Diciembre</td>\n",
       "      <td>2015-12-30 20:00:00</td>\n",
       "      <td>FRAUDE</td>\n",
       "      <td>DELITO DE BAJO IMPACTO</td>\n",
       "      <td>INVESTIGACIÃN EN IZTAPALAPA</td>\n",
       "      <td>IZP-8</td>\n",
       "      <td>UI-1CD</td>\n",
       "      <td>CONSEJO AGRARISTA MEXICANO</td>\n",
       "      <td>IZTAPALAPA</td>\n",
       "      <td>2016-01-05 21:12:42</td>\n",
       "      <td>Enero</td>\n",
       "      <td>2016</td>\n",
       "      <td>CUARTA CERRADA DE FRESNO</td>\n",
       "      <td>ENCINO (SIN REGISTRO DEL SAP)</td>\n",
       "      <td>-99.055887</td>\n",
       "      <td>19.322458</td>\n",
       "      <td>19.3224579998,-99.055887</td>\n",
       "    </tr>\n",
       "    <tr>\n",
       "      <th>3</th>\n",
       "      <td>4</td>\n",
       "      <td>2018</td>\n",
       "      <td>Mayo</td>\n",
       "      <td>2018-05-16 16:00:00</td>\n",
       "      <td>ROBO A REPARTIDOR CON VIOLENCIA</td>\n",
       "      <td>ROBO A REPARTIDOR CON Y SIN VIOLENCIA</td>\n",
       "      <td>INVESTIGACIÃN EN IZTAPALAPA</td>\n",
       "      <td>IZP-9</td>\n",
       "      <td>UI-2SD</td>\n",
       "      <td>DESARROLLO URBANO QUETZALCOATL</td>\n",
       "      <td>IZTAPALAPA</td>\n",
       "      <td>2018-05-22 10:44:45</td>\n",
       "      <td>Mayo</td>\n",
       "      <td>2018</td>\n",
       "      <td>TARASCO</td>\n",
       "      <td>ZAPOTECO</td>\n",
       "      <td>-99.042786</td>\n",
       "      <td>19.319141</td>\n",
       "      <td>19.3191405147,-99.0427862526</td>\n",
       "    </tr>\n",
       "    <tr>\n",
       "      <th>4</th>\n",
       "      <td>5</td>\n",
       "      <td>2018</td>\n",
       "      <td>Mayo</td>\n",
       "      <td>2018-05-21 20:40:00</td>\n",
       "      <td>ROBO A TRANSEUNTE DE CELULAR CON VIOLENCIA</td>\n",
       "      <td>DELITO DE BAJO IMPACTO</td>\n",
       "      <td>INVESTIGACIÃN EN CUAUHTEMOC</td>\n",
       "      <td>CUH-2</td>\n",
       "      <td>UI-2SD</td>\n",
       "      <td>INFONAVIT IZTACALCO</td>\n",
       "      <td>IZTACALCO</td>\n",
       "      <td>2018-05-22 10:52:18</td>\n",
       "      <td>Mayo</td>\n",
       "      <td>2018</td>\n",
       "      <td>FRANCISCO DEL PASO Y TRONCOSO</td>\n",
       "      <td>ISLA</td>\n",
       "      <td>-99.111563</td>\n",
       "      <td>19.386594</td>\n",
       "      <td>19.3865939284,-99.1115626682</td>\n",
       "    </tr>\n",
       "    <tr>\n",
       "      <th>...</th>\n",
       "      <td>...</td>\n",
       "      <td>...</td>\n",
       "      <td>...</td>\n",
       "      <td>...</td>\n",
       "      <td>...</td>\n",
       "      <td>...</td>\n",
       "      <td>...</td>\n",
       "      <td>...</td>\n",
       "      <td>...</td>\n",
       "      <td>...</td>\n",
       "      <td>...</td>\n",
       "      <td>...</td>\n",
       "      <td>...</td>\n",
       "      <td>...</td>\n",
       "      <td>...</td>\n",
       "      <td>...</td>\n",
       "      <td>...</td>\n",
       "      <td>...</td>\n",
       "      <td>...</td>\n",
       "    </tr>\n",
       "    <tr>\n",
       "      <th>774947</th>\n",
       "      <td>808866</td>\n",
       "      <td>2018</td>\n",
       "      <td>Julio</td>\n",
       "      <td>2018-07-09 22:30:00</td>\n",
       "      <td>ROBO A TRANSEUNTE EN VIA PUBLICA CON VIOLENCIA</td>\n",
       "      <td>ROBO A TRANSEUNTE EN VÃA PÃBLICA CON Y SIN V...</td>\n",
       "      <td>INVESTIGACIÃN EN MIGUEL HIDALGO</td>\n",
       "      <td>MH-1</td>\n",
       "      <td>UI-1SD</td>\n",
       "      <td>ANAHUAC</td>\n",
       "      <td>MIGUEL HIDALGO</td>\n",
       "      <td>2018-07-10 18:24:33</td>\n",
       "      <td>Julio</td>\n",
       "      <td>2018</td>\n",
       "      <td>LAGO ALBERTO</td>\n",
       "      <td>LAGO ITZEO</td>\n",
       "      <td>-99.182018</td>\n",
       "      <td>19.439418</td>\n",
       "      <td>19.439418014,-99.1820184667</td>\n",
       "    </tr>\n",
       "    <tr>\n",
       "      <th>774948</th>\n",
       "      <td>808867</td>\n",
       "      <td>2018</td>\n",
       "      <td>Julio</td>\n",
       "      <td>2018-07-29 05:00:00</td>\n",
       "      <td>VIOLENCIA FAMILIAR</td>\n",
       "      <td>DELITO DE BAJO IMPACTO</td>\n",
       "      <td>INVESTIGACIÃN EN MILPA ALTA</td>\n",
       "      <td>MIL-2</td>\n",
       "      <td>UI-1CD</td>\n",
       "      <td>SANTA CRUZ XOCHITEPEC</td>\n",
       "      <td>XOCHIMILCO</td>\n",
       "      <td>2018-07-29 12:37:27</td>\n",
       "      <td>Julio</td>\n",
       "      <td>2018</td>\n",
       "      <td>CALLEJON MORELOS</td>\n",
       "      <td>NaN</td>\n",
       "      <td>-99.134738</td>\n",
       "      <td>19.254935</td>\n",
       "      <td>19.2549354998,-99.1347381</td>\n",
       "    </tr>\n",
       "    <tr>\n",
       "      <th>774949</th>\n",
       "      <td>808868</td>\n",
       "      <td>2019</td>\n",
       "      <td>Febrero</td>\n",
       "      <td>2019-02-14 19:00:00</td>\n",
       "      <td>LESIONES INTENCIONALES POR ARMA DE FUEGO</td>\n",
       "      <td>LESIONES DOLOSAS POR DISPARO DE ARMA DE FUEGO</td>\n",
       "      <td>INVESTIGACIÃN EN MIGUEL HIDALGO</td>\n",
       "      <td>H1</td>\n",
       "      <td>UI-1SD</td>\n",
       "      <td>INDUSTRIAL</td>\n",
       "      <td>GUSTAVO A MADERO</td>\n",
       "      <td>2019-02-15 12:50:00</td>\n",
       "      <td>Febrero</td>\n",
       "      <td>2019</td>\n",
       "      <td>CALZ. DE LOS MISTERIOS</td>\n",
       "      <td>NaN</td>\n",
       "      <td>-99.122943</td>\n",
       "      <td>19.473867</td>\n",
       "      <td>19.473866796,-99.1229431996</td>\n",
       "    </tr>\n",
       "    <tr>\n",
       "      <th>774950</th>\n",
       "      <td>808869</td>\n",
       "      <td>2019</td>\n",
       "      <td>Febrero</td>\n",
       "      <td>2019-02-15 10:00:00</td>\n",
       "      <td>PRIVACION DE LA LIBERTAD PERSONAL</td>\n",
       "      <td>DELITO DE BAJO IMPACTO</td>\n",
       "      <td>INVESTIGACIÃN EN AZCAPOTZALCO</td>\n",
       "      <td>AZ-4</td>\n",
       "      <td>UI-1SD</td>\n",
       "      <td>COSMOPOLITA</td>\n",
       "      <td>AZCAPOTZALCO</td>\n",
       "      <td>2019-02-15 13:04:00</td>\n",
       "      <td>Febrero</td>\n",
       "      <td>2019</td>\n",
       "      <td>CERDEÃA</td>\n",
       "      <td>NaN</td>\n",
       "      <td>-99.163384</td>\n",
       "      <td>19.473593</td>\n",
       "      <td>19.4735930736,-99.163384042</td>\n",
       "    </tr>\n",
       "    <tr>\n",
       "      <th>774951</th>\n",
       "      <td>808870</td>\n",
       "      <td>2017</td>\n",
       "      <td>Abril</td>\n",
       "      <td>2017-04-01 10:00:00</td>\n",
       "      <td>ABUSO DE CONFIANZA</td>\n",
       "      <td>DELITO DE BAJO IMPACTO</td>\n",
       "      <td>INVESTIGACIÃN EN AGENCIAS DE ATENCIÃN ESPECI...</td>\n",
       "      <td>AER</td>\n",
       "      <td>UI-1SD</td>\n",
       "      <td>AEROPUERTO INTERNACIONAL BENITO JUÃREZ</td>\n",
       "      <td>VENUSTIANO CARRANZA</td>\n",
       "      <td>2017-05-26 17:04:07</td>\n",
       "      <td>Mayo</td>\n",
       "      <td>2017</td>\n",
       "      <td>CAP. AVIADOR CARLOS LEON</td>\n",
       "      <td>NaN</td>\n",
       "      <td>-99.083974</td>\n",
       "      <td>19.435153</td>\n",
       "      <td>19.4351530369,-99.0839742938</td>\n",
       "    </tr>\n",
       "  </tbody>\n",
       "</table>\n",
       "<p>768633 rows × 19 columns</p>\n",
       "</div>"
      ],
      "text/plain": [
       "          c_id  c_ao_hechos v_mes_hechos       d_fecha_hechos  \\\n",
       "0            0         2016        Enero  2016-01-05 17:00:00   \n",
       "1            2         2017    Noviembre  2017-11-01 16:40:00   \n",
       "2            3         2015    Diciembre  2015-12-30 20:00:00   \n",
       "3            4         2018         Mayo  2018-05-16 16:00:00   \n",
       "4            5         2018         Mayo  2018-05-21 20:40:00   \n",
       "...        ...          ...          ...                  ...   \n",
       "774947  808866         2018        Julio  2018-07-09 22:30:00   \n",
       "774948  808867         2018        Julio  2018-07-29 05:00:00   \n",
       "774949  808868         2019      Febrero  2019-02-14 19:00:00   \n",
       "774950  808869         2019      Febrero  2019-02-15 10:00:00   \n",
       "774951  808870         2017        Abril  2017-04-01 10:00:00   \n",
       "\n",
       "                                              v_delito  \\\n",
       "0                                    LESIONES CULPOSAS   \n",
       "1       ROBO A TRANSEUNTE EN VIA PUBLICA CON VIOLENCIA   \n",
       "2                                               FRAUDE   \n",
       "3                      ROBO A REPARTIDOR CON VIOLENCIA   \n",
       "4           ROBO A TRANSEUNTE DE CELULAR CON VIOLENCIA   \n",
       "...                                                ...   \n",
       "774947  ROBO A TRANSEUNTE EN VIA PUBLICA CON VIOLENCIA   \n",
       "774948                              VIOLENCIA FAMILIAR   \n",
       "774949        LESIONES INTENCIONALES POR ARMA DE FUEGO   \n",
       "774950               PRIVACION DE LA LIBERTAD PERSONAL   \n",
       "774951                              ABUSO DE CONFIANZA   \n",
       "\n",
       "                                       v_categoria_delito  \\\n",
       "0                                  DELITO DE BAJO IMPACTO   \n",
       "1       ROBO A TRANSEUNTE EN VÃA PÃBLICA CON Y SIN V...   \n",
       "2                                  DELITO DE BAJO IMPACTO   \n",
       "3                   ROBO A REPARTIDOR CON Y SIN VIOLENCIA   \n",
       "4                                  DELITO DE BAJO IMPACTO   \n",
       "...                                                   ...   \n",
       "774947  ROBO A TRANSEUNTE EN VÃA PÃBLICA CON Y SIN V...   \n",
       "774948                             DELITO DE BAJO IMPACTO   \n",
       "774949      LESIONES DOLOSAS POR DISPARO DE ARMA DE FUEGO   \n",
       "774950                             DELITO DE BAJO IMPACTO   \n",
       "774951                             DELITO DE BAJO IMPACTO   \n",
       "\n",
       "                                               v_fiscalia v_agencia  \\\n",
       "0                     INVESTIGACIÃN EN GUSTAVO A. MADERO     GAM-6   \n",
       "1                             INVESTIGACIÃN EN IZTACALCO     IZC-2   \n",
       "2                            INVESTIGACIÃN EN IZTAPALAPA     IZP-8   \n",
       "3                            INVESTIGACIÃN EN IZTAPALAPA     IZP-9   \n",
       "4                            INVESTIGACIÃN EN CUAUHTEMOC     CUH-2   \n",
       "...                                                   ...       ...   \n",
       "774947                   INVESTIGACIÃN EN MIGUEL HIDALGO      MH-1   \n",
       "774948                       INVESTIGACIÃN EN MILPA ALTA     MIL-2   \n",
       "774949                   INVESTIGACIÃN EN MIGUEL HIDALGO        H1   \n",
       "774950                     INVESTIGACIÃN EN AZCAPOTZALCO      AZ-4   \n",
       "774951  INVESTIGACIÃN EN AGENCIAS DE ATENCIÃN ESPECI...       AER   \n",
       "\n",
       "       v_unidad_investigacion                         v_colonia_hechos  \\\n",
       "0                      UI-1CD                         GRANJAS MODERNAS   \n",
       "1                      UI-1SD  GABRIEL RAMOS MILLÃN SECCIÃN TLACOTAL   \n",
       "2                      UI-1CD               CONSEJO AGRARISTA MEXICANO   \n",
       "3                      UI-2SD           DESARROLLO URBANO QUETZALCOATL   \n",
       "4                      UI-2SD                      INFONAVIT IZTACALCO   \n",
       "...                       ...                                      ...   \n",
       "774947                 UI-1SD                                  ANAHUAC   \n",
       "774948                 UI-1CD                    SANTA CRUZ XOCHITEPEC   \n",
       "774949                 UI-1SD                               INDUSTRIAL   \n",
       "774950                 UI-1SD                              COSMOPOLITA   \n",
       "774951                 UI-1SD  AEROPUERTO INTERNACIONAL BENITO JUÃREZ   \n",
       "\n",
       "          v_alcaldia_hechos       d_fecha_inicio v_mes_inicio  ao_inicio  \\\n",
       "0          GUSTAVO A MADERO  2016-01-05 18:35:37        Enero       2016   \n",
       "1                 IZTACALCO  2017-11-01 16:56:04    Noviembre       2017   \n",
       "2                IZTAPALAPA  2016-01-05 21:12:42        Enero       2016   \n",
       "3                IZTAPALAPA  2018-05-22 10:44:45         Mayo       2018   \n",
       "4                 IZTACALCO  2018-05-22 10:52:18         Mayo       2018   \n",
       "...                     ...                  ...          ...        ...   \n",
       "774947       MIGUEL HIDALGO  2018-07-10 18:24:33        Julio       2018   \n",
       "774948           XOCHIMILCO  2018-07-29 12:37:27        Julio       2018   \n",
       "774949     GUSTAVO A MADERO  2019-02-15 12:50:00      Febrero       2019   \n",
       "774950         AZCAPOTZALCO  2019-02-15 13:04:00      Febrero       2019   \n",
       "774951  VENUSTIANO CARRANZA  2017-05-26 17:04:07         Mayo       2017   \n",
       "\n",
       "                       t_calle_hechos                t_calle_hechos2  \\\n",
       "0                  SAN JUAN DE ARAGON                    CALLE ANZAR   \n",
       "1                             SUR 117                   ORIENTE 100A   \n",
       "2            CUARTA CERRADA DE FRESNO  ENCINO (SIN REGISTRO DEL SAP)   \n",
       "3                             TARASCO                       ZAPOTECO   \n",
       "4       FRANCISCO DEL PASO Y TRONCOSO                           ISLA   \n",
       "...                               ...                            ...   \n",
       "774947                   LAGO ALBERTO                     LAGO ITZEO   \n",
       "774948               CALLEJON MORELOS                            NaN   \n",
       "774949         CALZ. DE LOS MISTERIOS                            NaN   \n",
       "774950                       CERDEÃA                            NaN   \n",
       "774951       CAP. AVIADOR CARLOS LEON                            NaN   \n",
       "\n",
       "       g_longitud  g_latitud                    g_geopoint  \n",
       "0      -99.103527  19.481076      19.4810759998,-99.103527  \n",
       "1      -99.106072  19.395398  19.3953976727,-99.1060723829  \n",
       "2      -99.055887  19.322458      19.3224579998,-99.055887  \n",
       "3      -99.042786  19.319141  19.3191405147,-99.0427862526  \n",
       "4      -99.111563  19.386594  19.3865939284,-99.1115626682  \n",
       "...           ...        ...                           ...  \n",
       "774947 -99.182018  19.439418   19.439418014,-99.1820184667  \n",
       "774948 -99.134738  19.254935     19.2549354998,-99.1347381  \n",
       "774949 -99.122943  19.473867   19.473866796,-99.1229431996  \n",
       "774950 -99.163384  19.473593   19.4735930736,-99.163384042  \n",
       "774951 -99.083974  19.435153  19.4351530369,-99.0839742938  \n",
       "\n",
       "[768633 rows x 19 columns]"
      ]
     },
     "execution_count": 24,
     "metadata": {},
     "output_type": "execute_result"
    }
   ],
   "source": [
    "df"
   ]
  },
  {
   "cell_type": "code",
   "execution_count": 25,
   "id": "9ea2dbe4-bc40-47ae-9f60-75bafd57a6cf",
   "metadata": {
    "tags": []
   },
   "outputs": [
    {
     "name": "stdout",
     "output_type": "stream",
     "text": [
      "<class 'pandas.core.frame.DataFrame'>\n",
      "Index: 768633 entries, 0 to 774951\n",
      "Data columns (total 19 columns):\n",
      " #   Column                  Non-Null Count   Dtype  \n",
      "---  ------                  --------------   -----  \n",
      " 0   c_id                    768633 non-null  int64  \n",
      " 1   c_ao_hechos             768633 non-null  int32  \n",
      " 2   v_mes_hechos            768633 non-null  object \n",
      " 3   d_fecha_hechos          768633 non-null  object \n",
      " 4   v_delito                768633 non-null  object \n",
      " 5   v_categoria_delito      768633 non-null  object \n",
      " 6   v_fiscalia              768633 non-null  object \n",
      " 7   v_agencia               768633 non-null  object \n",
      " 8   v_unidad_investigacion  768633 non-null  object \n",
      " 9   v_colonia_hechos        768633 non-null  object \n",
      " 10  v_alcaldia_hechos       768633 non-null  object \n",
      " 11  d_fecha_inicio          768633 non-null  object \n",
      " 12  v_mes_inicio            768633 non-null  object \n",
      " 13  ao_inicio               768633 non-null  int64  \n",
      " 14  t_calle_hechos          768633 non-null  object \n",
      " 15  t_calle_hechos2         312189 non-null  object \n",
      " 16  g_longitud              768632 non-null  object \n",
      " 17  g_latitud               768633 non-null  float64\n",
      " 18  g_geopoint              768633 non-null  object \n",
      "dtypes: float64(1), int32(1), int64(2), object(15)\n",
      "memory usage: 114.4+ MB\n"
     ]
    }
   ],
   "source": [
    "df.info()"
   ]
  },
  {
   "cell_type": "markdown",
   "id": "0fe85ebb-c2f9-4fd7-afa1-daf27e126f9b",
   "metadata": {
    "tags": []
   },
   "source": [
    "# LIMPIEZA DE LOS TEXTOS"
   ]
  },
  {
   "cell_type": "code",
   "execution_count": 26,
   "id": "903fd37c-1387-41ad-9f02-33122c606826",
   "metadata": {
    "tags": []
   },
   "outputs": [],
   "source": [
    "import unicodedata\n",
    "import re\n",
    "#https://es.py4e.com/html3/11-regex"
   ]
  },
  {
   "cell_type": "code",
   "execution_count": 27,
   "id": "042de8d0-bd2a-4ce2-8484-3bf86d2b88d6",
   "metadata": {
    "tags": []
   },
   "outputs": [],
   "source": [
    "def clean_text(text, pattern=\"[^a-zA-Z0-9]\"):\n",
    "    cleaned_text = unicodedata.normalize('NFD', text).encode('ascii', 'ignore')\n",
    "    cleaned_text = re.sub(pattern, \" \", cleaned_text.decode(\"ascii\"), flags=re.UNICODE)\n",
    "    cleaned_text = u' '.join(cleaned_text.lower().lstrip().strip().split())\n",
    "    return cleaned_text"
   ]
  },
  {
   "cell_type": "markdown",
   "id": "fe2acdae-ef6b-4abc-99ab-7be12cc325f4",
   "metadata": {
    "tags": []
   },
   "source": [
    "## Limpieza de variable t_calle_hechos"
   ]
  },
  {
   "cell_type": "code",
   "execution_count": 28,
   "id": "1830f5ae-401f-49d6-b18c-eae726d4b35d",
   "metadata": {
    "tags": []
   },
   "outputs": [
    {
     "data": {
      "text/plain": [
       "0                    SAN JUAN DE ARAGON\n",
       "1                               SUR 117\n",
       "2              CUARTA CERRADA DE FRESNO\n",
       "3                               TARASCO\n",
       "4         FRANCISCO DEL PASO Y TRONCOSO\n",
       "                      ...              \n",
       "774947                     LAGO ALBERTO\n",
       "774948                 CALLEJON MORELOS\n",
       "774949           CALZ. DE LOS MISTERIOS\n",
       "774950                         CERDEÃA\n",
       "774951         CAP. AVIADOR CARLOS LEON\n",
       "Name: t_calle_hechos, Length: 768633, dtype: object"
      ]
     },
     "execution_count": 28,
     "metadata": {},
     "output_type": "execute_result"
    }
   ],
   "source": [
    "df[\"t_calle_hechos\"]"
   ]
  },
  {
   "cell_type": "code",
   "execution_count": 29,
   "id": "5474fd80-f460-49f5-a750-c97032d19e9c",
   "metadata": {
    "tags": []
   },
   "outputs": [],
   "source": [
    "df[\"t_calle_hechos\"]=df[\"t_calle_hechos\"].map(lambda x:clean_text(x).replace(\"\\n\",\"\"))"
   ]
  },
  {
   "cell_type": "code",
   "execution_count": 30,
   "id": "e282d378-e08f-495b-809e-be41ba032e1a",
   "metadata": {
    "tags": []
   },
   "outputs": [
    {
     "data": {
      "text/plain": [
       "t_calle_hechos\n",
       "calzada de tlalpan                                                                    3508\n",
       "eje central lazaro cardenas                                                           3499\n",
       "calzada ignacio zaragoza                                                              2958\n",
       "sin calles del sap                                                                    2799\n",
       "av insurgentes sur                                                                    2777\n",
       "                                                                                      ... \n",
       "vialidad del uno                                                                         1\n",
       "pedro ramirez del castillo esquina francisco i madero                                    1\n",
       "calle de colector 13 esquina instituto politecnico nacional sin numero via publica       1\n",
       "carretera federal xochimilco oaxtepec km 16 130                                          1\n",
       "bodega d 2 del area de abarrotes                                                         1\n",
       "Name: count, Length: 154020, dtype: int64"
      ]
     },
     "execution_count": 30,
     "metadata": {},
     "output_type": "execute_result"
    }
   ],
   "source": [
    "df[\"t_calle_hechos\"].value_counts()"
   ]
  },
  {
   "cell_type": "code",
   "execution_count": 31,
   "id": "ad0a9bd9-a0a4-4d7d-b70f-8be4f6fc0b36",
   "metadata": {
    "tags": []
   },
   "outputs": [
    {
     "name": "stdout",
     "output_type": "stream",
     "text": [
      "<class 'pandas.core.frame.DataFrame'>\n",
      "Index: 768633 entries, 0 to 774951\n",
      "Data columns (total 19 columns):\n",
      " #   Column                  Non-Null Count   Dtype  \n",
      "---  ------                  --------------   -----  \n",
      " 0   c_id                    768633 non-null  int64  \n",
      " 1   c_ao_hechos             768633 non-null  int32  \n",
      " 2   v_mes_hechos            768633 non-null  object \n",
      " 3   d_fecha_hechos          768633 non-null  object \n",
      " 4   v_delito                768633 non-null  object \n",
      " 5   v_categoria_delito      768633 non-null  object \n",
      " 6   v_fiscalia              768633 non-null  object \n",
      " 7   v_agencia               768633 non-null  object \n",
      " 8   v_unidad_investigacion  768633 non-null  object \n",
      " 9   v_colonia_hechos        768633 non-null  object \n",
      " 10  v_alcaldia_hechos       768633 non-null  object \n",
      " 11  d_fecha_inicio          768633 non-null  object \n",
      " 12  v_mes_inicio            768633 non-null  object \n",
      " 13  ao_inicio               768633 non-null  int64  \n",
      " 14  t_calle_hechos          768633 non-null  object \n",
      " 15  t_calle_hechos2         312189 non-null  object \n",
      " 16  g_longitud              768632 non-null  object \n",
      " 17  g_latitud               768633 non-null  float64\n",
      " 18  g_geopoint              768633 non-null  object \n",
      "dtypes: float64(1), int32(1), int64(2), object(15)\n",
      "memory usage: 114.4+ MB\n"
     ]
    }
   ],
   "source": [
    "df.info()"
   ]
  },
  {
   "cell_type": "markdown",
   "id": "2389d4fe-94ab-4301-81b8-ecf64be346b5",
   "metadata": {
    "tags": []
   },
   "source": [
    "## Limpieza de v_delito"
   ]
  },
  {
   "cell_type": "code",
   "execution_count": 32,
   "id": "f371285f-9325-4951-87e7-664689186fe2",
   "metadata": {
    "tags": []
   },
   "outputs": [],
   "source": [
    "df[\"v_delito\"]=df[\"v_delito\"].map(lambda x:clean_text(x).replace(\"\\n\",\"\"))"
   ]
  },
  {
   "cell_type": "code",
   "execution_count": 33,
   "id": "4a215371-0c91-44fc-a7f9-8a663181c2e1",
   "metadata": {
    "tags": []
   },
   "outputs": [
    {
     "data": {
      "text/plain": [
       "v_delito\n",
       "violencia familiar                               67829\n",
       "robo de objetos                                  51404\n",
       "robo a negocio sin violencia                     51127\n",
       "fraude                                           42333\n",
       "denuncia de hechos                               39360\n",
       "                                                 ...  \n",
       "violacion tumultuaria equiparada por conocido        1\n",
       "procreacion asistida                                 1\n",
       "exhortos                                             1\n",
       "desacato                                             1\n",
       "contra la ley general de explosivos                  1\n",
       "Name: count, Length: 277, dtype: int64"
      ]
     },
     "execution_count": 33,
     "metadata": {},
     "output_type": "execute_result"
    }
   ],
   "source": [
    "df[\"v_delito\"].value_counts()"
   ]
  },
  {
   "cell_type": "markdown",
   "id": "fd4ef423-1c0b-4435-a0a9-95a78582266d",
   "metadata": {},
   "source": [
    "### Normalizacion variable delito"
   ]
  },
  {
   "cell_type": "code",
   "execution_count": 34,
   "id": "79d60a2e-a047-402e-b5fe-85c40e406a38",
   "metadata": {
    "tags": []
   },
   "outputs": [],
   "source": [
    "#eliminar numeros  \n",
    "df['v_delito'] = df['v_delito'].str.replace(r'\\d', '', regex=True)\n",
    "# Reemplazar solo las filas que cumplen la condición\n",
    "df.loc[df['v_delito'].str.contains(\"robo\"), 'v_delito'] = 'robo'\n",
    "df.loc[df['v_delito'].str.contains(\"violencia\"), 'v_delito'] = 'violencia'\n",
    "df.loc[df['v_delito'].str.contains(\"amenaza\"), 'v_delito'] = 'amenaza'\n",
    "df.loc[df['v_delito'].str.contains(\"violacion\"), 'v_delito'] = 'violacion'\n",
    "df.loc[df['v_delito'].str.contains(\"homicidio\"), 'v_delito'] = 'homicidio'\n",
    "df.loc[df['v_delito'].str.contains(\"lesion\"), 'v_delito'] = 'lesiones'\n",
    "conteo_categorias = df['v_delito'].value_counts()\n",
    "umbral = 100 #se define un umbral de 100 para eliminar categorias con pocos valores\n",
    "categorias_a_agrupar = conteo_categorias[conteo_categorias < umbral].index\n",
    "df['v_delito'] = df['v_delito'].apply(lambda x: 'otros' if x in categorias_a_agrupar else x)\n"
   ]
  },
  {
   "cell_type": "code",
   "execution_count": 35,
   "id": "bdd40c17-5767-49a1-83a4-f121731ed654",
   "metadata": {
    "tags": []
   },
   "outputs": [
    {
     "data": {
      "text/plain": [
       "v_delito\n",
       "robo                                                                         364951\n",
       "violencia                                                                     67829\n",
       "fraude                                                                        42333\n",
       "denuncia de hechos                                                            39360\n",
       "amenaza                                                                       36864\n",
       "lesiones                                                                      31099\n",
       "falsificacion de titulos al portador y documentos de credito publico          21533\n",
       "abuso de confianza                                                            12595\n",
       "daao en propiedad ajena culposa por transito vehicular a automovil            12480\n",
       "despojo                                                                       12150\n",
       "narcomenudeo posesion simple                                                   9781\n",
       "daao en propiedad ajena intencional                                            9104\n",
       "usurpacian de identidad                                                        8320\n",
       "abuso sexual                                                                   6931\n",
       "daao en propiedad ajena culposa                                                6792\n",
       "homicidio                                                                      5867\n",
       "abuso de autoridad                                                             4832\n",
       "tentativa de extorsion                                                         4725\n",
       "daao en propiedad ajena intencional a automovil                                4062\n",
       "falsificacion de documentos                                                    3924\n",
       "encubrimiento                                                                  3654\n",
       "perdida de la vida por otras causas                                            3530\n",
       "sustraccion de menores                                                         3379\n",
       "allanamiento de morada                                                         2789\n",
       "narcomenudeo posesian con fines de venta comercio y suministro                 2685\n",
       "abandono de persona                                                            2441\n",
       "la administracion de justicia                                                  2302\n",
       "delitos ambientales                                                            2135\n",
       "privacion de la libertad personal                                              2081\n",
       "quebrantamiento de sellos                                                      2007\n",
       "insolvencia alimentaria                                                        2002\n",
       "extorsion                                                                      2001\n",
       "violacion                                                                      1945\n",
       "negacion del servicio publico                                                  1791\n",
       "otros                                                                          1721\n",
       "daao en propiedad ajena intencional a bienes inmuebles                         1701\n",
       "falsedad de declaraciones                                                      1576\n",
       "discriminacion                                                                 1552\n",
       "uso de documento falso                                                         1344\n",
       "perdida de la vida por suicidio                                                1306\n",
       "daao en propiedad ajena intencional a casa habitacion                          1289\n",
       "daao en propiedad ajena culposa por transito vehicular a bienes inmuebles      1279\n",
       "contra funcionarios publicos                                                   1104\n",
       "acoso sexual                                                                   1058\n",
       "uso indebido de atribuciones y facultades                                       939\n",
       "resistencia de particulares se oponga o resista                                 900\n",
       "ejercicio indebido del servidor publico                                         865\n",
       "portacion arma prohib                                                           856\n",
       "maltrato animal                                                                 818\n",
       "tortura                                                                         813\n",
       "cohecho                                                                         795\n",
       "delitos electorales                                                             791\n",
       "responsabilidad profesional                                                     743\n",
       "posesion de vehiculo robado                                                     742\n",
       "portacion de arma de fuego                                                      646\n",
       "corrupcion de menores                                                           549\n",
       "perdida de la vida por caida                                                    495\n",
       "perdida de la vida por paro cardiaco                                            417\n",
       "delitos de abogados patronos y litigantes                                       365\n",
       "daao en propiedad ajena intencional a negocio                                   340\n",
       "disparos de arma de fuego                                                       315\n",
       "perdida de la vida por enfermedad                                               310\n",
       "ataque a las vias generales de comunicacian                                     296\n",
       "desobedencia de particulares                                                    262\n",
       "pornografia infantil                                                            261\n",
       "revelacion de secretos                                                          252\n",
       "aborto                                                                          234\n",
       "trata de personas                                                               206\n",
       "usurpacion de profesion                                                         176\n",
       "personas extraviadas                                                            164\n",
       "ataque a las vias de comunicacion daao a vias o medios de transporte            161\n",
       "usurpacion de funciones                                                         148\n",
       "feminicidio                                                                     138\n",
       "cobranza ilegitima                                                              112\n",
       "perdida de la vida por quemadura                                                108\n",
       "perdida de la vida por precipitacion                                            107\n",
       "intimidacion                                                                    105\n",
       "Name: count, dtype: int64"
      ]
     },
     "execution_count": 35,
     "metadata": {},
     "output_type": "execute_result"
    }
   ],
   "source": [
    "df[\"v_delito\"].value_counts()"
   ]
  },
  {
   "cell_type": "markdown",
   "id": "1272d116-e567-4f71-94d0-1f1e5b04c53a",
   "metadata": {},
   "source": [
    "## Limpieza de v_categoria_delito"
   ]
  },
  {
   "cell_type": "code",
   "execution_count": 36,
   "id": "d9e6ca21-4d23-4b11-be3e-07d3c92dd16f",
   "metadata": {
    "tags": []
   },
   "outputs": [],
   "source": [
    "df[\"v_categoria_delito\"]=df[\"v_categoria_delito\"].map(lambda x:clean_text(x).replace(\"\\n\",\"\"))"
   ]
  },
  {
   "cell_type": "code",
   "execution_count": 37,
   "id": "96b2651e-775d-4d01-9f02-ee68106dd946",
   "metadata": {
    "tags": []
   },
   "outputs": [
    {
     "data": {
      "text/plain": [
       "v_categoria_delito\n",
       "delito de bajo impacto                                     608255\n",
       "hecho no delictivo                                          46309\n",
       "robo de vehaculo con y sin violencia                        40964\n",
       "robo a transeunte en vaa pablica con y sin violencia        33081\n",
       "robo a negocio con violencia                                11508\n",
       "robo a repartidor con y sin violencia                        7176\n",
       "robo a pasajero a bordo del metro con y sin violencia        5401\n",
       "homicidio doloso                                             3806\n",
       "lesiones dolosas por disparo de arma de fuego                3031\n",
       "robo a pasajero a bordo de microbus con y sin violencia      2826\n",
       "violacian                                                    1827\n",
       "robo a casa habitacian con violencia                         1826\n",
       "robo a cuentahabiente saliendo del cajero con violencia      1402\n",
       "robo a pasajero a bordo de taxi con violencia                 723\n",
       "robo a transportista con y sin violencia                      408\n",
       "secuestro                                                      90\n",
       "Name: count, dtype: int64"
      ]
     },
     "execution_count": 37,
     "metadata": {},
     "output_type": "execute_result"
    }
   ],
   "source": [
    "df[\"v_categoria_delito\"].value_counts()"
   ]
  },
  {
   "cell_type": "markdown",
   "id": "b1a980b2-9754-425f-808f-48c5472031fb",
   "metadata": {},
   "source": [
    "### Normalizacion de variable v_categoria delito"
   ]
  },
  {
   "cell_type": "code",
   "execution_count": 38,
   "id": "a87adc92-a805-43f3-aa8a-8214f879045f",
   "metadata": {
    "tags": []
   },
   "outputs": [],
   "source": [
    "#modificamos \"v_categoria_delito\" \n",
    "df[\"v_categoria_delito\"]=df[\"v_categoria_delito\"].replace({\"delito de bajo impacto\":\"Delito menor\"\n",
    "                                                          ,\"hecho no delictivo\":\"Delito menor\"\n",
    "                                                          ,\"robo de vehaculo con y sin violencia\":\"Delito grave\"\n",
    "                                                          ,\"robo a transeunte en vaa pablica con y sin violencia\":\"Delito grave\"\n",
    "                                                          ,\"robo a negocio con violencia\":\"Delito grave\"\n",
    "                                                          ,\"robo a repartidor con y sin violencia\":\"Delito grave\"\n",
    "                                                          ,\"robo a pasajero a bordo del metro con y sin violencia\":\"Delito grave\"\n",
    "                                                          ,\"robo a pasajero a bordo de microbus con y sin violencia\":\"Delito grave\"\n",
    "                                                          ,\"robo a casa habitacian con violencia\":\"Delito grave\"\n",
    "                                                          ,\"robo a cuentahabiente saliendo del cajero con violencia\":\"Delito grave\"\n",
    "                                                          ,\"robo a pasajero a bordo de taxi con violencia\":\"Delito grave\"\n",
    "                                                          ,\"robo a transportista con y sin violencia\":\"Delito grave\"\n",
    "                                                          ,\"homicidio doloso\":\"Delito grave con agravante\"\n",
    "                                                          ,\"lesiones dolosas por disparo de arma de fuego\":\"Delito grave con agravante\"\n",
    "                                                          ,\"violacian\":\"Delito grave con agravante\"\n",
    "                                                          ,\"secuestro\":\"Delito grave con agravante\"})\n"
   ]
  },
  {
   "cell_type": "code",
   "execution_count": 39,
   "id": "b1bd390f-f89b-48a6-bce0-6a7158209d10",
   "metadata": {
    "tags": []
   },
   "outputs": [
    {
     "data": {
      "text/plain": [
       "v_categoria_delito\n",
       "Delito menor                  654564\n",
       "Delito grave                  105315\n",
       "Delito grave con agravante      8754\n",
       "Name: count, dtype: int64"
      ]
     },
     "execution_count": 39,
     "metadata": {},
     "output_type": "execute_result"
    }
   ],
   "source": [
    "df[\"v_categoria_delito\"].value_counts()"
   ]
  },
  {
   "cell_type": "markdown",
   "id": "5f33f01d-a18d-4d61-8395-53d16c604969",
   "metadata": {
    "tags": []
   },
   "source": [
    "## Limpieza de v_fiscalia"
   ]
  },
  {
   "cell_type": "code",
   "execution_count": 40,
   "id": "b7c55cd9-99c4-44c1-bc9e-15c7c9430dc3",
   "metadata": {
    "tags": []
   },
   "outputs": [
    {
     "data": {
      "text/plain": [
       "v_fiscalia\n",
       "INVESTIGACIÃN EN CUAUHTEMOC                                                               97848\n",
       "INVESTIGACIÃN EN IZTAPALAPA                                                               95686\n",
       "INVESTIGACIÃN EN GUSTAVO A. MADERO                                                        64066\n",
       "INVESTIGACIÃN EN BENITO JUÃREZ                                                           63940\n",
       "INVESTIGACIÃN EN COYOACÃN                                                                45752\n",
       "INVESTIGACIÃN EN MIGUEL HIDALGO                                                           44769\n",
       "INVESTIGACIÃN EN ÃLVARO OBREGÃN                                                         44680\n",
       "INVESTIGACIÃN EN TLALPAN                                                                  40108\n",
       "INVESTIGACIÃN EN VENUSTIANO CARRANZA                                                      37503\n",
       "INVESTIGACIÃN EN AZCAPOTZALCO                                                             34269\n",
       "INVESTIGACIÃN EN IZTACALCO                                                                29460\n",
       "INVESTIGACIÃN PARA LA ATENCIÃN DE NIÃOS, NIÃAS Y ADOLESCENTES                          22384\n",
       "INVESTIGACIÃN EN XOCHIMILCO                                                               20453\n",
       "JUZGADOS FAMILIARES                                                                        16391\n",
       "INVESTIGACIÃN EN TLAHUAC                                                                  15186\n",
       "INVESTIGACIÃN EN AGENCIAS DE ATENCIÃN ESPECIALIZADAS                                     14386\n",
       "INVESTIGACIÃN PARA LA ATENCIÃN DE DELITOS SEXUALES                                       12857\n",
       "INVESTIGACIÃN DE LOS DELITOS COMETIDOS POR SERVIDORES PUBLICOS                            12294\n",
       "INVESTIGACIÃN EN MAGDALENA CONTRERAS                                                      10166\n",
       "INVESTIGACIÃN EN CUAJIMALPA                                                                9512\n",
       "INVESTIGACIÃN PARA LA ATENCIÃN DEL DELITO DE ROBO DE VEHICULOS Y TRANSPORTE               6507\n",
       "INVESTIGACIÃN EN DELITOS AMBIENTALES Y EN MATERIA DE PROTECCIÃN URBANA                    5984\n",
       "INVESTIGACIÃN PARA LA ATENCIÃN DEL DELITO DE SECUESTRO                                    5963\n",
       "INVESTIGACIÃN EN MILPA ALTA                                                                4394\n",
       "INVESTIGACIÃN PARA LA ATENCIÃN DEL DELITO DE NARCOMENUDEO                                 3238\n",
       "INVESTIGACIÃN PARA LA ATENCIÃN DE DELITOS FINANCIEROS                                     3114\n",
       "DIRECCIÃN GENERAL DE ATENCIÃN A VÃCTIMAS DEL DELITO                                      3016\n",
       "JUZGADOS CIVILES                                                                            1740\n",
       "INVESTIGACIÃN PARA LA ATENCIÃN DE ASUNTOS ESPECIALES Y ELECTORALES                        1692\n",
       "AGENCIA CENTRAL DE INVESTIGACIÃN                                                            719\n",
       "INVESTIGACIÃN PARA LA ATENCIÃN DEL DELITO DE TRATA DE PERSONAS                             378\n",
       "INVESTIGACIÃN PARA LA ATENCIÃN DEL DELITO DE HOMICIDIO                                     149\n",
       "ESPECIALIZADA EN LA BÃSQUEDA, LOCALIZACIÃN E INVESTIGACIÃN DE PERSONAS DESAPARECIDAS       18\n",
       "FISCALIA DELITOS ELECTORALES                                                                  10\n",
       "TLP-1                                                                                          1\n",
       "Name: count, dtype: int64"
      ]
     },
     "execution_count": 40,
     "metadata": {},
     "output_type": "execute_result"
    }
   ],
   "source": [
    "df[\"v_fiscalia\"].value_counts()"
   ]
  },
  {
   "cell_type": "code",
   "execution_count": 41,
   "id": "d56e733a-6ad0-4e9b-adf4-b4eac4267eda",
   "metadata": {
    "tags": []
   },
   "outputs": [],
   "source": [
    "df[\"v_fiscalia\"]=df[\"v_fiscalia\"].map(lambda x:clean_text(x).replace(\"\\n\",\"\"))"
   ]
  },
  {
   "cell_type": "code",
   "execution_count": 42,
   "id": "db06f840-fc12-4b73-851e-252f6587b8ad",
   "metadata": {
    "tags": []
   },
   "outputs": [
    {
     "data": {
      "text/plain": [
       "v_fiscalia\n",
       "investigacian en cuauhtemoc                                                            97848\n",
       "investigacian en iztapalapa                                                            95686\n",
       "investigacian en gustavo a madero                                                      64066\n",
       "investigacian en benito juarez                                                         63940\n",
       "investigacian en coyoacan                                                              45752\n",
       "investigacian en miguel hidalgo                                                        44769\n",
       "investigacian en alvaro obregan                                                        44680\n",
       "investigacian en tlalpan                                                               40108\n",
       "investigacian en venustiano carranza                                                   37503\n",
       "investigacian en azcapotzalco                                                          34269\n",
       "investigacian en iztacalco                                                             29460\n",
       "investigacian para la atencian de niaos niaas y adolescentes                           22384\n",
       "investigacian en xochimilco                                                            20453\n",
       "juzgados familiares                                                                    16391\n",
       "investigacian en tlahuac                                                               15186\n",
       "investigacian en agencias de atencian especializadas                                   14386\n",
       "investigacian para la atencian de delitos sexuales                                     12857\n",
       "investigacian de los delitos cometidos por servidores publicos                         12294\n",
       "investigacian en magdalena contreras                                                   10166\n",
       "investigacian en cuajimalpa                                                             9512\n",
       "investigacian para la atencian del delito de robo de vehiculos y transporte             6507\n",
       "investigacian en delitos ambientales y en materia de proteccian urbana                  5984\n",
       "investigacian para la atencian del delito de secuestro                                  5963\n",
       "investigacian en milpa alta                                                             4394\n",
       "investigacian para la atencian del delito de narcomenudeo                               3238\n",
       "investigacian para la atencian de delitos financieros                                   3114\n",
       "direccian general de atencian a vactimas del delito                                     3016\n",
       "juzgados civiles                                                                        1740\n",
       "investigacian para la atencian de asuntos especiales y electorales                      1692\n",
       "agencia central de investigacian                                                         719\n",
       "investigacian para la atencian del delito de trata de personas                           378\n",
       "investigacian para la atencian del delito de homicidio                                   149\n",
       "especializada en la basqueda localizacian e investigacian de personas desaparecidas       18\n",
       "fiscalia delitos electorales                                                              10\n",
       "tlp 1                                                                                      1\n",
       "Name: count, dtype: int64"
      ]
     },
     "execution_count": 42,
     "metadata": {},
     "output_type": "execute_result"
    }
   ],
   "source": [
    "df[\"v_fiscalia\"].value_counts()"
   ]
  },
  {
   "cell_type": "markdown",
   "id": "26dd0479-ba41-43e7-a835-a21e1a5955ff",
   "metadata": {},
   "source": [
    "### Normalizacion de v_fiscalia"
   ]
  },
  {
   "cell_type": "code",
   "execution_count": 43,
   "id": "10305ccc-b932-495e-b7cc-450a82d8f9e6",
   "metadata": {
    "tags": []
   },
   "outputs": [],
   "source": [
    "#eliminar numeros  \n",
    "df['v_fiscalia'] = df['v_fiscalia'].str.replace(r'\\d', '', regex=True)\n",
    "# Reemplazar solo las filas que cumplen la condición\n",
    "df.loc[df['v_fiscalia'].str.contains(\"delito\"), 'v_fiscalia'] = 'Fiscalia de delitos'\n",
    "conteo_categorias = df['v_fiscalia'].value_counts()\n",
    "umbral = 100 #se define un umbral de 100 para eliminar categorias con pocos valores\n",
    "categorias_a_agrupar = conteo_categorias[conteo_categorias < umbral].index\n",
    "df['v_fiscalia'] = df['v_fiscalia'].apply(lambda x: 'Otras fiscalias' if x in categorias_a_agrupar else x)"
   ]
  },
  {
   "cell_type": "code",
   "execution_count": 44,
   "id": "df5b9d80-b0c4-4550-a282-ab8fde407a11",
   "metadata": {
    "tags": []
   },
   "outputs": [
    {
     "data": {
      "text/plain": [
       "v_fiscalia\n",
       "investigacian en cuauhtemoc                                           97848\n",
       "investigacian en iztapalapa                                           95686\n",
       "investigacian en gustavo a madero                                     64066\n",
       "investigacian en benito juarez                                        63940\n",
       "Fiscalia de delitos                                                   53510\n",
       "investigacian en coyoacan                                             45752\n",
       "investigacian en miguel hidalgo                                       44769\n",
       "investigacian en alvaro obregan                                       44680\n",
       "investigacian en tlalpan                                              40108\n",
       "investigacian en venustiano carranza                                  37503\n",
       "investigacian en azcapotzalco                                         34269\n",
       "investigacian en iztacalco                                            29460\n",
       "investigacian para la atencian de niaos niaas y adolescentes          22384\n",
       "investigacian en xochimilco                                           20453\n",
       "juzgados familiares                                                   16391\n",
       "investigacian en tlahuac                                              15186\n",
       "investigacian en agencias de atencian especializadas                  14386\n",
       "investigacian en magdalena contreras                                  10166\n",
       "investigacian en cuajimalpa                                            9512\n",
       "investigacian en milpa alta                                            4394\n",
       "juzgados civiles                                                       1740\n",
       "investigacian para la atencian de asuntos especiales y electorales     1692\n",
       "agencia central de investigacian                                        719\n",
       "Otras fiscalias                                                          19\n",
       "Name: count, dtype: int64"
      ]
     },
     "execution_count": 44,
     "metadata": {},
     "output_type": "execute_result"
    }
   ],
   "source": [
    "df[\"v_fiscalia\"].value_counts()"
   ]
  },
  {
   "cell_type": "markdown",
   "id": "2be6f443-cc2f-4e2a-a96e-a82c64eea5cd",
   "metadata": {},
   "source": [
    "## Limpieza de v_agencia"
   ]
  },
  {
   "cell_type": "code",
   "execution_count": 45,
   "id": "6be65362-b617-444a-bac9-a5db3505769e",
   "metadata": {
    "tags": []
   },
   "outputs": [
    {
     "data": {
      "text/plain": [
       "v_agencia\n",
       "CUH-2        28961\n",
       "AZ-1         26047\n",
       "BJ-1         23594\n",
       "BJ-3         23114\n",
       "IZP-6        21500\n",
       "             ...  \n",
       "URI-GAM-4        1\n",
       "IRRII            1\n",
       "AZ-3             1\n",
       "URI-GAM-3        1\n",
       "HOM-E            1\n",
       "Name: count, Length: 154, dtype: int64"
      ]
     },
     "execution_count": 45,
     "metadata": {},
     "output_type": "execute_result"
    }
   ],
   "source": [
    "df[\"v_agencia\"].value_counts()"
   ]
  },
  {
   "cell_type": "code",
   "execution_count": 46,
   "id": "91ca71d7-b1fd-4435-b9d0-33cbb4624867",
   "metadata": {
    "tags": []
   },
   "outputs": [],
   "source": [
    "df[\"v_agencia\"]=df[\"v_agencia\"].map(lambda x:clean_text(x).replace(\"\\n\",\"\"))"
   ]
  },
  {
   "cell_type": "code",
   "execution_count": 47,
   "id": "eed90738-087e-4755-9f99-08a183446eef",
   "metadata": {
    "tags": []
   },
   "outputs": [
    {
     "data": {
      "text/plain": [
       "v_agencia\n",
       "cuh 2        28961\n",
       "az 1         26047\n",
       "bj 1         23594\n",
       "bj 3         23114\n",
       "izp 6        21500\n",
       "             ...  \n",
       "uri gam 4        1\n",
       "irrii            1\n",
       "az 3             1\n",
       "uri gam 3        1\n",
       "hom e            1\n",
       "Name: count, Length: 154, dtype: int64"
      ]
     },
     "execution_count": 47,
     "metadata": {},
     "output_type": "execute_result"
    }
   ],
   "source": [
    "df[\"v_agencia\"].value_counts()"
   ]
  },
  {
   "cell_type": "markdown",
   "id": "ca965ada-3def-4cdf-a747-ca04e779f26c",
   "metadata": {},
   "source": [
    "## Limpieza de v_unidad_investigacion"
   ]
  },
  {
   "cell_type": "code",
   "execution_count": 48,
   "id": "cc7a1b07-6e0b-4848-9fb3-765c20ac5138",
   "metadata": {
    "tags": []
   },
   "outputs": [
    {
     "data": {
      "text/plain": [
       "v_unidad_investigacion\n",
       "UI-1SD                            212454\n",
       "UI-2SD                            118391\n",
       "UI-1CD                            108302\n",
       "UI-3SD                             97691\n",
       "UI-3CD                             96292\n",
       "UI-2CD                             93877\n",
       "3 CON DETENIDO 3 C/D                3549\n",
       "2 CON DETENIDO 2 C/D                3179\n",
       "UI-4SD                              3071\n",
       "1 CON DETENIDO 1 C/D                2819\n",
       "2 S/D                               2805\n",
       "1 S/D                               2457\n",
       "FDS-6-02                            1274\n",
       "3 S/D                               1244\n",
       "4 SIN DETENIDO 4 S/D                1243\n",
       "FDS-6-01                            1136\n",
       "FDS-5-01                             997\n",
       "FDS-6-03                             980\n",
       "FDS-1-03                             767\n",
       "FDS-5-03                             753\n",
       "FDS-5-02                             719\n",
       "UI-7SD                               684\n",
       "FDS-2-01                             650\n",
       "FDS-2-02                             639\n",
       "FDS-1-02                             636\n",
       "FDS-4-03                             634\n",
       "UI-5SD                               623\n",
       "FDS-2-03                             617\n",
       "2 SIN DETENIDO                       616\n",
       "3 SIN DETENIDO                       596\n",
       "FDS-4-01                             586\n",
       "FDS-4-02                             583\n",
       "FDS-1-01                             560\n",
       "1 SIN DETENIDO                       538\n",
       "UI-6SD                               522\n",
       "3 SIN DETENIDO 3 S/D                 519\n",
       "FDS-3-02                             455\n",
       "FDS-3-01                             435\n",
       "FDS-3-03                             431\n",
       "1 SIN DETENIDO 1 S/D                 401\n",
       "2 SIN DETENIDO 2 S/D                 356\n",
       "B-2 SIN DETENIDO                     353\n",
       "D-6 SIN DETENIDO                     348\n",
       "B-4 SIN DETENIDO                     313\n",
       "B-3 SIN DETENIDO                     295\n",
       "Unidad de investigaciÃ³n 7 S/D       282\n",
       "B-5 SIN DETENIDO                     281\n",
       "B-6 SIN DETENIDO                     274\n",
       "B-1 SIN DETENIDO                     187\n",
       "3 CON DETENIDO                       123\n",
       "2 CON DETENIDO                       104\n",
       "5 SIN DETENIDO 5 S/D                  99\n",
       "Unidad 17                             90\n",
       "1 CON DETENIDO                        89\n",
       "Unidad 18                             84\n",
       "Unidad 20                             78\n",
       "Unidad 16                             71\n",
       "Unidad 19                             69\n",
       "2 SIN DETENIDO  2 S/D                 63\n",
       "Unidad 9                              38\n",
       "Unidad 4                              29\n",
       "Unidad 12                             28\n",
       "Unidad 2                              26\n",
       "Unidad 15                             25\n",
       "Unidad 14                             22\n",
       "Unidad 7                              21\n",
       "Unidad 1                              20\n",
       "Unidad 5                              20\n",
       "Unidad 13                             17\n",
       "UI-8SD                                17\n",
       "Unidad 8                              15\n",
       "Unidad 11                             11\n",
       "Unidad 6                              11\n",
       "Unidad 10                             10\n",
       "5 SIN DETENIDO                         7\n",
       "UEAEMDVD-2                             7\n",
       "Unidad 3                               5\n",
       "6 SIN DETENIDO  6 S/D                  4\n",
       "FDS-2-05                               3\n",
       "ACUSATORIO UNO SIN DETENIDO            2\n",
       "UI-9SD                                 2\n",
       "8 SIN DETENIDO 8 S/D                   2\n",
       "UI-19SD                                1\n",
       "FDS-4-04                               1\n",
       "EX-EJIDO DE SANTA URSULA COAPA         1\n",
       "REFORMA PENSIL                         1\n",
       "DOCTORES                               1\n",
       "UEAEMDVD-1                             1\n",
       "FDS-4-05                               1\n",
       "Name: count, dtype: int64"
      ]
     },
     "execution_count": 48,
     "metadata": {},
     "output_type": "execute_result"
    }
   ],
   "source": [
    "df[\"v_unidad_investigacion\"].value_counts()"
   ]
  },
  {
   "cell_type": "code",
   "execution_count": 49,
   "id": "9b6616f8-ecad-4210-af36-79d7e01e204f",
   "metadata": {
    "tags": []
   },
   "outputs": [],
   "source": [
    "df[\"v_unidad_investigacion\"]=df[\"v_unidad_investigacion\"].map(lambda x:clean_text(x).replace(\"\\n\",\"\"))"
   ]
  },
  {
   "cell_type": "code",
   "execution_count": 50,
   "id": "e2dcc4b1-e76e-4abb-89d9-6516e440244f",
   "metadata": {
    "tags": []
   },
   "outputs": [
    {
     "data": {
      "text/plain": [
       "v_unidad_investigacion\n",
       "ui 1sd                            212454\n",
       "ui 2sd                            118391\n",
       "ui 1cd                            108302\n",
       "ui 3sd                             97691\n",
       "ui 3cd                             96292\n",
       "ui 2cd                             93877\n",
       "3 con detenido 3 c d                3549\n",
       "2 con detenido 2 c d                3179\n",
       "ui 4sd                              3071\n",
       "1 con detenido 1 c d                2819\n",
       "2 s d                               2805\n",
       "1 s d                               2457\n",
       "fds 6 02                            1274\n",
       "3 s d                               1244\n",
       "4 sin detenido 4 s d                1243\n",
       "fds 6 01                            1136\n",
       "fds 5 01                             997\n",
       "fds 6 03                             980\n",
       "fds 1 03                             767\n",
       "fds 5 03                             753\n",
       "fds 5 02                             719\n",
       "ui 7sd                               684\n",
       "fds 2 01                             650\n",
       "fds 2 02                             639\n",
       "fds 1 02                             636\n",
       "fds 4 03                             634\n",
       "ui 5sd                               623\n",
       "fds 2 03                             617\n",
       "2 sin detenido                       616\n",
       "3 sin detenido                       596\n",
       "fds 4 01                             586\n",
       "fds 4 02                             583\n",
       "fds 1 01                             560\n",
       "1 sin detenido                       538\n",
       "ui 6sd                               522\n",
       "3 sin detenido 3 s d                 519\n",
       "fds 3 02                             455\n",
       "fds 3 01                             435\n",
       "fds 3 03                             431\n",
       "2 sin detenido 2 s d                 419\n",
       "1 sin detenido 1 s d                 401\n",
       "b 2 sin detenido                     353\n",
       "d 6 sin detenido                     348\n",
       "b 4 sin detenido                     313\n",
       "b 3 sin detenido                     295\n",
       "unidad de investigacian 7 s d        282\n",
       "b 5 sin detenido                     281\n",
       "b 6 sin detenido                     274\n",
       "b 1 sin detenido                     187\n",
       "3 con detenido                       123\n",
       "2 con detenido                       104\n",
       "5 sin detenido 5 s d                  99\n",
       "unidad 17                             90\n",
       "1 con detenido                        89\n",
       "unidad 18                             84\n",
       "unidad 20                             78\n",
       "unidad 16                             71\n",
       "unidad 19                             69\n",
       "unidad 9                              38\n",
       "unidad 4                              29\n",
       "unidad 12                             28\n",
       "unidad 2                              26\n",
       "unidad 15                             25\n",
       "unidad 14                             22\n",
       "unidad 7                              21\n",
       "unidad 5                              20\n",
       "unidad 1                              20\n",
       "unidad 13                             17\n",
       "ui 8sd                                17\n",
       "unidad 8                              15\n",
       "unidad 6                              11\n",
       "unidad 11                             11\n",
       "unidad 10                             10\n",
       "5 sin detenido                         7\n",
       "ueaemdvd 2                             7\n",
       "unidad 3                               5\n",
       "6 sin detenido 6 s d                   4\n",
       "fds 2 05                               3\n",
       "acusatorio uno sin detenido            2\n",
       "ui 9sd                                 2\n",
       "8 sin detenido 8 s d                   2\n",
       "ui 19sd                                1\n",
       "fds 4 04                               1\n",
       "ex ejido de santa ursula coapa         1\n",
       "reforma pensil                         1\n",
       "doctores                               1\n",
       "ueaemdvd 1                             1\n",
       "fds 4 05                               1\n",
       "Name: count, dtype: int64"
      ]
     },
     "execution_count": 50,
     "metadata": {},
     "output_type": "execute_result"
    }
   ],
   "source": [
    "df[\"v_unidad_investigacion\"].value_counts()"
   ]
  },
  {
   "cell_type": "markdown",
   "id": "c5c64ada-2e25-4405-879f-c5b04dee74c2",
   "metadata": {},
   "source": [
    "## Limpieza de v_colonia_hechos"
   ]
  },
  {
   "cell_type": "code",
   "execution_count": 51,
   "id": "f6a5302a-8b02-4972-b267-99f48711c638",
   "metadata": {
    "tags": []
   },
   "outputs": [
    {
     "data": {
      "text/plain": [
       "v_colonia_hechos\n",
       "CENTRO                                 28123\n",
       "DOCTORES                               15707\n",
       "DEL VALLE CENTRO                       12456\n",
       "ROMA NORTE                             10292\n",
       "NARVARTE                                9232\n",
       "                                       ...  \n",
       "IZTACALCO                                  1\n",
       "MILPA LOS CERROS                           1\n",
       "BELEN DE LAS FLORES SECCION TURBINA        1\n",
       "SECTOR MARINA                              1\n",
       "CAMPO DE TIRO LOS GAMITOS                  1\n",
       "Name: count, Length: 1629, dtype: int64"
      ]
     },
     "execution_count": 51,
     "metadata": {},
     "output_type": "execute_result"
    }
   ],
   "source": [
    "df[\"v_colonia_hechos\"].value_counts()"
   ]
  },
  {
   "cell_type": "code",
   "execution_count": 52,
   "id": "eac7423c-dedf-460d-8984-3aa4857f5acf",
   "metadata": {
    "tags": []
   },
   "outputs": [],
   "source": [
    "df[\"v_colonia_hechos\"]=df[\"v_colonia_hechos\"].map(lambda x:clean_text(x).replace(\"\\n\",\"\"))"
   ]
  },
  {
   "cell_type": "code",
   "execution_count": 53,
   "id": "f8e48a92-45b6-4afa-b362-fae7b7ee13e5",
   "metadata": {
    "tags": []
   },
   "outputs": [
    {
     "data": {
      "text/plain": [
       "v_colonia_hechos\n",
       "centro                                 28123\n",
       "doctores                               15707\n",
       "del valle centro                       12456\n",
       "roma norte                             10292\n",
       "narvarte                                9232\n",
       "                                       ...  \n",
       "iztacalco                                  1\n",
       "milpa los cerros                           1\n",
       "belen de las flores seccion turbina        1\n",
       "sector marina                              1\n",
       "san juan tepenahuac                        1\n",
       "Name: count, Length: 1625, dtype: int64"
      ]
     },
     "execution_count": 53,
     "metadata": {},
     "output_type": "execute_result"
    }
   ],
   "source": [
    "df[\"v_colonia_hechos\"].value_counts()"
   ]
  },
  {
   "cell_type": "markdown",
   "id": "513ba2ac-6ea7-4518-a5c3-4722a22908e7",
   "metadata": {},
   "source": [
    "## Limpieza de v_alcaldia_hechos"
   ]
  },
  {
   "cell_type": "code",
   "execution_count": 54,
   "id": "0564ce43-02ff-4abd-a76d-fd564dc896df",
   "metadata": {
    "tags": []
   },
   "outputs": [
    {
     "data": {
      "text/plain": [
       "v_alcaldia_hechos\n",
       "CUAUHTEMOC                124106\n",
       "IZTAPALAPA                114054\n",
       "GUSTAVO A MADERO           76456\n",
       "BENITO JUAREZ              68692\n",
       "COYOACAN                   52456\n",
       "MIGUEL HIDALGO             52099\n",
       "ALVARO OBREGON             50856\n",
       "TLALPAN                    44581\n",
       "VENUSTIANO CARRANZA        44198\n",
       "AZCAPOTZALCO               38618\n",
       "IZTACALCO                  33700\n",
       "XOCHIMILCO                 23839\n",
       "TLAHUAC                    17134\n",
       "LA MAGDALENA CONTRERAS     11773\n",
       "CUAJIMALPA DE MORELOS      11119\n",
       "MILPA ALTA                  4952\n",
       "Name: count, dtype: int64"
      ]
     },
     "execution_count": 54,
     "metadata": {},
     "output_type": "execute_result"
    }
   ],
   "source": [
    "df[\"v_alcaldia_hechos\"].value_counts()"
   ]
  },
  {
   "cell_type": "code",
   "execution_count": 55,
   "id": "890cf682-573f-486c-8de1-c305e7b72fe0",
   "metadata": {
    "tags": []
   },
   "outputs": [],
   "source": [
    "df[\"v_alcaldia_hechos\"]=df[\"v_alcaldia_hechos\"].map(lambda x:clean_text(x).replace(\"\\n\",\"\"))"
   ]
  },
  {
   "cell_type": "code",
   "execution_count": 56,
   "id": "ef97d06f-075e-4235-81ef-5ce7d157b782",
   "metadata": {
    "tags": []
   },
   "outputs": [
    {
     "data": {
      "text/plain": [
       "v_alcaldia_hechos\n",
       "cuauhtemoc                124106\n",
       "iztapalapa                114054\n",
       "gustavo a madero           76456\n",
       "benito juarez              68692\n",
       "coyoacan                   52456\n",
       "miguel hidalgo             52099\n",
       "alvaro obregon             50856\n",
       "tlalpan                    44581\n",
       "venustiano carranza        44198\n",
       "azcapotzalco               38618\n",
       "iztacalco                  33700\n",
       "xochimilco                 23839\n",
       "tlahuac                    17134\n",
       "la magdalena contreras     11773\n",
       "cuajimalpa de morelos      11119\n",
       "milpa alta                  4952\n",
       "Name: count, dtype: int64"
      ]
     },
     "execution_count": 56,
     "metadata": {},
     "output_type": "execute_result"
    }
   ],
   "source": [
    "df[\"v_alcaldia_hechos\"].value_counts()"
   ]
  },
  {
   "cell_type": "markdown",
   "id": "99e4590f-e33c-4dd3-b2ad-94088bebf625",
   "metadata": {},
   "source": [
    "### Normalizacion de variable delegacion"
   ]
  },
  {
   "cell_type": "code",
   "execution_count": 57,
   "id": "9c6b1a24-b6e6-42bd-8cc9-9e056b8bab8b",
   "metadata": {
    "tags": []
   },
   "outputs": [],
   "source": [
    "#modificamos \"v_alcaldia_hechos\" \n",
    "df[\"v_alcaldia_hechos\"]=df[\"v_alcaldia_hechos\"].replace({\"cuauhtemoc\":\"Zona Centro Poniente\"\n",
    "                                                         ,\"miguel hidalgo\":\"Zona Centro Poniente\"\n",
    "                                                         ,\"alvaro obregon\":\"Zona Centro Poniente\"\n",
    "                                                         ,\"azcapotzalco\":\"Zona Centro Poniente\"\n",
    "                                                         ,\"cuajimalpa de morelos\":\"Zona Centro Poniente\"\n",
    "                                                         ,\"benito juarez\":\"Zona Sur\"\n",
    "                                                         ,\"coyoacan\":\"Zona Sur\"\n",
    "                                                         ,\"tlalpan\":\"Zona Sur\"\n",
    "                                                         ,\"la magdalena contreras\":\"Zona Sur\"\n",
    "                                                         ,\"gustavo a madero\":\"Zona Norte\"\n",
    "                                                         ,\"venustiano carranza\":\"Zona Norte\"\n",
    "                                                         ,\"iztacalco\":\"Zona Norte\"\n",
    "                                                         ,\"iztapalapa\":\"Zona Oriente\"\n",
    "                                                         ,\"tlahuac\":\"Zona Oriente\"\n",
    "                                                         ,\"xochimilco\":\"Zona Oriente\"\n",
    "                                                         ,\"milpa alta\":\"Zona Oriente\"\n",
    "                                                         })"
   ]
  },
  {
   "cell_type": "code",
   "execution_count": 58,
   "id": "e3febd4f-0665-4364-8be2-2bb0931455c8",
   "metadata": {
    "tags": []
   },
   "outputs": [
    {
     "data": {
      "text/plain": [
       "v_alcaldia_hechos\n",
       "Zona Centro Poniente    276798\n",
       "Zona Sur                177502\n",
       "Zona Oriente            159979\n",
       "Zona Norte              154354\n",
       "Name: count, dtype: int64"
      ]
     },
     "execution_count": 58,
     "metadata": {},
     "output_type": "execute_result"
    }
   ],
   "source": [
    "df[\"v_alcaldia_hechos\"].value_counts()"
   ]
  },
  {
   "cell_type": "markdown",
   "id": "53a17833-7d0c-4dbd-bc57-4fed333cc34e",
   "metadata": {},
   "source": [
    "## Limpieza de v_mes_inicio"
   ]
  },
  {
   "cell_type": "code",
   "execution_count": 59,
   "id": "367b241e-19a3-4374-8f30-eedf307cf9ed",
   "metadata": {
    "tags": []
   },
   "outputs": [
    {
     "data": {
      "text/plain": [
       "v_mes_inicio\n",
       "Mayo          77000\n",
       "Marzo         73856\n",
       "Junio         73531\n",
       "Abril         71901\n",
       "Enero         69444\n",
       "Febrero       67869\n",
       "Octubre       59874\n",
       "Agosto        57163\n",
       "Noviembre     55761\n",
       "Septiembre    54408\n",
       "Julio         54291\n",
       "Diciembre     53535\n",
       "Name: count, dtype: int64"
      ]
     },
     "execution_count": 59,
     "metadata": {},
     "output_type": "execute_result"
    }
   ],
   "source": [
    "df[\"v_mes_inicio\"].value_counts()"
   ]
  },
  {
   "cell_type": "code",
   "execution_count": 60,
   "id": "487aa0e0-7df2-43a3-9894-cb4701a3ebbf",
   "metadata": {
    "tags": []
   },
   "outputs": [],
   "source": [
    "df[\"v_mes_inicio\"]=df[\"v_mes_inicio\"].map(lambda x:clean_text(x).replace(\"\\n\",\"\"))"
   ]
  },
  {
   "cell_type": "code",
   "execution_count": 61,
   "id": "09939d21-ac93-4787-97c6-af356fea033b",
   "metadata": {
    "tags": []
   },
   "outputs": [
    {
     "data": {
      "text/plain": [
       "v_mes_inicio\n",
       "mayo          77000\n",
       "marzo         73856\n",
       "junio         73531\n",
       "abril         71901\n",
       "enero         69444\n",
       "febrero       67869\n",
       "octubre       59874\n",
       "agosto        57163\n",
       "noviembre     55761\n",
       "septiembre    54408\n",
       "julio         54291\n",
       "diciembre     53535\n",
       "Name: count, dtype: int64"
      ]
     },
     "execution_count": 61,
     "metadata": {},
     "output_type": "execute_result"
    }
   ],
   "source": [
    "df[\"v_mes_inicio\"].value_counts()"
   ]
  },
  {
   "cell_type": "code",
   "execution_count": 62,
   "id": "7e895198-73a1-4e82-9606-63819b05d48d",
   "metadata": {
    "tags": []
   },
   "outputs": [
    {
     "data": {
      "text/html": [
       "<div>\n",
       "<style scoped>\n",
       "    .dataframe tbody tr th:only-of-type {\n",
       "        vertical-align: middle;\n",
       "    }\n",
       "\n",
       "    .dataframe tbody tr th {\n",
       "        vertical-align: top;\n",
       "    }\n",
       "\n",
       "    .dataframe thead th {\n",
       "        text-align: right;\n",
       "    }\n",
       "</style>\n",
       "<table border=\"1\" class=\"dataframe\">\n",
       "  <thead>\n",
       "    <tr style=\"text-align: right;\">\n",
       "      <th></th>\n",
       "      <th>c_id</th>\n",
       "      <th>c_ao_hechos</th>\n",
       "      <th>v_mes_hechos</th>\n",
       "      <th>d_fecha_hechos</th>\n",
       "      <th>v_delito</th>\n",
       "      <th>v_categoria_delito</th>\n",
       "      <th>v_fiscalia</th>\n",
       "      <th>v_agencia</th>\n",
       "      <th>v_unidad_investigacion</th>\n",
       "      <th>v_colonia_hechos</th>\n",
       "      <th>v_alcaldia_hechos</th>\n",
       "      <th>d_fecha_inicio</th>\n",
       "      <th>v_mes_inicio</th>\n",
       "      <th>ao_inicio</th>\n",
       "      <th>t_calle_hechos</th>\n",
       "      <th>t_calle_hechos2</th>\n",
       "      <th>g_longitud</th>\n",
       "      <th>g_latitud</th>\n",
       "      <th>g_geopoint</th>\n",
       "    </tr>\n",
       "  </thead>\n",
       "  <tbody>\n",
       "    <tr>\n",
       "      <th>0</th>\n",
       "      <td>0</td>\n",
       "      <td>2016</td>\n",
       "      <td>Enero</td>\n",
       "      <td>2016-01-05 17:00:00</td>\n",
       "      <td>lesiones</td>\n",
       "      <td>Delito menor</td>\n",
       "      <td>investigacian en gustavo a madero</td>\n",
       "      <td>gam 6</td>\n",
       "      <td>ui 1cd</td>\n",
       "      <td>granjas modernas</td>\n",
       "      <td>Zona Norte</td>\n",
       "      <td>2016-01-05 18:35:37</td>\n",
       "      <td>enero</td>\n",
       "      <td>2016</td>\n",
       "      <td>san juan de aragon</td>\n",
       "      <td>CALLE ANZAR</td>\n",
       "      <td>-99.103527</td>\n",
       "      <td>19.481076</td>\n",
       "      <td>19.4810759998,-99.103527</td>\n",
       "    </tr>\n",
       "    <tr>\n",
       "      <th>1</th>\n",
       "      <td>2</td>\n",
       "      <td>2017</td>\n",
       "      <td>Noviembre</td>\n",
       "      <td>2017-11-01 16:40:00</td>\n",
       "      <td>robo</td>\n",
       "      <td>Delito grave</td>\n",
       "      <td>investigacian en iztacalco</td>\n",
       "      <td>izc 2</td>\n",
       "      <td>ui 1sd</td>\n",
       "      <td>gabriel ramos millan seccian tlacotal</td>\n",
       "      <td>Zona Norte</td>\n",
       "      <td>2017-11-01 16:56:04</td>\n",
       "      <td>noviembre</td>\n",
       "      <td>2017</td>\n",
       "      <td>sur 117</td>\n",
       "      <td>ORIENTE 100A</td>\n",
       "      <td>-99.106072</td>\n",
       "      <td>19.395398</td>\n",
       "      <td>19.3953976727,-99.1060723829</td>\n",
       "    </tr>\n",
       "    <tr>\n",
       "      <th>2</th>\n",
       "      <td>3</td>\n",
       "      <td>2015</td>\n",
       "      <td>Diciembre</td>\n",
       "      <td>2015-12-30 20:00:00</td>\n",
       "      <td>fraude</td>\n",
       "      <td>Delito menor</td>\n",
       "      <td>investigacian en iztapalapa</td>\n",
       "      <td>izp 8</td>\n",
       "      <td>ui 1cd</td>\n",
       "      <td>consejo agrarista mexicano</td>\n",
       "      <td>Zona Oriente</td>\n",
       "      <td>2016-01-05 21:12:42</td>\n",
       "      <td>enero</td>\n",
       "      <td>2016</td>\n",
       "      <td>cuarta cerrada de fresno</td>\n",
       "      <td>ENCINO (SIN REGISTRO DEL SAP)</td>\n",
       "      <td>-99.055887</td>\n",
       "      <td>19.322458</td>\n",
       "      <td>19.3224579998,-99.055887</td>\n",
       "    </tr>\n",
       "    <tr>\n",
       "      <th>3</th>\n",
       "      <td>4</td>\n",
       "      <td>2018</td>\n",
       "      <td>Mayo</td>\n",
       "      <td>2018-05-16 16:00:00</td>\n",
       "      <td>robo</td>\n",
       "      <td>Delito grave</td>\n",
       "      <td>investigacian en iztapalapa</td>\n",
       "      <td>izp 9</td>\n",
       "      <td>ui 2sd</td>\n",
       "      <td>desarrollo urbano quetzalcoatl</td>\n",
       "      <td>Zona Oriente</td>\n",
       "      <td>2018-05-22 10:44:45</td>\n",
       "      <td>mayo</td>\n",
       "      <td>2018</td>\n",
       "      <td>tarasco</td>\n",
       "      <td>ZAPOTECO</td>\n",
       "      <td>-99.042786</td>\n",
       "      <td>19.319141</td>\n",
       "      <td>19.3191405147,-99.0427862526</td>\n",
       "    </tr>\n",
       "    <tr>\n",
       "      <th>4</th>\n",
       "      <td>5</td>\n",
       "      <td>2018</td>\n",
       "      <td>Mayo</td>\n",
       "      <td>2018-05-21 20:40:00</td>\n",
       "      <td>robo</td>\n",
       "      <td>Delito menor</td>\n",
       "      <td>investigacian en cuauhtemoc</td>\n",
       "      <td>cuh 2</td>\n",
       "      <td>ui 2sd</td>\n",
       "      <td>infonavit iztacalco</td>\n",
       "      <td>Zona Norte</td>\n",
       "      <td>2018-05-22 10:52:18</td>\n",
       "      <td>mayo</td>\n",
       "      <td>2018</td>\n",
       "      <td>francisco del paso y troncoso</td>\n",
       "      <td>ISLA</td>\n",
       "      <td>-99.111563</td>\n",
       "      <td>19.386594</td>\n",
       "      <td>19.3865939284,-99.1115626682</td>\n",
       "    </tr>\n",
       "  </tbody>\n",
       "</table>\n",
       "</div>"
      ],
      "text/plain": [
       "   c_id  c_ao_hechos v_mes_hechos       d_fecha_hechos  v_delito  \\\n",
       "0     0         2016        Enero  2016-01-05 17:00:00  lesiones   \n",
       "1     2         2017    Noviembre  2017-11-01 16:40:00      robo   \n",
       "2     3         2015    Diciembre  2015-12-30 20:00:00    fraude   \n",
       "3     4         2018         Mayo  2018-05-16 16:00:00      robo   \n",
       "4     5         2018         Mayo  2018-05-21 20:40:00      robo   \n",
       "\n",
       "  v_categoria_delito                         v_fiscalia v_agencia  \\\n",
       "0       Delito menor  investigacian en gustavo a madero     gam 6   \n",
       "1       Delito grave         investigacian en iztacalco     izc 2   \n",
       "2       Delito menor        investigacian en iztapalapa     izp 8   \n",
       "3       Delito grave        investigacian en iztapalapa     izp 9   \n",
       "4       Delito menor        investigacian en cuauhtemoc     cuh 2   \n",
       "\n",
       "  v_unidad_investigacion                       v_colonia_hechos  \\\n",
       "0                 ui 1cd                       granjas modernas   \n",
       "1                 ui 1sd  gabriel ramos millan seccian tlacotal   \n",
       "2                 ui 1cd             consejo agrarista mexicano   \n",
       "3                 ui 2sd         desarrollo urbano quetzalcoatl   \n",
       "4                 ui 2sd                    infonavit iztacalco   \n",
       "\n",
       "  v_alcaldia_hechos       d_fecha_inicio v_mes_inicio  ao_inicio  \\\n",
       "0        Zona Norte  2016-01-05 18:35:37        enero       2016   \n",
       "1        Zona Norte  2017-11-01 16:56:04    noviembre       2017   \n",
       "2      Zona Oriente  2016-01-05 21:12:42        enero       2016   \n",
       "3      Zona Oriente  2018-05-22 10:44:45         mayo       2018   \n",
       "4        Zona Norte  2018-05-22 10:52:18         mayo       2018   \n",
       "\n",
       "                  t_calle_hechos                t_calle_hechos2 g_longitud  \\\n",
       "0             san juan de aragon                    CALLE ANZAR -99.103527   \n",
       "1                        sur 117                   ORIENTE 100A -99.106072   \n",
       "2       cuarta cerrada de fresno  ENCINO (SIN REGISTRO DEL SAP) -99.055887   \n",
       "3                        tarasco                       ZAPOTECO -99.042786   \n",
       "4  francisco del paso y troncoso                           ISLA -99.111563   \n",
       "\n",
       "   g_latitud                    g_geopoint  \n",
       "0  19.481076      19.4810759998,-99.103527  \n",
       "1  19.395398  19.3953976727,-99.1060723829  \n",
       "2  19.322458      19.3224579998,-99.055887  \n",
       "3  19.319141  19.3191405147,-99.0427862526  \n",
       "4  19.386594  19.3865939284,-99.1115626682  "
      ]
     },
     "execution_count": 62,
     "metadata": {},
     "output_type": "execute_result"
    }
   ],
   "source": [
    "df.head()"
   ]
  },
  {
   "cell_type": "markdown",
   "id": "ea8646fe-11cd-46f5-9e04-93c7b2755f72",
   "metadata": {},
   "source": [
    "## Limpieza d_fecha_hechos"
   ]
  },
  {
   "cell_type": "code",
   "execution_count": 63,
   "id": "bc9edcf7-ad2c-4376-8b23-e5d6461d7263",
   "metadata": {
    "tags": []
   },
   "outputs": [],
   "source": [
    "def limpiar_fecha(fecha):\n",
    "    #expresión regular para buscar el formato de fecha deseado (YYYY-MM-DD) orden\n",
    "    exp = re.search(r'\\d{4}-\\d{2}-\\d{2} \\d{2}:\\d{2}:\\d{2}', fecha)\n",
    "    \n",
    "    if exp:\n",
    "        return exp.group()  \n",
    "    else:\n",
    "        return None \n",
    "\n",
    "df['d_fecha_hechos'] = df['d_fecha_hechos'].apply(limpiar_fecha)\n"
   ]
  },
  {
   "cell_type": "code",
   "execution_count": 64,
   "id": "05bf5cf2-8dcd-417d-b844-c4b8bf1832b9",
   "metadata": {
    "tags": []
   },
   "outputs": [
    {
     "data": {
      "text/html": [
       "<div>\n",
       "<style scoped>\n",
       "    .dataframe tbody tr th:only-of-type {\n",
       "        vertical-align: middle;\n",
       "    }\n",
       "\n",
       "    .dataframe tbody tr th {\n",
       "        vertical-align: top;\n",
       "    }\n",
       "\n",
       "    .dataframe thead th {\n",
       "        text-align: right;\n",
       "    }\n",
       "</style>\n",
       "<table border=\"1\" class=\"dataframe\">\n",
       "  <thead>\n",
       "    <tr style=\"text-align: right;\">\n",
       "      <th></th>\n",
       "      <th>c_id</th>\n",
       "      <th>c_ao_hechos</th>\n",
       "      <th>v_mes_hechos</th>\n",
       "      <th>d_fecha_hechos</th>\n",
       "      <th>v_delito</th>\n",
       "      <th>v_categoria_delito</th>\n",
       "      <th>v_fiscalia</th>\n",
       "      <th>v_agencia</th>\n",
       "      <th>v_unidad_investigacion</th>\n",
       "      <th>v_colonia_hechos</th>\n",
       "      <th>v_alcaldia_hechos</th>\n",
       "      <th>d_fecha_inicio</th>\n",
       "      <th>v_mes_inicio</th>\n",
       "      <th>ao_inicio</th>\n",
       "      <th>t_calle_hechos</th>\n",
       "      <th>t_calle_hechos2</th>\n",
       "      <th>g_longitud</th>\n",
       "      <th>g_latitud</th>\n",
       "      <th>g_geopoint</th>\n",
       "    </tr>\n",
       "  </thead>\n",
       "  <tbody>\n",
       "    <tr>\n",
       "      <th>0</th>\n",
       "      <td>0</td>\n",
       "      <td>2016</td>\n",
       "      <td>Enero</td>\n",
       "      <td>2016-01-05 17:00:00</td>\n",
       "      <td>lesiones</td>\n",
       "      <td>Delito menor</td>\n",
       "      <td>investigacian en gustavo a madero</td>\n",
       "      <td>gam 6</td>\n",
       "      <td>ui 1cd</td>\n",
       "      <td>granjas modernas</td>\n",
       "      <td>Zona Norte</td>\n",
       "      <td>2016-01-05 18:35:37</td>\n",
       "      <td>enero</td>\n",
       "      <td>2016</td>\n",
       "      <td>san juan de aragon</td>\n",
       "      <td>CALLE ANZAR</td>\n",
       "      <td>-99.103527</td>\n",
       "      <td>19.481076</td>\n",
       "      <td>19.4810759998,-99.103527</td>\n",
       "    </tr>\n",
       "    <tr>\n",
       "      <th>1</th>\n",
       "      <td>2</td>\n",
       "      <td>2017</td>\n",
       "      <td>Noviembre</td>\n",
       "      <td>2017-11-01 16:40:00</td>\n",
       "      <td>robo</td>\n",
       "      <td>Delito grave</td>\n",
       "      <td>investigacian en iztacalco</td>\n",
       "      <td>izc 2</td>\n",
       "      <td>ui 1sd</td>\n",
       "      <td>gabriel ramos millan seccian tlacotal</td>\n",
       "      <td>Zona Norte</td>\n",
       "      <td>2017-11-01 16:56:04</td>\n",
       "      <td>noviembre</td>\n",
       "      <td>2017</td>\n",
       "      <td>sur 117</td>\n",
       "      <td>ORIENTE 100A</td>\n",
       "      <td>-99.106072</td>\n",
       "      <td>19.395398</td>\n",
       "      <td>19.3953976727,-99.1060723829</td>\n",
       "    </tr>\n",
       "    <tr>\n",
       "      <th>2</th>\n",
       "      <td>3</td>\n",
       "      <td>2015</td>\n",
       "      <td>Diciembre</td>\n",
       "      <td>2015-12-30 20:00:00</td>\n",
       "      <td>fraude</td>\n",
       "      <td>Delito menor</td>\n",
       "      <td>investigacian en iztapalapa</td>\n",
       "      <td>izp 8</td>\n",
       "      <td>ui 1cd</td>\n",
       "      <td>consejo agrarista mexicano</td>\n",
       "      <td>Zona Oriente</td>\n",
       "      <td>2016-01-05 21:12:42</td>\n",
       "      <td>enero</td>\n",
       "      <td>2016</td>\n",
       "      <td>cuarta cerrada de fresno</td>\n",
       "      <td>ENCINO (SIN REGISTRO DEL SAP)</td>\n",
       "      <td>-99.055887</td>\n",
       "      <td>19.322458</td>\n",
       "      <td>19.3224579998,-99.055887</td>\n",
       "    </tr>\n",
       "    <tr>\n",
       "      <th>3</th>\n",
       "      <td>4</td>\n",
       "      <td>2018</td>\n",
       "      <td>Mayo</td>\n",
       "      <td>2018-05-16 16:00:00</td>\n",
       "      <td>robo</td>\n",
       "      <td>Delito grave</td>\n",
       "      <td>investigacian en iztapalapa</td>\n",
       "      <td>izp 9</td>\n",
       "      <td>ui 2sd</td>\n",
       "      <td>desarrollo urbano quetzalcoatl</td>\n",
       "      <td>Zona Oriente</td>\n",
       "      <td>2018-05-22 10:44:45</td>\n",
       "      <td>mayo</td>\n",
       "      <td>2018</td>\n",
       "      <td>tarasco</td>\n",
       "      <td>ZAPOTECO</td>\n",
       "      <td>-99.042786</td>\n",
       "      <td>19.319141</td>\n",
       "      <td>19.3191405147,-99.0427862526</td>\n",
       "    </tr>\n",
       "    <tr>\n",
       "      <th>4</th>\n",
       "      <td>5</td>\n",
       "      <td>2018</td>\n",
       "      <td>Mayo</td>\n",
       "      <td>2018-05-21 20:40:00</td>\n",
       "      <td>robo</td>\n",
       "      <td>Delito menor</td>\n",
       "      <td>investigacian en cuauhtemoc</td>\n",
       "      <td>cuh 2</td>\n",
       "      <td>ui 2sd</td>\n",
       "      <td>infonavit iztacalco</td>\n",
       "      <td>Zona Norte</td>\n",
       "      <td>2018-05-22 10:52:18</td>\n",
       "      <td>mayo</td>\n",
       "      <td>2018</td>\n",
       "      <td>francisco del paso y troncoso</td>\n",
       "      <td>ISLA</td>\n",
       "      <td>-99.111563</td>\n",
       "      <td>19.386594</td>\n",
       "      <td>19.3865939284,-99.1115626682</td>\n",
       "    </tr>\n",
       "  </tbody>\n",
       "</table>\n",
       "</div>"
      ],
      "text/plain": [
       "   c_id  c_ao_hechos v_mes_hechos       d_fecha_hechos  v_delito  \\\n",
       "0     0         2016        Enero  2016-01-05 17:00:00  lesiones   \n",
       "1     2         2017    Noviembre  2017-11-01 16:40:00      robo   \n",
       "2     3         2015    Diciembre  2015-12-30 20:00:00    fraude   \n",
       "3     4         2018         Mayo  2018-05-16 16:00:00      robo   \n",
       "4     5         2018         Mayo  2018-05-21 20:40:00      robo   \n",
       "\n",
       "  v_categoria_delito                         v_fiscalia v_agencia  \\\n",
       "0       Delito menor  investigacian en gustavo a madero     gam 6   \n",
       "1       Delito grave         investigacian en iztacalco     izc 2   \n",
       "2       Delito menor        investigacian en iztapalapa     izp 8   \n",
       "3       Delito grave        investigacian en iztapalapa     izp 9   \n",
       "4       Delito menor        investigacian en cuauhtemoc     cuh 2   \n",
       "\n",
       "  v_unidad_investigacion                       v_colonia_hechos  \\\n",
       "0                 ui 1cd                       granjas modernas   \n",
       "1                 ui 1sd  gabriel ramos millan seccian tlacotal   \n",
       "2                 ui 1cd             consejo agrarista mexicano   \n",
       "3                 ui 2sd         desarrollo urbano quetzalcoatl   \n",
       "4                 ui 2sd                    infonavit iztacalco   \n",
       "\n",
       "  v_alcaldia_hechos       d_fecha_inicio v_mes_inicio  ao_inicio  \\\n",
       "0        Zona Norte  2016-01-05 18:35:37        enero       2016   \n",
       "1        Zona Norte  2017-11-01 16:56:04    noviembre       2017   \n",
       "2      Zona Oriente  2016-01-05 21:12:42        enero       2016   \n",
       "3      Zona Oriente  2018-05-22 10:44:45         mayo       2018   \n",
       "4        Zona Norte  2018-05-22 10:52:18         mayo       2018   \n",
       "\n",
       "                  t_calle_hechos                t_calle_hechos2 g_longitud  \\\n",
       "0             san juan de aragon                    CALLE ANZAR -99.103527   \n",
       "1                        sur 117                   ORIENTE 100A -99.106072   \n",
       "2       cuarta cerrada de fresno  ENCINO (SIN REGISTRO DEL SAP) -99.055887   \n",
       "3                        tarasco                       ZAPOTECO -99.042786   \n",
       "4  francisco del paso y troncoso                           ISLA -99.111563   \n",
       "\n",
       "   g_latitud                    g_geopoint  \n",
       "0  19.481076      19.4810759998,-99.103527  \n",
       "1  19.395398  19.3953976727,-99.1060723829  \n",
       "2  19.322458      19.3224579998,-99.055887  \n",
       "3  19.319141  19.3191405147,-99.0427862526  \n",
       "4  19.386594  19.3865939284,-99.1115626682  "
      ]
     },
     "execution_count": 64,
     "metadata": {},
     "output_type": "execute_result"
    }
   ],
   "source": [
    "df.head()"
   ]
  },
  {
   "cell_type": "code",
   "execution_count": 65,
   "id": "c2734e93-1c03-42c8-b99c-0e902fffdb12",
   "metadata": {
    "tags": []
   },
   "outputs": [
    {
     "data": {
      "text/plain": [
       "0         2016-01-05 17:00:00\n",
       "1         2017-11-01 16:40:00\n",
       "2         2015-12-30 20:00:00\n",
       "3         2018-05-16 16:00:00\n",
       "4         2018-05-21 20:40:00\n",
       "                 ...         \n",
       "774947    2018-07-09 22:30:00\n",
       "774948    2018-07-29 05:00:00\n",
       "774949    2019-02-14 19:00:00\n",
       "774950    2019-02-15 10:00:00\n",
       "774951    2017-04-01 10:00:00\n",
       "Name: d_fecha_hechos, Length: 768633, dtype: object"
      ]
     },
     "execution_count": 65,
     "metadata": {},
     "output_type": "execute_result"
    }
   ],
   "source": [
    "df[\"d_fecha_hechos\"].replace({None: np.nan})"
   ]
  },
  {
   "cell_type": "code",
   "execution_count": 66,
   "id": "b936c62a-2cb5-492b-a98a-dbc554a241a9",
   "metadata": {
    "tags": []
   },
   "outputs": [
    {
     "data": {
      "text/plain": [
       "d_fecha_hechos\n",
       "2017-10-16 12:00:00    238\n",
       "2016-01-01 12:00:00    142\n",
       "2014-05-30 12:00:00    132\n",
       "2016-03-01 12:00:00    131\n",
       "2016-06-01 12:00:00    131\n",
       "                      ... \n",
       "2018-11-02 11:48:00      1\n",
       "2018-11-01 13:49:00      1\n",
       "2018-10-31 21:50:00      1\n",
       "2018-11-06 09:04:00      1\n",
       "2017-05-24 12:55:00      1\n",
       "Name: count, Length: 249448, dtype: int64"
      ]
     },
     "execution_count": 66,
     "metadata": {},
     "output_type": "execute_result"
    }
   ],
   "source": [
    "df[\"d_fecha_hechos\"].value_counts()"
   ]
  },
  {
   "cell_type": "code",
   "execution_count": 67,
   "id": "9526c434-4d6d-4c3f-ba39-dae86f2721cf",
   "metadata": {
    "tags": []
   },
   "outputs": [],
   "source": [
    "df[\"d_fecha_hechos\"]=pd.to_datetime(df[\"d_fecha_hechos\"])"
   ]
  },
  {
   "cell_type": "code",
   "execution_count": 68,
   "id": "3e6b44db-1520-4e8d-97cb-36165b98c976",
   "metadata": {
    "tags": []
   },
   "outputs": [],
   "source": [
    "def obtener_cuatrimestre(fecha):\n",
    "    if fecha.month <= 4:\n",
    "        return '1er Cuatrimestre'\n",
    "    elif fecha.month <= 8:\n",
    "        return '2do Cuatrimestre'\n",
    "    elif fecha.month <= 12:\n",
    "        return '3er Cuatrimestre'\n",
    "    else:\n",
    "        return np.nan"
   ]
  },
  {
   "cell_type": "code",
   "execution_count": 69,
   "id": "16f46551-1068-44d0-896e-fb4a355161f3",
   "metadata": {
    "tags": []
   },
   "outputs": [
    {
     "name": "stdout",
     "output_type": "stream",
     "text": [
      "<class 'pandas.core.frame.DataFrame'>\n",
      "Index: 768633 entries, 0 to 774951\n",
      "Data columns (total 19 columns):\n",
      " #   Column                  Non-Null Count   Dtype         \n",
      "---  ------                  --------------   -----         \n",
      " 0   c_id                    768633 non-null  int64         \n",
      " 1   c_ao_hechos             768633 non-null  int32         \n",
      " 2   v_mes_hechos            768633 non-null  object        \n",
      " 3   d_fecha_hechos          763632 non-null  datetime64[ns]\n",
      " 4   v_delito                768633 non-null  object        \n",
      " 5   v_categoria_delito      768633 non-null  object        \n",
      " 6   v_fiscalia              768633 non-null  object        \n",
      " 7   v_agencia               768633 non-null  object        \n",
      " 8   v_unidad_investigacion  768633 non-null  object        \n",
      " 9   v_colonia_hechos        768633 non-null  object        \n",
      " 10  v_alcaldia_hechos       768633 non-null  object        \n",
      " 11  d_fecha_inicio          768633 non-null  object        \n",
      " 12  v_mes_inicio            768633 non-null  object        \n",
      " 13  ao_inicio               768633 non-null  int64         \n",
      " 14  t_calle_hechos          768633 non-null  object        \n",
      " 15  t_calle_hechos2         312189 non-null  object        \n",
      " 16  g_longitud              768632 non-null  object        \n",
      " 17  g_latitud               768633 non-null  float64       \n",
      " 18  g_geopoint              768633 non-null  object        \n",
      "dtypes: datetime64[ns](1), float64(1), int32(1), int64(2), object(14)\n",
      "memory usage: 114.4+ MB\n"
     ]
    }
   ],
   "source": [
    "df.info()"
   ]
  },
  {
   "cell_type": "code",
   "execution_count": 70,
   "id": "c5094427-51f5-41af-bc94-0b7b7576c2ef",
   "metadata": {
    "tags": []
   },
   "outputs": [],
   "source": [
    "df['v_cuatrimestre'] = df['d_fecha_hechos'].apply(obtener_cuatrimestre)"
   ]
  },
  {
   "cell_type": "code",
   "execution_count": 71,
   "id": "ec1e8ee5-f851-45d9-b1ce-f57ef8ad2d33",
   "metadata": {
    "tags": []
   },
   "outputs": [
    {
     "data": {
      "text/html": [
       "<div>\n",
       "<style scoped>\n",
       "    .dataframe tbody tr th:only-of-type {\n",
       "        vertical-align: middle;\n",
       "    }\n",
       "\n",
       "    .dataframe tbody tr th {\n",
       "        vertical-align: top;\n",
       "    }\n",
       "\n",
       "    .dataframe thead th {\n",
       "        text-align: right;\n",
       "    }\n",
       "</style>\n",
       "<table border=\"1\" class=\"dataframe\">\n",
       "  <thead>\n",
       "    <tr style=\"text-align: right;\">\n",
       "      <th></th>\n",
       "      <th>c_id</th>\n",
       "      <th>c_ao_hechos</th>\n",
       "      <th>v_mes_hechos</th>\n",
       "      <th>d_fecha_hechos</th>\n",
       "      <th>v_delito</th>\n",
       "      <th>v_categoria_delito</th>\n",
       "      <th>v_fiscalia</th>\n",
       "      <th>v_agencia</th>\n",
       "      <th>v_unidad_investigacion</th>\n",
       "      <th>v_colonia_hechos</th>\n",
       "      <th>v_alcaldia_hechos</th>\n",
       "      <th>d_fecha_inicio</th>\n",
       "      <th>v_mes_inicio</th>\n",
       "      <th>ao_inicio</th>\n",
       "      <th>t_calle_hechos</th>\n",
       "      <th>t_calle_hechos2</th>\n",
       "      <th>g_longitud</th>\n",
       "      <th>g_latitud</th>\n",
       "      <th>g_geopoint</th>\n",
       "      <th>v_cuatrimestre</th>\n",
       "    </tr>\n",
       "  </thead>\n",
       "  <tbody>\n",
       "    <tr>\n",
       "      <th>0</th>\n",
       "      <td>0</td>\n",
       "      <td>2016</td>\n",
       "      <td>Enero</td>\n",
       "      <td>2016-01-05 17:00:00</td>\n",
       "      <td>lesiones</td>\n",
       "      <td>Delito menor</td>\n",
       "      <td>investigacian en gustavo a madero</td>\n",
       "      <td>gam 6</td>\n",
       "      <td>ui 1cd</td>\n",
       "      <td>granjas modernas</td>\n",
       "      <td>Zona Norte</td>\n",
       "      <td>2016-01-05 18:35:37</td>\n",
       "      <td>enero</td>\n",
       "      <td>2016</td>\n",
       "      <td>san juan de aragon</td>\n",
       "      <td>CALLE ANZAR</td>\n",
       "      <td>-99.103527</td>\n",
       "      <td>19.481076</td>\n",
       "      <td>19.4810759998,-99.103527</td>\n",
       "      <td>1er Cuatrimestre</td>\n",
       "    </tr>\n",
       "    <tr>\n",
       "      <th>1</th>\n",
       "      <td>2</td>\n",
       "      <td>2017</td>\n",
       "      <td>Noviembre</td>\n",
       "      <td>2017-11-01 16:40:00</td>\n",
       "      <td>robo</td>\n",
       "      <td>Delito grave</td>\n",
       "      <td>investigacian en iztacalco</td>\n",
       "      <td>izc 2</td>\n",
       "      <td>ui 1sd</td>\n",
       "      <td>gabriel ramos millan seccian tlacotal</td>\n",
       "      <td>Zona Norte</td>\n",
       "      <td>2017-11-01 16:56:04</td>\n",
       "      <td>noviembre</td>\n",
       "      <td>2017</td>\n",
       "      <td>sur 117</td>\n",
       "      <td>ORIENTE 100A</td>\n",
       "      <td>-99.106072</td>\n",
       "      <td>19.395398</td>\n",
       "      <td>19.3953976727,-99.1060723829</td>\n",
       "      <td>3er Cuatrimestre</td>\n",
       "    </tr>\n",
       "    <tr>\n",
       "      <th>2</th>\n",
       "      <td>3</td>\n",
       "      <td>2015</td>\n",
       "      <td>Diciembre</td>\n",
       "      <td>2015-12-30 20:00:00</td>\n",
       "      <td>fraude</td>\n",
       "      <td>Delito menor</td>\n",
       "      <td>investigacian en iztapalapa</td>\n",
       "      <td>izp 8</td>\n",
       "      <td>ui 1cd</td>\n",
       "      <td>consejo agrarista mexicano</td>\n",
       "      <td>Zona Oriente</td>\n",
       "      <td>2016-01-05 21:12:42</td>\n",
       "      <td>enero</td>\n",
       "      <td>2016</td>\n",
       "      <td>cuarta cerrada de fresno</td>\n",
       "      <td>ENCINO (SIN REGISTRO DEL SAP)</td>\n",
       "      <td>-99.055887</td>\n",
       "      <td>19.322458</td>\n",
       "      <td>19.3224579998,-99.055887</td>\n",
       "      <td>3er Cuatrimestre</td>\n",
       "    </tr>\n",
       "    <tr>\n",
       "      <th>3</th>\n",
       "      <td>4</td>\n",
       "      <td>2018</td>\n",
       "      <td>Mayo</td>\n",
       "      <td>2018-05-16 16:00:00</td>\n",
       "      <td>robo</td>\n",
       "      <td>Delito grave</td>\n",
       "      <td>investigacian en iztapalapa</td>\n",
       "      <td>izp 9</td>\n",
       "      <td>ui 2sd</td>\n",
       "      <td>desarrollo urbano quetzalcoatl</td>\n",
       "      <td>Zona Oriente</td>\n",
       "      <td>2018-05-22 10:44:45</td>\n",
       "      <td>mayo</td>\n",
       "      <td>2018</td>\n",
       "      <td>tarasco</td>\n",
       "      <td>ZAPOTECO</td>\n",
       "      <td>-99.042786</td>\n",
       "      <td>19.319141</td>\n",
       "      <td>19.3191405147,-99.0427862526</td>\n",
       "      <td>2do Cuatrimestre</td>\n",
       "    </tr>\n",
       "    <tr>\n",
       "      <th>4</th>\n",
       "      <td>5</td>\n",
       "      <td>2018</td>\n",
       "      <td>Mayo</td>\n",
       "      <td>2018-05-21 20:40:00</td>\n",
       "      <td>robo</td>\n",
       "      <td>Delito menor</td>\n",
       "      <td>investigacian en cuauhtemoc</td>\n",
       "      <td>cuh 2</td>\n",
       "      <td>ui 2sd</td>\n",
       "      <td>infonavit iztacalco</td>\n",
       "      <td>Zona Norte</td>\n",
       "      <td>2018-05-22 10:52:18</td>\n",
       "      <td>mayo</td>\n",
       "      <td>2018</td>\n",
       "      <td>francisco del paso y troncoso</td>\n",
       "      <td>ISLA</td>\n",
       "      <td>-99.111563</td>\n",
       "      <td>19.386594</td>\n",
       "      <td>19.3865939284,-99.1115626682</td>\n",
       "      <td>2do Cuatrimestre</td>\n",
       "    </tr>\n",
       "  </tbody>\n",
       "</table>\n",
       "</div>"
      ],
      "text/plain": [
       "   c_id  c_ao_hechos v_mes_hechos      d_fecha_hechos  v_delito  \\\n",
       "0     0         2016        Enero 2016-01-05 17:00:00  lesiones   \n",
       "1     2         2017    Noviembre 2017-11-01 16:40:00      robo   \n",
       "2     3         2015    Diciembre 2015-12-30 20:00:00    fraude   \n",
       "3     4         2018         Mayo 2018-05-16 16:00:00      robo   \n",
       "4     5         2018         Mayo 2018-05-21 20:40:00      robo   \n",
       "\n",
       "  v_categoria_delito                         v_fiscalia v_agencia  \\\n",
       "0       Delito menor  investigacian en gustavo a madero     gam 6   \n",
       "1       Delito grave         investigacian en iztacalco     izc 2   \n",
       "2       Delito menor        investigacian en iztapalapa     izp 8   \n",
       "3       Delito grave        investigacian en iztapalapa     izp 9   \n",
       "4       Delito menor        investigacian en cuauhtemoc     cuh 2   \n",
       "\n",
       "  v_unidad_investigacion                       v_colonia_hechos  \\\n",
       "0                 ui 1cd                       granjas modernas   \n",
       "1                 ui 1sd  gabriel ramos millan seccian tlacotal   \n",
       "2                 ui 1cd             consejo agrarista mexicano   \n",
       "3                 ui 2sd         desarrollo urbano quetzalcoatl   \n",
       "4                 ui 2sd                    infonavit iztacalco   \n",
       "\n",
       "  v_alcaldia_hechos       d_fecha_inicio v_mes_inicio  ao_inicio  \\\n",
       "0        Zona Norte  2016-01-05 18:35:37        enero       2016   \n",
       "1        Zona Norte  2017-11-01 16:56:04    noviembre       2017   \n",
       "2      Zona Oriente  2016-01-05 21:12:42        enero       2016   \n",
       "3      Zona Oriente  2018-05-22 10:44:45         mayo       2018   \n",
       "4        Zona Norte  2018-05-22 10:52:18         mayo       2018   \n",
       "\n",
       "                  t_calle_hechos                t_calle_hechos2 g_longitud  \\\n",
       "0             san juan de aragon                    CALLE ANZAR -99.103527   \n",
       "1                        sur 117                   ORIENTE 100A -99.106072   \n",
       "2       cuarta cerrada de fresno  ENCINO (SIN REGISTRO DEL SAP) -99.055887   \n",
       "3                        tarasco                       ZAPOTECO -99.042786   \n",
       "4  francisco del paso y troncoso                           ISLA -99.111563   \n",
       "\n",
       "   g_latitud                    g_geopoint    v_cuatrimestre  \n",
       "0  19.481076      19.4810759998,-99.103527  1er Cuatrimestre  \n",
       "1  19.395398  19.3953976727,-99.1060723829  3er Cuatrimestre  \n",
       "2  19.322458      19.3224579998,-99.055887  3er Cuatrimestre  \n",
       "3  19.319141  19.3191405147,-99.0427862526  2do Cuatrimestre  \n",
       "4  19.386594  19.3865939284,-99.1115626682  2do Cuatrimestre  "
      ]
     },
     "execution_count": 71,
     "metadata": {},
     "output_type": "execute_result"
    }
   ],
   "source": [
    "df.head()"
   ]
  },
  {
   "cell_type": "code",
   "execution_count": 72,
   "id": "10828bdc-f784-4f49-b574-4317164d8465",
   "metadata": {
    "tags": []
   },
   "outputs": [],
   "source": [
    "df['v_dia_de_semana'] = df['d_fecha_hechos'].dt.strftime('%A')"
   ]
  },
  {
   "cell_type": "code",
   "execution_count": 73,
   "id": "f10df412-26f3-4d1e-93cc-d8262e6b5374",
   "metadata": {
    "tags": []
   },
   "outputs": [],
   "source": [
    "df['v_fin_de_semana'] = (df['d_fecha_hechos'].dt.dayofweek >= 5)"
   ]
  },
  {
   "cell_type": "code",
   "execution_count": 74,
   "id": "fc0f3a8c-444f-4eac-a2d5-fc99ef519b0d",
   "metadata": {
    "tags": []
   },
   "outputs": [
    {
     "data": {
      "text/html": [
       "<div>\n",
       "<style scoped>\n",
       "    .dataframe tbody tr th:only-of-type {\n",
       "        vertical-align: middle;\n",
       "    }\n",
       "\n",
       "    .dataframe tbody tr th {\n",
       "        vertical-align: top;\n",
       "    }\n",
       "\n",
       "    .dataframe thead th {\n",
       "        text-align: right;\n",
       "    }\n",
       "</style>\n",
       "<table border=\"1\" class=\"dataframe\">\n",
       "  <thead>\n",
       "    <tr style=\"text-align: right;\">\n",
       "      <th></th>\n",
       "      <th>c_id</th>\n",
       "      <th>c_ao_hechos</th>\n",
       "      <th>v_mes_hechos</th>\n",
       "      <th>d_fecha_hechos</th>\n",
       "      <th>v_delito</th>\n",
       "      <th>v_categoria_delito</th>\n",
       "      <th>v_fiscalia</th>\n",
       "      <th>v_agencia</th>\n",
       "      <th>v_unidad_investigacion</th>\n",
       "      <th>v_colonia_hechos</th>\n",
       "      <th>v_alcaldia_hechos</th>\n",
       "      <th>d_fecha_inicio</th>\n",
       "      <th>v_mes_inicio</th>\n",
       "      <th>ao_inicio</th>\n",
       "      <th>t_calle_hechos</th>\n",
       "      <th>t_calle_hechos2</th>\n",
       "      <th>g_longitud</th>\n",
       "      <th>g_latitud</th>\n",
       "      <th>g_geopoint</th>\n",
       "      <th>v_cuatrimestre</th>\n",
       "      <th>v_dia_de_semana</th>\n",
       "      <th>v_fin_de_semana</th>\n",
       "    </tr>\n",
       "  </thead>\n",
       "  <tbody>\n",
       "    <tr>\n",
       "      <th>0</th>\n",
       "      <td>0</td>\n",
       "      <td>2016</td>\n",
       "      <td>Enero</td>\n",
       "      <td>2016-01-05 17:00:00</td>\n",
       "      <td>lesiones</td>\n",
       "      <td>Delito menor</td>\n",
       "      <td>investigacian en gustavo a madero</td>\n",
       "      <td>gam 6</td>\n",
       "      <td>ui 1cd</td>\n",
       "      <td>granjas modernas</td>\n",
       "      <td>Zona Norte</td>\n",
       "      <td>2016-01-05 18:35:37</td>\n",
       "      <td>enero</td>\n",
       "      <td>2016</td>\n",
       "      <td>san juan de aragon</td>\n",
       "      <td>CALLE ANZAR</td>\n",
       "      <td>-99.103527</td>\n",
       "      <td>19.481076</td>\n",
       "      <td>19.4810759998,-99.103527</td>\n",
       "      <td>1er Cuatrimestre</td>\n",
       "      <td>Tuesday</td>\n",
       "      <td>False</td>\n",
       "    </tr>\n",
       "    <tr>\n",
       "      <th>1</th>\n",
       "      <td>2</td>\n",
       "      <td>2017</td>\n",
       "      <td>Noviembre</td>\n",
       "      <td>2017-11-01 16:40:00</td>\n",
       "      <td>robo</td>\n",
       "      <td>Delito grave</td>\n",
       "      <td>investigacian en iztacalco</td>\n",
       "      <td>izc 2</td>\n",
       "      <td>ui 1sd</td>\n",
       "      <td>gabriel ramos millan seccian tlacotal</td>\n",
       "      <td>Zona Norte</td>\n",
       "      <td>2017-11-01 16:56:04</td>\n",
       "      <td>noviembre</td>\n",
       "      <td>2017</td>\n",
       "      <td>sur 117</td>\n",
       "      <td>ORIENTE 100A</td>\n",
       "      <td>-99.106072</td>\n",
       "      <td>19.395398</td>\n",
       "      <td>19.3953976727,-99.1060723829</td>\n",
       "      <td>3er Cuatrimestre</td>\n",
       "      <td>Wednesday</td>\n",
       "      <td>False</td>\n",
       "    </tr>\n",
       "    <tr>\n",
       "      <th>2</th>\n",
       "      <td>3</td>\n",
       "      <td>2015</td>\n",
       "      <td>Diciembre</td>\n",
       "      <td>2015-12-30 20:00:00</td>\n",
       "      <td>fraude</td>\n",
       "      <td>Delito menor</td>\n",
       "      <td>investigacian en iztapalapa</td>\n",
       "      <td>izp 8</td>\n",
       "      <td>ui 1cd</td>\n",
       "      <td>consejo agrarista mexicano</td>\n",
       "      <td>Zona Oriente</td>\n",
       "      <td>2016-01-05 21:12:42</td>\n",
       "      <td>enero</td>\n",
       "      <td>2016</td>\n",
       "      <td>cuarta cerrada de fresno</td>\n",
       "      <td>ENCINO (SIN REGISTRO DEL SAP)</td>\n",
       "      <td>-99.055887</td>\n",
       "      <td>19.322458</td>\n",
       "      <td>19.3224579998,-99.055887</td>\n",
       "      <td>3er Cuatrimestre</td>\n",
       "      <td>Wednesday</td>\n",
       "      <td>False</td>\n",
       "    </tr>\n",
       "    <tr>\n",
       "      <th>3</th>\n",
       "      <td>4</td>\n",
       "      <td>2018</td>\n",
       "      <td>Mayo</td>\n",
       "      <td>2018-05-16 16:00:00</td>\n",
       "      <td>robo</td>\n",
       "      <td>Delito grave</td>\n",
       "      <td>investigacian en iztapalapa</td>\n",
       "      <td>izp 9</td>\n",
       "      <td>ui 2sd</td>\n",
       "      <td>desarrollo urbano quetzalcoatl</td>\n",
       "      <td>Zona Oriente</td>\n",
       "      <td>2018-05-22 10:44:45</td>\n",
       "      <td>mayo</td>\n",
       "      <td>2018</td>\n",
       "      <td>tarasco</td>\n",
       "      <td>ZAPOTECO</td>\n",
       "      <td>-99.042786</td>\n",
       "      <td>19.319141</td>\n",
       "      <td>19.3191405147,-99.0427862526</td>\n",
       "      <td>2do Cuatrimestre</td>\n",
       "      <td>Wednesday</td>\n",
       "      <td>False</td>\n",
       "    </tr>\n",
       "    <tr>\n",
       "      <th>4</th>\n",
       "      <td>5</td>\n",
       "      <td>2018</td>\n",
       "      <td>Mayo</td>\n",
       "      <td>2018-05-21 20:40:00</td>\n",
       "      <td>robo</td>\n",
       "      <td>Delito menor</td>\n",
       "      <td>investigacian en cuauhtemoc</td>\n",
       "      <td>cuh 2</td>\n",
       "      <td>ui 2sd</td>\n",
       "      <td>infonavit iztacalco</td>\n",
       "      <td>Zona Norte</td>\n",
       "      <td>2018-05-22 10:52:18</td>\n",
       "      <td>mayo</td>\n",
       "      <td>2018</td>\n",
       "      <td>francisco del paso y troncoso</td>\n",
       "      <td>ISLA</td>\n",
       "      <td>-99.111563</td>\n",
       "      <td>19.386594</td>\n",
       "      <td>19.3865939284,-99.1115626682</td>\n",
       "      <td>2do Cuatrimestre</td>\n",
       "      <td>Monday</td>\n",
       "      <td>False</td>\n",
       "    </tr>\n",
       "    <tr>\n",
       "      <th>...</th>\n",
       "      <td>...</td>\n",
       "      <td>...</td>\n",
       "      <td>...</td>\n",
       "      <td>...</td>\n",
       "      <td>...</td>\n",
       "      <td>...</td>\n",
       "      <td>...</td>\n",
       "      <td>...</td>\n",
       "      <td>...</td>\n",
       "      <td>...</td>\n",
       "      <td>...</td>\n",
       "      <td>...</td>\n",
       "      <td>...</td>\n",
       "      <td>...</td>\n",
       "      <td>...</td>\n",
       "      <td>...</td>\n",
       "      <td>...</td>\n",
       "      <td>...</td>\n",
       "      <td>...</td>\n",
       "      <td>...</td>\n",
       "      <td>...</td>\n",
       "      <td>...</td>\n",
       "    </tr>\n",
       "    <tr>\n",
       "      <th>774947</th>\n",
       "      <td>808866</td>\n",
       "      <td>2018</td>\n",
       "      <td>Julio</td>\n",
       "      <td>2018-07-09 22:30:00</td>\n",
       "      <td>robo</td>\n",
       "      <td>Delito grave</td>\n",
       "      <td>investigacian en miguel hidalgo</td>\n",
       "      <td>mh 1</td>\n",
       "      <td>ui 1sd</td>\n",
       "      <td>anahuac</td>\n",
       "      <td>Zona Centro Poniente</td>\n",
       "      <td>2018-07-10 18:24:33</td>\n",
       "      <td>julio</td>\n",
       "      <td>2018</td>\n",
       "      <td>lago alberto</td>\n",
       "      <td>LAGO ITZEO</td>\n",
       "      <td>-99.182018</td>\n",
       "      <td>19.439418</td>\n",
       "      <td>19.439418014,-99.1820184667</td>\n",
       "      <td>2do Cuatrimestre</td>\n",
       "      <td>Monday</td>\n",
       "      <td>False</td>\n",
       "    </tr>\n",
       "    <tr>\n",
       "      <th>774948</th>\n",
       "      <td>808867</td>\n",
       "      <td>2018</td>\n",
       "      <td>Julio</td>\n",
       "      <td>2018-07-29 05:00:00</td>\n",
       "      <td>violencia</td>\n",
       "      <td>Delito menor</td>\n",
       "      <td>investigacian en milpa alta</td>\n",
       "      <td>mil 2</td>\n",
       "      <td>ui 1cd</td>\n",
       "      <td>santa cruz xochitepec</td>\n",
       "      <td>Zona Oriente</td>\n",
       "      <td>2018-07-29 12:37:27</td>\n",
       "      <td>julio</td>\n",
       "      <td>2018</td>\n",
       "      <td>callejon morelos</td>\n",
       "      <td>NaN</td>\n",
       "      <td>-99.134738</td>\n",
       "      <td>19.254935</td>\n",
       "      <td>19.2549354998,-99.1347381</td>\n",
       "      <td>2do Cuatrimestre</td>\n",
       "      <td>Sunday</td>\n",
       "      <td>True</td>\n",
       "    </tr>\n",
       "    <tr>\n",
       "      <th>774949</th>\n",
       "      <td>808868</td>\n",
       "      <td>2019</td>\n",
       "      <td>Febrero</td>\n",
       "      <td>2019-02-14 19:00:00</td>\n",
       "      <td>lesiones</td>\n",
       "      <td>Delito grave con agravante</td>\n",
       "      <td>investigacian en miguel hidalgo</td>\n",
       "      <td>h1</td>\n",
       "      <td>ui 1sd</td>\n",
       "      <td>industrial</td>\n",
       "      <td>Zona Norte</td>\n",
       "      <td>2019-02-15 12:50:00</td>\n",
       "      <td>febrero</td>\n",
       "      <td>2019</td>\n",
       "      <td>calz de los misterios</td>\n",
       "      <td>NaN</td>\n",
       "      <td>-99.122943</td>\n",
       "      <td>19.473867</td>\n",
       "      <td>19.473866796,-99.1229431996</td>\n",
       "      <td>1er Cuatrimestre</td>\n",
       "      <td>Thursday</td>\n",
       "      <td>False</td>\n",
       "    </tr>\n",
       "    <tr>\n",
       "      <th>774950</th>\n",
       "      <td>808869</td>\n",
       "      <td>2019</td>\n",
       "      <td>Febrero</td>\n",
       "      <td>2019-02-15 10:00:00</td>\n",
       "      <td>privacion de la libertad personal</td>\n",
       "      <td>Delito menor</td>\n",
       "      <td>investigacian en azcapotzalco</td>\n",
       "      <td>az 4</td>\n",
       "      <td>ui 1sd</td>\n",
       "      <td>cosmopolita</td>\n",
       "      <td>Zona Centro Poniente</td>\n",
       "      <td>2019-02-15 13:04:00</td>\n",
       "      <td>febrero</td>\n",
       "      <td>2019</td>\n",
       "      <td>cerdeaa</td>\n",
       "      <td>NaN</td>\n",
       "      <td>-99.163384</td>\n",
       "      <td>19.473593</td>\n",
       "      <td>19.4735930736,-99.163384042</td>\n",
       "      <td>1er Cuatrimestre</td>\n",
       "      <td>Friday</td>\n",
       "      <td>False</td>\n",
       "    </tr>\n",
       "    <tr>\n",
       "      <th>774951</th>\n",
       "      <td>808870</td>\n",
       "      <td>2017</td>\n",
       "      <td>Abril</td>\n",
       "      <td>2017-04-01 10:00:00</td>\n",
       "      <td>abuso de confianza</td>\n",
       "      <td>Delito menor</td>\n",
       "      <td>investigacian en agencias de atencian especial...</td>\n",
       "      <td>aer</td>\n",
       "      <td>ui 1sd</td>\n",
       "      <td>aeropuerto internacional benito juarez</td>\n",
       "      <td>Zona Norte</td>\n",
       "      <td>2017-05-26 17:04:07</td>\n",
       "      <td>mayo</td>\n",
       "      <td>2017</td>\n",
       "      <td>cap aviador carlos leon</td>\n",
       "      <td>NaN</td>\n",
       "      <td>-99.083974</td>\n",
       "      <td>19.435153</td>\n",
       "      <td>19.4351530369,-99.0839742938</td>\n",
       "      <td>1er Cuatrimestre</td>\n",
       "      <td>Saturday</td>\n",
       "      <td>True</td>\n",
       "    </tr>\n",
       "  </tbody>\n",
       "</table>\n",
       "<p>768633 rows × 22 columns</p>\n",
       "</div>"
      ],
      "text/plain": [
       "          c_id  c_ao_hechos v_mes_hechos      d_fecha_hechos  \\\n",
       "0            0         2016        Enero 2016-01-05 17:00:00   \n",
       "1            2         2017    Noviembre 2017-11-01 16:40:00   \n",
       "2            3         2015    Diciembre 2015-12-30 20:00:00   \n",
       "3            4         2018         Mayo 2018-05-16 16:00:00   \n",
       "4            5         2018         Mayo 2018-05-21 20:40:00   \n",
       "...        ...          ...          ...                 ...   \n",
       "774947  808866         2018        Julio 2018-07-09 22:30:00   \n",
       "774948  808867         2018        Julio 2018-07-29 05:00:00   \n",
       "774949  808868         2019      Febrero 2019-02-14 19:00:00   \n",
       "774950  808869         2019      Febrero 2019-02-15 10:00:00   \n",
       "774951  808870         2017        Abril 2017-04-01 10:00:00   \n",
       "\n",
       "                                 v_delito          v_categoria_delito  \\\n",
       "0                                lesiones                Delito menor   \n",
       "1                                    robo                Delito grave   \n",
       "2                                  fraude                Delito menor   \n",
       "3                                    robo                Delito grave   \n",
       "4                                    robo                Delito menor   \n",
       "...                                   ...                         ...   \n",
       "774947                               robo                Delito grave   \n",
       "774948                          violencia                Delito menor   \n",
       "774949                           lesiones  Delito grave con agravante   \n",
       "774950  privacion de la libertad personal                Delito menor   \n",
       "774951                 abuso de confianza                Delito menor   \n",
       "\n",
       "                                               v_fiscalia v_agencia  \\\n",
       "0                       investigacian en gustavo a madero     gam 6   \n",
       "1                              investigacian en iztacalco     izc 2   \n",
       "2                             investigacian en iztapalapa     izp 8   \n",
       "3                             investigacian en iztapalapa     izp 9   \n",
       "4                             investigacian en cuauhtemoc     cuh 2   \n",
       "...                                                   ...       ...   \n",
       "774947                    investigacian en miguel hidalgo      mh 1   \n",
       "774948                        investigacian en milpa alta     mil 2   \n",
       "774949                    investigacian en miguel hidalgo        h1   \n",
       "774950                      investigacian en azcapotzalco      az 4   \n",
       "774951  investigacian en agencias de atencian especial...       aer   \n",
       "\n",
       "       v_unidad_investigacion                        v_colonia_hechos  \\\n",
       "0                      ui 1cd                        granjas modernas   \n",
       "1                      ui 1sd   gabriel ramos millan seccian tlacotal   \n",
       "2                      ui 1cd              consejo agrarista mexicano   \n",
       "3                      ui 2sd          desarrollo urbano quetzalcoatl   \n",
       "4                      ui 2sd                     infonavit iztacalco   \n",
       "...                       ...                                     ...   \n",
       "774947                 ui 1sd                                 anahuac   \n",
       "774948                 ui 1cd                   santa cruz xochitepec   \n",
       "774949                 ui 1sd                              industrial   \n",
       "774950                 ui 1sd                             cosmopolita   \n",
       "774951                 ui 1sd  aeropuerto internacional benito juarez   \n",
       "\n",
       "           v_alcaldia_hechos       d_fecha_inicio v_mes_inicio  ao_inicio  \\\n",
       "0                 Zona Norte  2016-01-05 18:35:37        enero       2016   \n",
       "1                 Zona Norte  2017-11-01 16:56:04    noviembre       2017   \n",
       "2               Zona Oriente  2016-01-05 21:12:42        enero       2016   \n",
       "3               Zona Oriente  2018-05-22 10:44:45         mayo       2018   \n",
       "4                 Zona Norte  2018-05-22 10:52:18         mayo       2018   \n",
       "...                      ...                  ...          ...        ...   \n",
       "774947  Zona Centro Poniente  2018-07-10 18:24:33        julio       2018   \n",
       "774948          Zona Oriente  2018-07-29 12:37:27        julio       2018   \n",
       "774949            Zona Norte  2019-02-15 12:50:00      febrero       2019   \n",
       "774950  Zona Centro Poniente  2019-02-15 13:04:00      febrero       2019   \n",
       "774951            Zona Norte  2017-05-26 17:04:07         mayo       2017   \n",
       "\n",
       "                       t_calle_hechos                t_calle_hechos2  \\\n",
       "0                  san juan de aragon                    CALLE ANZAR   \n",
       "1                             sur 117                   ORIENTE 100A   \n",
       "2            cuarta cerrada de fresno  ENCINO (SIN REGISTRO DEL SAP)   \n",
       "3                             tarasco                       ZAPOTECO   \n",
       "4       francisco del paso y troncoso                           ISLA   \n",
       "...                               ...                            ...   \n",
       "774947                   lago alberto                     LAGO ITZEO   \n",
       "774948               callejon morelos                            NaN   \n",
       "774949          calz de los misterios                            NaN   \n",
       "774950                        cerdeaa                            NaN   \n",
       "774951        cap aviador carlos leon                            NaN   \n",
       "\n",
       "       g_longitud  g_latitud                    g_geopoint    v_cuatrimestre  \\\n",
       "0      -99.103527  19.481076      19.4810759998,-99.103527  1er Cuatrimestre   \n",
       "1      -99.106072  19.395398  19.3953976727,-99.1060723829  3er Cuatrimestre   \n",
       "2      -99.055887  19.322458      19.3224579998,-99.055887  3er Cuatrimestre   \n",
       "3      -99.042786  19.319141  19.3191405147,-99.0427862526  2do Cuatrimestre   \n",
       "4      -99.111563  19.386594  19.3865939284,-99.1115626682  2do Cuatrimestre   \n",
       "...           ...        ...                           ...               ...   \n",
       "774947 -99.182018  19.439418   19.439418014,-99.1820184667  2do Cuatrimestre   \n",
       "774948 -99.134738  19.254935     19.2549354998,-99.1347381  2do Cuatrimestre   \n",
       "774949 -99.122943  19.473867   19.473866796,-99.1229431996  1er Cuatrimestre   \n",
       "774950 -99.163384  19.473593   19.4735930736,-99.163384042  1er Cuatrimestre   \n",
       "774951 -99.083974  19.435153  19.4351530369,-99.0839742938  1er Cuatrimestre   \n",
       "\n",
       "       v_dia_de_semana  v_fin_de_semana  \n",
       "0              Tuesday            False  \n",
       "1            Wednesday            False  \n",
       "2            Wednesday            False  \n",
       "3            Wednesday            False  \n",
       "4               Monday            False  \n",
       "...                ...              ...  \n",
       "774947          Monday            False  \n",
       "774948          Sunday             True  \n",
       "774949        Thursday            False  \n",
       "774950          Friday            False  \n",
       "774951        Saturday             True  \n",
       "\n",
       "[768633 rows x 22 columns]"
      ]
     },
     "execution_count": 74,
     "metadata": {},
     "output_type": "execute_result"
    }
   ],
   "source": [
    "df"
   ]
  },
  {
   "cell_type": "markdown",
   "id": "e0dcb246-37f3-4de1-adda-bac5b9cb7311",
   "metadata": {},
   "source": [
    "## Limpieza d_fecha_inicio"
   ]
  },
  {
   "cell_type": "code",
   "execution_count": 75,
   "id": "50ac6fed-7fb9-4eb8-a017-87c5b36b4457",
   "metadata": {
    "tags": []
   },
   "outputs": [
    {
     "data": {
      "text/plain": [
       "d_fecha_inicio\n",
       "2019-02-06 12:21:00    6\n",
       "2019-02-14 15:37:00    6\n",
       "2019-02-25 11:32:00    6\n",
       "2019-02-13 10:57:00    6\n",
       "2019-02-18 17:22:00    6\n",
       "                      ..\n",
       "2019-02-06 13:11:00    1\n",
       "2019-05-14 17:53:06    1\n",
       "2018-03-17 23:27:22    1\n",
       "2018-03-20 17:31:51    1\n",
       "2017-05-26 17:04:07    1\n",
       "Name: count, Length: 759214, dtype: int64"
      ]
     },
     "execution_count": 75,
     "metadata": {},
     "output_type": "execute_result"
    }
   ],
   "source": [
    "df[\"d_fecha_inicio\"].value_counts()"
   ]
  },
  {
   "cell_type": "markdown",
   "id": "317ae769-54a9-4e24-be40-655ecbd54863",
   "metadata": {
    "tags": []
   },
   "source": [
    "## Limpieza v_mes_inicio"
   ]
  },
  {
   "cell_type": "code",
   "execution_count": 76,
   "id": "0727c007-640f-4798-837e-8e8b9652ed2b",
   "metadata": {
    "tags": []
   },
   "outputs": [
    {
     "data": {
      "text/plain": [
       "v_mes_inicio\n",
       "mayo          77000\n",
       "marzo         73856\n",
       "junio         73531\n",
       "abril         71901\n",
       "enero         69444\n",
       "febrero       67869\n",
       "octubre       59874\n",
       "agosto        57163\n",
       "noviembre     55761\n",
       "septiembre    54408\n",
       "julio         54291\n",
       "diciembre     53535\n",
       "Name: count, dtype: int64"
      ]
     },
     "execution_count": 76,
     "metadata": {},
     "output_type": "execute_result"
    }
   ],
   "source": [
    "df[\"v_mes_inicio\"].value_counts()"
   ]
  },
  {
   "cell_type": "code",
   "execution_count": 77,
   "id": "e8f9bf16-867c-41a3-8bda-0df09aee03f3",
   "metadata": {
    "tags": []
   },
   "outputs": [],
   "source": [
    "df[\"v_mes_inicio\"]=df[\"v_mes_inicio\"].map(lambda x:clean_text(x).replace(\"\\n\",\"\"))"
   ]
  },
  {
   "cell_type": "markdown",
   "id": "f4038157-e021-4789-bbcf-a24591e80058",
   "metadata": {},
   "source": [
    "## v_mes_hechos"
   ]
  },
  {
   "cell_type": "code",
   "execution_count": 78,
   "id": "bc006bfa-9763-4001-938d-6fb1c3a81694",
   "metadata": {
    "tags": []
   },
   "outputs": [
    {
     "data": {
      "text/plain": [
       "v_mes_hechos\n",
       "Mayo            75871\n",
       "Marzo           73988\n",
       "Abril           70746\n",
       "Enero           69555\n",
       "Junio           69187\n",
       "Febrero         68479\n",
       "Octubre         60390\n",
       "Agosto          57005\n",
       "Noviembre       56826\n",
       "Diciembre       56088\n",
       "Septiembre      55926\n",
       "Julio           54230\n",
       "December           36\n",
       "Julio .            34\n",
       "agosto3            33\n",
       "March              31\n",
       "May                30\n",
       "September          29\n",
       "February           26\n",
       "October            26\n",
       "November           21\n",
       "June               17\n",
       "August             15\n",
       "Aabril             11\n",
       "January            11\n",
       "July                4\n",
       "April               4\n",
       "ENRO                4\n",
       "Mayo-2018           1\n",
       "Agosto-2017         1\n",
       "abrill              1\n",
       "Agossto             1\n",
       "Novimbre            1\n",
       "Septiemb            1\n",
       "Novembre            1\n",
       "Maro                1\n",
       "Diciiembre          1\n",
       "Febrero-2015        1\n",
       "Name: count, dtype: int64"
      ]
     },
     "execution_count": 78,
     "metadata": {},
     "output_type": "execute_result"
    }
   ],
   "source": [
    "df[\"v_mes_hechos\"].value_counts()"
   ]
  },
  {
   "cell_type": "code",
   "execution_count": 79,
   "id": "252f7601-879a-442f-bbe5-dcf784196170",
   "metadata": {
    "tags": []
   },
   "outputs": [],
   "source": [
    "df[\"v_mes_hechos\"]=df[\"v_mes_hechos\"].map(lambda x:clean_text(x).replace(\"\\n\",\"\"))"
   ]
  },
  {
   "cell_type": "code",
   "execution_count": 80,
   "id": "63f97d32-29fb-4f90-a420-5db900e2a6ec",
   "metadata": {
    "tags": []
   },
   "outputs": [
    {
     "data": {
      "text/plain": [
       "v_mes_hechos\n",
       "mayo            75871\n",
       "marzo           73988\n",
       "abril           70746\n",
       "enero           69555\n",
       "junio           69187\n",
       "febrero         68479\n",
       "octubre         60390\n",
       "agosto          57005\n",
       "noviembre       56826\n",
       "diciembre       56088\n",
       "septiembre      55926\n",
       "julio           54264\n",
       "december           36\n",
       "agosto3            33\n",
       "march              31\n",
       "may                30\n",
       "september          29\n",
       "february           26\n",
       "october            26\n",
       "november           21\n",
       "june               17\n",
       "august             15\n",
       "january            11\n",
       "aabril             11\n",
       "july                4\n",
       "april               4\n",
       "enro                4\n",
       "abrill              1\n",
       "agosto 2017         1\n",
       "mayo 2018           1\n",
       "agossto             1\n",
       "novimbre            1\n",
       "septiemb            1\n",
       "novembre            1\n",
       "maro                1\n",
       "diciiembre          1\n",
       "febrero 2015        1\n",
       "Name: count, dtype: int64"
      ]
     },
     "execution_count": 80,
     "metadata": {},
     "output_type": "execute_result"
    }
   ],
   "source": [
    "df[\"v_mes_hechos\"].value_counts()"
   ]
  },
  {
   "cell_type": "markdown",
   "id": "58d865ea-117a-40c6-9939-0811974a814a",
   "metadata": {},
   "source": [
    "## COMPLETITUD"
   ]
  },
  {
   "cell_type": "code",
   "execution_count": 81,
   "id": "d550ebd6-e4b5-43ce-bfcf-b40f71f02361",
   "metadata": {
    "tags": []
   },
   "outputs": [
    {
     "data": {
      "text/plain": [
       "c_id                           0\n",
       "c_ao_hechos                    0\n",
       "v_mes_hechos                   0\n",
       "d_fecha_hechos              5001\n",
       "v_delito                       0\n",
       "v_categoria_delito             0\n",
       "v_fiscalia                     0\n",
       "v_agencia                      0\n",
       "v_unidad_investigacion         0\n",
       "v_colonia_hechos               0\n",
       "v_alcaldia_hechos              0\n",
       "d_fecha_inicio                 0\n",
       "v_mes_inicio                   0\n",
       "ao_inicio                      0\n",
       "t_calle_hechos                 0\n",
       "t_calle_hechos2           456444\n",
       "g_longitud                     1\n",
       "g_latitud                      0\n",
       "g_geopoint                     0\n",
       "v_cuatrimestre              5001\n",
       "v_dia_de_semana             5001\n",
       "v_fin_de_semana                0\n",
       "dtype: int64"
      ]
     },
     "execution_count": 81,
     "metadata": {},
     "output_type": "execute_result"
    }
   ],
   "source": [
    "df.isnull().sum(axis=0)"
   ]
  },
  {
   "cell_type": "code",
   "execution_count": 82,
   "id": "981461ec-7cc8-4f88-8c52-2f76fa9fe4b2",
   "metadata": {
    "tags": []
   },
   "outputs": [
    {
     "data": {
      "text/plain": [
       "<Axes: >"
      ]
     },
     "execution_count": 82,
     "metadata": {},
     "output_type": "execute_result"
    },
    {
     "data": {
      "image/png": "[encoded data removed]",
      "text/plain": [
       "<Figure size 2500x1000 with 2 Axes>"
      ]
     },
     "metadata": {},
     "output_type": "display_data"
    }
   ],
   "source": [
    "#pip3 install missingno\n",
    "import missingno as msno\n",
    "msno.matrix(df.iloc[:, :23])"
   ]
  },
  {
   "cell_type": "code",
   "execution_count": 83,
   "id": "bf714738-971f-40a1-95e7-62ad19174d29",
   "metadata": {
    "tags": []
   },
   "outputs": [],
   "source": [
    "comple=pd.DataFrame(df.isnull().sum())"
   ]
  },
  {
   "cell_type": "code",
   "execution_count": 84,
   "id": "7171c62c-2e9c-4689-8dc7-adaa8f28778c",
   "metadata": {
    "tags": []
   },
   "outputs": [
    {
     "data": {
      "text/html": [
       "<div>\n",
       "<style scoped>\n",
       "    .dataframe tbody tr th:only-of-type {\n",
       "        vertical-align: middle;\n",
       "    }\n",
       "\n",
       "    .dataframe tbody tr th {\n",
       "        vertical-align: top;\n",
       "    }\n",
       "\n",
       "    .dataframe thead th {\n",
       "        text-align: right;\n",
       "    }\n",
       "</style>\n",
       "<table border=\"1\" class=\"dataframe\">\n",
       "  <thead>\n",
       "    <tr style=\"text-align: right;\">\n",
       "      <th></th>\n",
       "      <th>0</th>\n",
       "    </tr>\n",
       "  </thead>\n",
       "  <tbody>\n",
       "    <tr>\n",
       "      <th>c_id</th>\n",
       "      <td>0</td>\n",
       "    </tr>\n",
       "    <tr>\n",
       "      <th>c_ao_hechos</th>\n",
       "      <td>0</td>\n",
       "    </tr>\n",
       "    <tr>\n",
       "      <th>v_mes_hechos</th>\n",
       "      <td>0</td>\n",
       "    </tr>\n",
       "    <tr>\n",
       "      <th>d_fecha_hechos</th>\n",
       "      <td>5001</td>\n",
       "    </tr>\n",
       "    <tr>\n",
       "      <th>v_delito</th>\n",
       "      <td>0</td>\n",
       "    </tr>\n",
       "    <tr>\n",
       "      <th>v_categoria_delito</th>\n",
       "      <td>0</td>\n",
       "    </tr>\n",
       "    <tr>\n",
       "      <th>v_fiscalia</th>\n",
       "      <td>0</td>\n",
       "    </tr>\n",
       "    <tr>\n",
       "      <th>v_agencia</th>\n",
       "      <td>0</td>\n",
       "    </tr>\n",
       "    <tr>\n",
       "      <th>v_unidad_investigacion</th>\n",
       "      <td>0</td>\n",
       "    </tr>\n",
       "    <tr>\n",
       "      <th>v_colonia_hechos</th>\n",
       "      <td>0</td>\n",
       "    </tr>\n",
       "    <tr>\n",
       "      <th>v_alcaldia_hechos</th>\n",
       "      <td>0</td>\n",
       "    </tr>\n",
       "    <tr>\n",
       "      <th>d_fecha_inicio</th>\n",
       "      <td>0</td>\n",
       "    </tr>\n",
       "    <tr>\n",
       "      <th>v_mes_inicio</th>\n",
       "      <td>0</td>\n",
       "    </tr>\n",
       "    <tr>\n",
       "      <th>ao_inicio</th>\n",
       "      <td>0</td>\n",
       "    </tr>\n",
       "    <tr>\n",
       "      <th>t_calle_hechos</th>\n",
       "      <td>0</td>\n",
       "    </tr>\n",
       "    <tr>\n",
       "      <th>t_calle_hechos2</th>\n",
       "      <td>456444</td>\n",
       "    </tr>\n",
       "    <tr>\n",
       "      <th>g_longitud</th>\n",
       "      <td>1</td>\n",
       "    </tr>\n",
       "    <tr>\n",
       "      <th>g_latitud</th>\n",
       "      <td>0</td>\n",
       "    </tr>\n",
       "    <tr>\n",
       "      <th>g_geopoint</th>\n",
       "      <td>0</td>\n",
       "    </tr>\n",
       "    <tr>\n",
       "      <th>v_cuatrimestre</th>\n",
       "      <td>5001</td>\n",
       "    </tr>\n",
       "    <tr>\n",
       "      <th>v_dia_de_semana</th>\n",
       "      <td>5001</td>\n",
       "    </tr>\n",
       "    <tr>\n",
       "      <th>v_fin_de_semana</th>\n",
       "      <td>0</td>\n",
       "    </tr>\n",
       "  </tbody>\n",
       "</table>\n",
       "</div>"
      ],
      "text/plain": [
       "                             0\n",
       "c_id                         0\n",
       "c_ao_hechos                  0\n",
       "v_mes_hechos                 0\n",
       "d_fecha_hechos            5001\n",
       "v_delito                     0\n",
       "v_categoria_delito           0\n",
       "v_fiscalia                   0\n",
       "v_agencia                    0\n",
       "v_unidad_investigacion       0\n",
       "v_colonia_hechos             0\n",
       "v_alcaldia_hechos            0\n",
       "d_fecha_inicio               0\n",
       "v_mes_inicio                 0\n",
       "ao_inicio                    0\n",
       "t_calle_hechos               0\n",
       "t_calle_hechos2         456444\n",
       "g_longitud                   1\n",
       "g_latitud                    0\n",
       "g_geopoint                   0\n",
       "v_cuatrimestre            5001\n",
       "v_dia_de_semana           5001\n",
       "v_fin_de_semana              0"
      ]
     },
     "execution_count": 84,
     "metadata": {},
     "output_type": "execute_result"
    }
   ],
   "source": [
    "comple"
   ]
  },
  {
   "cell_type": "code",
   "execution_count": 85,
   "id": "5275457a-ce42-48fd-ba35-e354f0df7a73",
   "metadata": {
    "tags": []
   },
   "outputs": [],
   "source": [
    "comple.reset_index(inplace=True)\n",
    "\n",
    "comple=comple.rename(columns={\"index\":\"columna\",0:\"total\"})\n",
    "\n",
    "comple[\"completitud\"]=(1-comple[\"total\"]/df.shape[0])*100\n",
    "\n",
    "comple=comple.sort_values(by=\"completitud\",ascending=True)\n",
    "\n",
    "comple.reset_index(drop=True,inplace=True)"
   ]
  },
  {
   "cell_type": "code",
   "execution_count": 86,
   "id": "e773d6ce-d336-4448-8ecd-4d2ff99f2ac2",
   "metadata": {
    "tags": []
   },
   "outputs": [
    {
     "data": {
      "text/html": [
       "<div>\n",
       "<style scoped>\n",
       "    .dataframe tbody tr th:only-of-type {\n",
       "        vertical-align: middle;\n",
       "    }\n",
       "\n",
       "    .dataframe tbody tr th {\n",
       "        vertical-align: top;\n",
       "    }\n",
       "\n",
       "    .dataframe thead th {\n",
       "        text-align: right;\n",
       "    }\n",
       "</style>\n",
       "<table border=\"1\" class=\"dataframe\">\n",
       "  <thead>\n",
       "    <tr style=\"text-align: right;\">\n",
       "      <th></th>\n",
       "      <th>columna</th>\n",
       "      <th>total</th>\n",
       "      <th>completitud</th>\n",
       "    </tr>\n",
       "  </thead>\n",
       "  <tbody>\n",
       "    <tr>\n",
       "      <th>0</th>\n",
       "      <td>t_calle_hechos2</td>\n",
       "      <td>456444</td>\n",
       "      <td>40.616133</td>\n",
       "    </tr>\n",
       "    <tr>\n",
       "      <th>1</th>\n",
       "      <td>v_cuatrimestre</td>\n",
       "      <td>5001</td>\n",
       "      <td>99.349364</td>\n",
       "    </tr>\n",
       "    <tr>\n",
       "      <th>2</th>\n",
       "      <td>d_fecha_hechos</td>\n",
       "      <td>5001</td>\n",
       "      <td>99.349364</td>\n",
       "    </tr>\n",
       "    <tr>\n",
       "      <th>3</th>\n",
       "      <td>v_dia_de_semana</td>\n",
       "      <td>5001</td>\n",
       "      <td>99.349364</td>\n",
       "    </tr>\n",
       "    <tr>\n",
       "      <th>4</th>\n",
       "      <td>g_longitud</td>\n",
       "      <td>1</td>\n",
       "      <td>99.999870</td>\n",
       "    </tr>\n",
       "    <tr>\n",
       "      <th>5</th>\n",
       "      <td>c_id</td>\n",
       "      <td>0</td>\n",
       "      <td>100.000000</td>\n",
       "    </tr>\n",
       "    <tr>\n",
       "      <th>6</th>\n",
       "      <td>g_geopoint</td>\n",
       "      <td>0</td>\n",
       "      <td>100.000000</td>\n",
       "    </tr>\n",
       "    <tr>\n",
       "      <th>7</th>\n",
       "      <td>g_latitud</td>\n",
       "      <td>0</td>\n",
       "      <td>100.000000</td>\n",
       "    </tr>\n",
       "    <tr>\n",
       "      <th>8</th>\n",
       "      <td>t_calle_hechos</td>\n",
       "      <td>0</td>\n",
       "      <td>100.000000</td>\n",
       "    </tr>\n",
       "    <tr>\n",
       "      <th>9</th>\n",
       "      <td>ao_inicio</td>\n",
       "      <td>0</td>\n",
       "      <td>100.000000</td>\n",
       "    </tr>\n",
       "    <tr>\n",
       "      <th>10</th>\n",
       "      <td>v_mes_inicio</td>\n",
       "      <td>0</td>\n",
       "      <td>100.000000</td>\n",
       "    </tr>\n",
       "    <tr>\n",
       "      <th>11</th>\n",
       "      <td>v_alcaldia_hechos</td>\n",
       "      <td>0</td>\n",
       "      <td>100.000000</td>\n",
       "    </tr>\n",
       "    <tr>\n",
       "      <th>12</th>\n",
       "      <td>v_colonia_hechos</td>\n",
       "      <td>0</td>\n",
       "      <td>100.000000</td>\n",
       "    </tr>\n",
       "    <tr>\n",
       "      <th>13</th>\n",
       "      <td>v_unidad_investigacion</td>\n",
       "      <td>0</td>\n",
       "      <td>100.000000</td>\n",
       "    </tr>\n",
       "    <tr>\n",
       "      <th>14</th>\n",
       "      <td>v_agencia</td>\n",
       "      <td>0</td>\n",
       "      <td>100.000000</td>\n",
       "    </tr>\n",
       "    <tr>\n",
       "      <th>15</th>\n",
       "      <td>v_fiscalia</td>\n",
       "      <td>0</td>\n",
       "      <td>100.000000</td>\n",
       "    </tr>\n",
       "    <tr>\n",
       "      <th>16</th>\n",
       "      <td>v_categoria_delito</td>\n",
       "      <td>0</td>\n",
       "      <td>100.000000</td>\n",
       "    </tr>\n",
       "    <tr>\n",
       "      <th>17</th>\n",
       "      <td>v_delito</td>\n",
       "      <td>0</td>\n",
       "      <td>100.000000</td>\n",
       "    </tr>\n",
       "    <tr>\n",
       "      <th>18</th>\n",
       "      <td>v_mes_hechos</td>\n",
       "      <td>0</td>\n",
       "      <td>100.000000</td>\n",
       "    </tr>\n",
       "    <tr>\n",
       "      <th>19</th>\n",
       "      <td>c_ao_hechos</td>\n",
       "      <td>0</td>\n",
       "      <td>100.000000</td>\n",
       "    </tr>\n",
       "    <tr>\n",
       "      <th>20</th>\n",
       "      <td>d_fecha_inicio</td>\n",
       "      <td>0</td>\n",
       "      <td>100.000000</td>\n",
       "    </tr>\n",
       "    <tr>\n",
       "      <th>21</th>\n",
       "      <td>v_fin_de_semana</td>\n",
       "      <td>0</td>\n",
       "      <td>100.000000</td>\n",
       "    </tr>\n",
       "  </tbody>\n",
       "</table>\n",
       "</div>"
      ],
      "text/plain": [
       "                   columna   total  completitud\n",
       "0          t_calle_hechos2  456444    40.616133\n",
       "1           v_cuatrimestre    5001    99.349364\n",
       "2           d_fecha_hechos    5001    99.349364\n",
       "3          v_dia_de_semana    5001    99.349364\n",
       "4               g_longitud       1    99.999870\n",
       "5                     c_id       0   100.000000\n",
       "6               g_geopoint       0   100.000000\n",
       "7                g_latitud       0   100.000000\n",
       "8           t_calle_hechos       0   100.000000\n",
       "9                ao_inicio       0   100.000000\n",
       "10            v_mes_inicio       0   100.000000\n",
       "11       v_alcaldia_hechos       0   100.000000\n",
       "12        v_colonia_hechos       0   100.000000\n",
       "13  v_unidad_investigacion       0   100.000000\n",
       "14               v_agencia       0   100.000000\n",
       "15              v_fiscalia       0   100.000000\n",
       "16      v_categoria_delito       0   100.000000\n",
       "17                v_delito       0   100.000000\n",
       "18            v_mes_hechos       0   100.000000\n",
       "19             c_ao_hechos       0   100.000000\n",
       "20          d_fecha_inicio       0   100.000000\n",
       "21         v_fin_de_semana       0   100.000000"
      ]
     },
     "execution_count": 86,
     "metadata": {},
     "output_type": "execute_result"
    }
   ],
   "source": [
    "#Las variables deben tener arriba de un 80% de completitud para ser admitibles a imputación\n",
    "comple"
   ]
  },
  {
   "cell_type": "code",
   "execution_count": 87,
   "id": "36f0bee3-7458-406a-bea4-c7402d635ba7",
   "metadata": {
    "tags": []
   },
   "outputs": [],
   "source": [
    "def completitud(df):\n",
    "    comple=pd.DataFrame(df.isnull().sum())\n",
    "    comple.reset_index(inplace=True)\n",
    "    comple=comple.rename(columns={\"index\":\"columna\",0:\"total\"})\n",
    "    comple[\"completitud\"]=(1-comple[\"total\"]/df.shape[0])*100\n",
    "    comple=comple.sort_values(by=\"completitud\",ascending=True)\n",
    "    comple.reset_index(drop=True,inplace=True)\n",
    "    return comple"
   ]
  },
  {
   "cell_type": "code",
   "execution_count": 88,
   "id": "2bf7567e-870c-462b-8a1b-2d2d85a902fd",
   "metadata": {
    "tags": []
   },
   "outputs": [
    {
     "data": {
      "text/plain": [
       "t_calle_hechos2\n",
       ".                                  0.006195\n",
       "EJE CENTRAL LAZARO CARDENAS        0.004010\n",
       "PERIFERICO                         0.002835\n",
       "CUAUHTEMOC                         0.002412\n",
       "EMILIANO ZAPATA                    0.002028\n",
       "                                     ...   \n",
       "AVENIDA TURBA                      0.000003\n",
       "ESQUINA CON  CALLE AZCAPOTZALCO    0.000003\n",
       "INTERIOR BANCO HSBC                0.000003\n",
       "BUTACARIS (PARALELA)               0.000003\n",
       "LAGO ITZEO                         0.000003\n",
       "Name: proportion, Length: 81102, dtype: float64"
      ]
     },
     "execution_count": 88,
     "metadata": {},
     "output_type": "execute_result"
    }
   ],
   "source": [
    "#variable no admisible, con el filtro del año 2013 se soluciona \n",
    "df[\"t_calle_hechos2\"].value_counts(1)"
   ]
  },
  {
   "cell_type": "code",
   "execution_count": 89,
   "id": "8f3cbc20-08be-4c1b-bbab-c85cf38ebd42",
   "metadata": {
    "tags": []
   },
   "outputs": [],
   "source": [
    "df.drop(columns=[\"t_calle_hechos2\"],inplace=True)"
   ]
  },
  {
   "cell_type": "code",
   "execution_count": 90,
   "id": "fa793476-4e43-4e6b-9c9d-66bb5e61be57",
   "metadata": {
    "tags": []
   },
   "outputs": [
    {
     "data": {
      "text/plain": [
       "(768633, 21)"
      ]
     },
     "execution_count": 90,
     "metadata": {},
     "output_type": "execute_result"
    }
   ],
   "source": [
    "df.shape"
   ]
  },
  {
   "cell_type": "code",
   "execution_count": 91,
   "id": "7e47dd86-a8b4-4a4d-9507-54b584c44e5d",
   "metadata": {
    "tags": []
   },
   "outputs": [
    {
     "name": "stdout",
     "output_type": "stream",
     "text": [
      "<class 'pandas.core.frame.DataFrame'>\n",
      "Index: 768633 entries, 0 to 774951\n",
      "Data columns (total 21 columns):\n",
      " #   Column                  Non-Null Count   Dtype         \n",
      "---  ------                  --------------   -----         \n",
      " 0   c_id                    768633 non-null  int64         \n",
      " 1   c_ao_hechos             768633 non-null  int32         \n",
      " 2   v_mes_hechos            768633 non-null  object        \n",
      " 3   d_fecha_hechos          763632 non-null  datetime64[ns]\n",
      " 4   v_delito                768633 non-null  object        \n",
      " 5   v_categoria_delito      768633 non-null  object        \n",
      " 6   v_fiscalia              768633 non-null  object        \n",
      " 7   v_agencia               768633 non-null  object        \n",
      " 8   v_unidad_investigacion  768633 non-null  object        \n",
      " 9   v_colonia_hechos        768633 non-null  object        \n",
      " 10  v_alcaldia_hechos       768633 non-null  object        \n",
      " 11  d_fecha_inicio          768633 non-null  object        \n",
      " 12  v_mes_inicio            768633 non-null  object        \n",
      " 13  ao_inicio               768633 non-null  int64         \n",
      " 14  t_calle_hechos          768633 non-null  object        \n",
      " 15  g_longitud              768632 non-null  object        \n",
      " 16  g_latitud               768633 non-null  float64       \n",
      " 17  g_geopoint              768633 non-null  object        \n",
      " 18  v_cuatrimestre          763632 non-null  object        \n",
      " 19  v_dia_de_semana         763632 non-null  object        \n",
      " 20  v_fin_de_semana         768633 non-null  bool          \n",
      "dtypes: bool(1), datetime64[ns](1), float64(1), int32(1), int64(2), object(15)\n",
      "memory usage: 120.9+ MB\n"
     ]
    }
   ],
   "source": [
    "df.info()"
   ]
  },
  {
   "cell_type": "code",
   "execution_count": 92,
   "id": "a4f80349-efdc-470c-8b3f-5470c2595f87",
   "metadata": {
    "tags": []
   },
   "outputs": [
    {
     "data": {
      "text/plain": [
       "<Axes: >"
      ]
     },
     "execution_count": 92,
     "metadata": {},
     "output_type": "execute_result"
    },
    {
     "data": {
      "image/png": "[encoded data removed]",
      "text/plain": [
       "<Figure size 2500x1000 with 2 Axes>"
      ]
     },
     "metadata": {},
     "output_type": "display_data"
    }
   ],
   "source": [
    "msno.matrix(df.iloc[:, :23])"
   ]
  },
  {
   "cell_type": "markdown",
   "id": "425c1e76-0bb5-4c86-83bc-2f59ec80d7f3",
   "metadata": {},
   "source": [
    "## Precisión/Orden"
   ]
  },
  {
   "cell_type": "code",
   "execution_count": 93,
   "id": "e3a456ee-9a75-425b-9106-701bfbb3b6f9",
   "metadata": {
    "tags": []
   },
   "outputs": [],
   "source": [
    "def unitarias(df,col):\n",
    "    result=pd.DataFrame(df[col].value_counts(1))\n",
    "    if result.shape[0]>0:\n",
    "        if (result.values[0]>.91) :\n",
    "            print(f\"{col} -- VARIABLE UNITARIA\")"
   ]
  },
  {
   "cell_type": "code",
   "execution_count": 94,
   "id": "a9b1dd83-0329-441b-9792-25e99119b9d2",
   "metadata": {
    "tags": []
   },
   "outputs": [],
   "source": [
    "for col in df.filter(like=\"v_\").columns:\n",
    "    unitarias(df,col)"
   ]
  },
  {
   "cell_type": "code",
   "execution_count": 95,
   "id": "e16fd552-85c0-4b9d-a18f-5b8f2d631769",
   "metadata": {
    "tags": []
   },
   "outputs": [
    {
     "name": "stdout",
     "output_type": "stream",
     "text": [
      "{'c_id': 768633, 'c_ao_hechos': 9, 'v_mes_hechos': 37, 'd_fecha_hechos': 249448, 'v_delito': 77, 'v_categoria_delito': 3, 'v_fiscalia': 24, 'v_agencia': 154, 'v_unidad_investigacion': 88, 'v_colonia_hechos': 1625, 'v_alcaldia_hechos': 4, 'd_fecha_inicio': 759214, 'v_mes_inicio': 12, 'ao_inicio': 4, 't_calle_hechos': 154020, 'g_longitud': 611502, 'g_latitud': 608898, 'g_geopoint': 609727, 'v_cuatrimestre': 3, 'v_dia_de_semana': 7, 'v_fin_de_semana': 2}\n"
     ]
    }
   ],
   "source": [
    "\n",
    "valores_unicos_por_columna = {}\n",
    "for columna in df.columns:\n",
    "    valores_unicos = df[columna].nunique()  # Obtiene el número de valores únicos en la columna\n",
    "    valores_unicos_por_columna[columna] = valores_unicos \n",
    "print(valores_unicos_por_columna)"
   ]
  },
  {
   "cell_type": "markdown",
   "id": "c84e2dbb-72bd-464f-8500-f9ce970c0672",
   "metadata": {
    "tags": []
   },
   "source": [
    "### Variable categorica v_mes_hechos"
   ]
  },
  {
   "cell_type": "code",
   "execution_count": 96,
   "id": "82b509c2-97d1-447b-98f3-734e06448574",
   "metadata": {
    "tags": []
   },
   "outputs": [
    {
     "data": {
      "text/plain": [
       "Series([], Name: count, dtype: int64)"
      ]
     },
     "execution_count": 96,
     "metadata": {},
     "output_type": "execute_result"
    }
   ],
   "source": [
    "df[df[\"v_mes_hechos\"].map(lambda x:str(x).isdigit())][\"v_mes_hechos\"].value_counts()"
   ]
  },
  {
   "cell_type": "code",
   "execution_count": 97,
   "id": "c940a4e3-5f77-4621-92da-953a2a6226a6",
   "metadata": {
    "tags": []
   },
   "outputs": [
    {
     "data": {
      "text/plain": [
       "v_mes_hechos\n",
       "mayo            75871\n",
       "marzo           73988\n",
       "abril           70746\n",
       "enero           69555\n",
       "junio           69187\n",
       "febrero         68479\n",
       "octubre         60390\n",
       "agosto          57005\n",
       "noviembre       56826\n",
       "diciembre       56088\n",
       "septiembre      55926\n",
       "julio           54264\n",
       "december           36\n",
       "agosto3            33\n",
       "march              31\n",
       "may                30\n",
       "september          29\n",
       "february           26\n",
       "october            26\n",
       "november           21\n",
       "june               17\n",
       "august             15\n",
       "january            11\n",
       "aabril             11\n",
       "july                4\n",
       "april               4\n",
       "enro                4\n",
       "abrill              1\n",
       "agosto 2017         1\n",
       "mayo 2018           1\n",
       "agossto             1\n",
       "novimbre            1\n",
       "septiemb            1\n",
       "novembre            1\n",
       "maro                1\n",
       "diciiembre          1\n",
       "febrero 2015        1\n",
       "Name: count, dtype: int64"
      ]
     },
     "execution_count": 97,
     "metadata": {},
     "output_type": "execute_result"
    }
   ],
   "source": [
    "df[~df[\"v_mes_hechos\"].map(lambda x:str(x).isdigit())][\"v_mes_hechos\"].value_counts()"
   ]
  },
  {
   "cell_type": "code",
   "execution_count": 98,
   "id": "c55b8b84-472d-4134-85c9-bfbf758e6d61",
   "metadata": {
    "tags": []
   },
   "outputs": [
    {
     "data": {
      "text/plain": [
       "v_mes_hechos\n",
       "mayo            75871\n",
       "marzo           73988\n",
       "abril           70746\n",
       "enero           69555\n",
       "junio           69187\n",
       "febrero         68479\n",
       "octubre         60390\n",
       "agosto          57005\n",
       "noviembre       56826\n",
       "diciembre       56088\n",
       "septiembre      55926\n",
       "julio           54264\n",
       "december           36\n",
       "agosto3            33\n",
       "march              31\n",
       "may                30\n",
       "september          29\n",
       "february           26\n",
       "october            26\n",
       "november           21\n",
       "june               17\n",
       "august             15\n",
       "january            11\n",
       "aabril             11\n",
       "july                4\n",
       "april               4\n",
       "enro                4\n",
       "abrill              1\n",
       "agosto 2017         1\n",
       "mayo 2018           1\n",
       "agossto             1\n",
       "novimbre            1\n",
       "septiemb            1\n",
       "novembre            1\n",
       "maro                1\n",
       "diciiembre          1\n",
       "febrero 2015        1\n",
       "Name: count, dtype: int64"
      ]
     },
     "execution_count": 98,
     "metadata": {},
     "output_type": "execute_result"
    }
   ],
   "source": [
    "df[~df[\"v_mes_hechos\"].map(lambda x:str(x).isdigit())][\"v_mes_hechos\"].value_counts()"
   ]
  },
  {
   "cell_type": "code",
   "execution_count": 99,
   "id": "6376e832-505f-4f3a-a203-dc605ceaf5e4",
   "metadata": {
    "tags": []
   },
   "outputs": [],
   "source": [
    "#modificamos \"v_mes_hecho por sus correspondientes valores\n",
    "df[\"v_mes_hechos\"]=df[\"v_mes_hechos\"].replace({\"ENRO\":\"Enero\",\"January\":\"Enero\"})\n",
    "df[\"v_mes_hechos\"]=df[\"v_mes_hechos\"].replace({\"March\":\"Marzo\"})\n",
    "df[\"v_mes_hechos\"]=df[\"v_mes_hechos\"].replace({\"April\":\"Abril\",\"Aabril\":\"Abril\",\"abrill\":\"Abril\",\"April\":\"Abril\"})\n",
    "df[\"v_mes_hechos\"]=df[\"v_mes_hechos\"].replace({\"February\":\"Febrero\",\"Febrero-2015\":\"Febrero\"})\n",
    "df[\"v_mes_hechos\"]=df[\"v_mes_hechos\"].replace({\"October\":\"Octubre\"})\n",
    "df[\"v_mes_hechos\"]=df[\"v_mes_hechos\"].replace({\"May\":\"Mayo\",\"Maro\":\"Mayo\",\"Mayo-2018\":\"Mayo\"})\n",
    "df[\"v_mes_hechos\"]=df[\"v_mes_hechos\"].replace({\"Agossto\":\"Agosto\",\"agosto3\":\"Agosto\",\"August\":\"Agosto\",\"Agosto-2017\":\"Agosto\"})\n",
    "df[\"v_mes_hechos\"]=df[\"v_mes_hechos\"].replace({\"December\":\"Diciembre\",\"Diciiembre\":\"Diciembre\"})\n",
    "df[\"v_mes_hechos\"]=df[\"v_mes_hechos\"].replace({\"Julio .\":\"Julio\",\"July\":\"Julio\"})\n",
    "df[\"v_mes_hechos\"]=df[\"v_mes_hechos\"].replace({\"June\":\"Junio\",\"July\":\"Julio\"})\n",
    "df[\"v_mes_hechos\"]=df[\"v_mes_hechos\"].replace({\"September\":\"Septiembre\",\"Septiemb\":\"Septiembre\"})\n",
    "df[\"v_mes_hechos\"]=df[\"v_mes_hechos\"].replace({\"Novimbre\":\"Noviembre\",\"Novembre\":\"Noviembre\",\"November\":\"Noviembre\"})\n"
   ]
  },
  {
   "cell_type": "code",
   "execution_count": 100,
   "id": "e9463f1b-ead2-4ab4-9e49-7bb2df57c71b",
   "metadata": {
    "tags": []
   },
   "outputs": [
    {
     "data": {
      "text/html": [
       "<div>\n",
       "<style scoped>\n",
       "    .dataframe tbody tr th:only-of-type {\n",
       "        vertical-align: middle;\n",
       "    }\n",
       "\n",
       "    .dataframe tbody tr th {\n",
       "        vertical-align: top;\n",
       "    }\n",
       "\n",
       "    .dataframe thead th {\n",
       "        text-align: right;\n",
       "    }\n",
       "</style>\n",
       "<table border=\"1\" class=\"dataframe\">\n",
       "  <thead>\n",
       "    <tr style=\"text-align: right;\">\n",
       "      <th></th>\n",
       "      <th>c_id</th>\n",
       "      <th>c_ao_hechos</th>\n",
       "      <th>v_mes_hechos</th>\n",
       "      <th>d_fecha_hechos</th>\n",
       "      <th>v_delito</th>\n",
       "      <th>v_categoria_delito</th>\n",
       "      <th>v_fiscalia</th>\n",
       "      <th>v_agencia</th>\n",
       "      <th>v_unidad_investigacion</th>\n",
       "      <th>v_colonia_hechos</th>\n",
       "      <th>v_alcaldia_hechos</th>\n",
       "      <th>d_fecha_inicio</th>\n",
       "      <th>v_mes_inicio</th>\n",
       "      <th>ao_inicio</th>\n",
       "      <th>t_calle_hechos</th>\n",
       "      <th>g_longitud</th>\n",
       "      <th>g_latitud</th>\n",
       "      <th>g_geopoint</th>\n",
       "      <th>v_cuatrimestre</th>\n",
       "      <th>v_dia_de_semana</th>\n",
       "      <th>v_fin_de_semana</th>\n",
       "    </tr>\n",
       "  </thead>\n",
       "  <tbody>\n",
       "    <tr>\n",
       "      <th>0</th>\n",
       "      <td>0</td>\n",
       "      <td>2016</td>\n",
       "      <td>enero</td>\n",
       "      <td>2016-01-05 17:00:00</td>\n",
       "      <td>lesiones</td>\n",
       "      <td>Delito menor</td>\n",
       "      <td>investigacian en gustavo a madero</td>\n",
       "      <td>gam 6</td>\n",
       "      <td>ui 1cd</td>\n",
       "      <td>granjas modernas</td>\n",
       "      <td>Zona Norte</td>\n",
       "      <td>2016-01-05 18:35:37</td>\n",
       "      <td>enero</td>\n",
       "      <td>2016</td>\n",
       "      <td>san juan de aragon</td>\n",
       "      <td>-99.103527</td>\n",
       "      <td>19.481076</td>\n",
       "      <td>19.4810759998,-99.103527</td>\n",
       "      <td>1er Cuatrimestre</td>\n",
       "      <td>Tuesday</td>\n",
       "      <td>False</td>\n",
       "    </tr>\n",
       "    <tr>\n",
       "      <th>1</th>\n",
       "      <td>2</td>\n",
       "      <td>2017</td>\n",
       "      <td>noviembre</td>\n",
       "      <td>2017-11-01 16:40:00</td>\n",
       "      <td>robo</td>\n",
       "      <td>Delito grave</td>\n",
       "      <td>investigacian en iztacalco</td>\n",
       "      <td>izc 2</td>\n",
       "      <td>ui 1sd</td>\n",
       "      <td>gabriel ramos millan seccian tlacotal</td>\n",
       "      <td>Zona Norte</td>\n",
       "      <td>2017-11-01 16:56:04</td>\n",
       "      <td>noviembre</td>\n",
       "      <td>2017</td>\n",
       "      <td>sur 117</td>\n",
       "      <td>-99.106072</td>\n",
       "      <td>19.395398</td>\n",
       "      <td>19.3953976727,-99.1060723829</td>\n",
       "      <td>3er Cuatrimestre</td>\n",
       "      <td>Wednesday</td>\n",
       "      <td>False</td>\n",
       "    </tr>\n",
       "    <tr>\n",
       "      <th>2</th>\n",
       "      <td>3</td>\n",
       "      <td>2015</td>\n",
       "      <td>diciembre</td>\n",
       "      <td>2015-12-30 20:00:00</td>\n",
       "      <td>fraude</td>\n",
       "      <td>Delito menor</td>\n",
       "      <td>investigacian en iztapalapa</td>\n",
       "      <td>izp 8</td>\n",
       "      <td>ui 1cd</td>\n",
       "      <td>consejo agrarista mexicano</td>\n",
       "      <td>Zona Oriente</td>\n",
       "      <td>2016-01-05 21:12:42</td>\n",
       "      <td>enero</td>\n",
       "      <td>2016</td>\n",
       "      <td>cuarta cerrada de fresno</td>\n",
       "      <td>-99.055887</td>\n",
       "      <td>19.322458</td>\n",
       "      <td>19.3224579998,-99.055887</td>\n",
       "      <td>3er Cuatrimestre</td>\n",
       "      <td>Wednesday</td>\n",
       "      <td>False</td>\n",
       "    </tr>\n",
       "    <tr>\n",
       "      <th>3</th>\n",
       "      <td>4</td>\n",
       "      <td>2018</td>\n",
       "      <td>mayo</td>\n",
       "      <td>2018-05-16 16:00:00</td>\n",
       "      <td>robo</td>\n",
       "      <td>Delito grave</td>\n",
       "      <td>investigacian en iztapalapa</td>\n",
       "      <td>izp 9</td>\n",
       "      <td>ui 2sd</td>\n",
       "      <td>desarrollo urbano quetzalcoatl</td>\n",
       "      <td>Zona Oriente</td>\n",
       "      <td>2018-05-22 10:44:45</td>\n",
       "      <td>mayo</td>\n",
       "      <td>2018</td>\n",
       "      <td>tarasco</td>\n",
       "      <td>-99.042786</td>\n",
       "      <td>19.319141</td>\n",
       "      <td>19.3191405147,-99.0427862526</td>\n",
       "      <td>2do Cuatrimestre</td>\n",
       "      <td>Wednesday</td>\n",
       "      <td>False</td>\n",
       "    </tr>\n",
       "    <tr>\n",
       "      <th>4</th>\n",
       "      <td>5</td>\n",
       "      <td>2018</td>\n",
       "      <td>mayo</td>\n",
       "      <td>2018-05-21 20:40:00</td>\n",
       "      <td>robo</td>\n",
       "      <td>Delito menor</td>\n",
       "      <td>investigacian en cuauhtemoc</td>\n",
       "      <td>cuh 2</td>\n",
       "      <td>ui 2sd</td>\n",
       "      <td>infonavit iztacalco</td>\n",
       "      <td>Zona Norte</td>\n",
       "      <td>2018-05-22 10:52:18</td>\n",
       "      <td>mayo</td>\n",
       "      <td>2018</td>\n",
       "      <td>francisco del paso y troncoso</td>\n",
       "      <td>-99.111563</td>\n",
       "      <td>19.386594</td>\n",
       "      <td>19.3865939284,-99.1115626682</td>\n",
       "      <td>2do Cuatrimestre</td>\n",
       "      <td>Monday</td>\n",
       "      <td>False</td>\n",
       "    </tr>\n",
       "    <tr>\n",
       "      <th>...</th>\n",
       "      <td>...</td>\n",
       "      <td>...</td>\n",
       "      <td>...</td>\n",
       "      <td>...</td>\n",
       "      <td>...</td>\n",
       "      <td>...</td>\n",
       "      <td>...</td>\n",
       "      <td>...</td>\n",
       "      <td>...</td>\n",
       "      <td>...</td>\n",
       "      <td>...</td>\n",
       "      <td>...</td>\n",
       "      <td>...</td>\n",
       "      <td>...</td>\n",
       "      <td>...</td>\n",
       "      <td>...</td>\n",
       "      <td>...</td>\n",
       "      <td>...</td>\n",
       "      <td>...</td>\n",
       "      <td>...</td>\n",
       "      <td>...</td>\n",
       "    </tr>\n",
       "    <tr>\n",
       "      <th>774947</th>\n",
       "      <td>808866</td>\n",
       "      <td>2018</td>\n",
       "      <td>julio</td>\n",
       "      <td>2018-07-09 22:30:00</td>\n",
       "      <td>robo</td>\n",
       "      <td>Delito grave</td>\n",
       "      <td>investigacian en miguel hidalgo</td>\n",
       "      <td>mh 1</td>\n",
       "      <td>ui 1sd</td>\n",
       "      <td>anahuac</td>\n",
       "      <td>Zona Centro Poniente</td>\n",
       "      <td>2018-07-10 18:24:33</td>\n",
       "      <td>julio</td>\n",
       "      <td>2018</td>\n",
       "      <td>lago alberto</td>\n",
       "      <td>-99.182018</td>\n",
       "      <td>19.439418</td>\n",
       "      <td>19.439418014,-99.1820184667</td>\n",
       "      <td>2do Cuatrimestre</td>\n",
       "      <td>Monday</td>\n",
       "      <td>False</td>\n",
       "    </tr>\n",
       "    <tr>\n",
       "      <th>774948</th>\n",
       "      <td>808867</td>\n",
       "      <td>2018</td>\n",
       "      <td>julio</td>\n",
       "      <td>2018-07-29 05:00:00</td>\n",
       "      <td>violencia</td>\n",
       "      <td>Delito menor</td>\n",
       "      <td>investigacian en milpa alta</td>\n",
       "      <td>mil 2</td>\n",
       "      <td>ui 1cd</td>\n",
       "      <td>santa cruz xochitepec</td>\n",
       "      <td>Zona Oriente</td>\n",
       "      <td>2018-07-29 12:37:27</td>\n",
       "      <td>julio</td>\n",
       "      <td>2018</td>\n",
       "      <td>callejon morelos</td>\n",
       "      <td>-99.134738</td>\n",
       "      <td>19.254935</td>\n",
       "      <td>19.2549354998,-99.1347381</td>\n",
       "      <td>2do Cuatrimestre</td>\n",
       "      <td>Sunday</td>\n",
       "      <td>True</td>\n",
       "    </tr>\n",
       "    <tr>\n",
       "      <th>774949</th>\n",
       "      <td>808868</td>\n",
       "      <td>2019</td>\n",
       "      <td>febrero</td>\n",
       "      <td>2019-02-14 19:00:00</td>\n",
       "      <td>lesiones</td>\n",
       "      <td>Delito grave con agravante</td>\n",
       "      <td>investigacian en miguel hidalgo</td>\n",
       "      <td>h1</td>\n",
       "      <td>ui 1sd</td>\n",
       "      <td>industrial</td>\n",
       "      <td>Zona Norte</td>\n",
       "      <td>2019-02-15 12:50:00</td>\n",
       "      <td>febrero</td>\n",
       "      <td>2019</td>\n",
       "      <td>calz de los misterios</td>\n",
       "      <td>-99.122943</td>\n",
       "      <td>19.473867</td>\n",
       "      <td>19.473866796,-99.1229431996</td>\n",
       "      <td>1er Cuatrimestre</td>\n",
       "      <td>Thursday</td>\n",
       "      <td>False</td>\n",
       "    </tr>\n",
       "    <tr>\n",
       "      <th>774950</th>\n",
       "      <td>808869</td>\n",
       "      <td>2019</td>\n",
       "      <td>febrero</td>\n",
       "      <td>2019-02-15 10:00:00</td>\n",
       "      <td>privacion de la libertad personal</td>\n",
       "      <td>Delito menor</td>\n",
       "      <td>investigacian en azcapotzalco</td>\n",
       "      <td>az 4</td>\n",
       "      <td>ui 1sd</td>\n",
       "      <td>cosmopolita</td>\n",
       "      <td>Zona Centro Poniente</td>\n",
       "      <td>2019-02-15 13:04:00</td>\n",
       "      <td>febrero</td>\n",
       "      <td>2019</td>\n",
       "      <td>cerdeaa</td>\n",
       "      <td>-99.163384</td>\n",
       "      <td>19.473593</td>\n",
       "      <td>19.4735930736,-99.163384042</td>\n",
       "      <td>1er Cuatrimestre</td>\n",
       "      <td>Friday</td>\n",
       "      <td>False</td>\n",
       "    </tr>\n",
       "    <tr>\n",
       "      <th>774951</th>\n",
       "      <td>808870</td>\n",
       "      <td>2017</td>\n",
       "      <td>abril</td>\n",
       "      <td>2017-04-01 10:00:00</td>\n",
       "      <td>abuso de confianza</td>\n",
       "      <td>Delito menor</td>\n",
       "      <td>investigacian en agencias de atencian especial...</td>\n",
       "      <td>aer</td>\n",
       "      <td>ui 1sd</td>\n",
       "      <td>aeropuerto internacional benito juarez</td>\n",
       "      <td>Zona Norte</td>\n",
       "      <td>2017-05-26 17:04:07</td>\n",
       "      <td>mayo</td>\n",
       "      <td>2017</td>\n",
       "      <td>cap aviador carlos leon</td>\n",
       "      <td>-99.083974</td>\n",
       "      <td>19.435153</td>\n",
       "      <td>19.4351530369,-99.0839742938</td>\n",
       "      <td>1er Cuatrimestre</td>\n",
       "      <td>Saturday</td>\n",
       "      <td>True</td>\n",
       "    </tr>\n",
       "  </tbody>\n",
       "</table>\n",
       "<p>768633 rows × 21 columns</p>\n",
       "</div>"
      ],
      "text/plain": [
       "          c_id  c_ao_hechos v_mes_hechos      d_fecha_hechos  \\\n",
       "0            0         2016        enero 2016-01-05 17:00:00   \n",
       "1            2         2017    noviembre 2017-11-01 16:40:00   \n",
       "2            3         2015    diciembre 2015-12-30 20:00:00   \n",
       "3            4         2018         mayo 2018-05-16 16:00:00   \n",
       "4            5         2018         mayo 2018-05-21 20:40:00   \n",
       "...        ...          ...          ...                 ...   \n",
       "774947  808866         2018        julio 2018-07-09 22:30:00   \n",
       "774948  808867         2018        julio 2018-07-29 05:00:00   \n",
       "774949  808868         2019      febrero 2019-02-14 19:00:00   \n",
       "774950  808869         2019      febrero 2019-02-15 10:00:00   \n",
       "774951  808870         2017        abril 2017-04-01 10:00:00   \n",
       "\n",
       "                                 v_delito          v_categoria_delito  \\\n",
       "0                                lesiones                Delito menor   \n",
       "1                                    robo                Delito grave   \n",
       "2                                  fraude                Delito menor   \n",
       "3                                    robo                Delito grave   \n",
       "4                                    robo                Delito menor   \n",
       "...                                   ...                         ...   \n",
       "774947                               robo                Delito grave   \n",
       "774948                          violencia                Delito menor   \n",
       "774949                           lesiones  Delito grave con agravante   \n",
       "774950  privacion de la libertad personal                Delito menor   \n",
       "774951                 abuso de confianza                Delito menor   \n",
       "\n",
       "                                               v_fiscalia v_agencia  \\\n",
       "0                       investigacian en gustavo a madero     gam 6   \n",
       "1                              investigacian en iztacalco     izc 2   \n",
       "2                             investigacian en iztapalapa     izp 8   \n",
       "3                             investigacian en iztapalapa     izp 9   \n",
       "4                             investigacian en cuauhtemoc     cuh 2   \n",
       "...                                                   ...       ...   \n",
       "774947                    investigacian en miguel hidalgo      mh 1   \n",
       "774948                        investigacian en milpa alta     mil 2   \n",
       "774949                    investigacian en miguel hidalgo        h1   \n",
       "774950                      investigacian en azcapotzalco      az 4   \n",
       "774951  investigacian en agencias de atencian especial...       aer   \n",
       "\n",
       "       v_unidad_investigacion                        v_colonia_hechos  \\\n",
       "0                      ui 1cd                        granjas modernas   \n",
       "1                      ui 1sd   gabriel ramos millan seccian tlacotal   \n",
       "2                      ui 1cd              consejo agrarista mexicano   \n",
       "3                      ui 2sd          desarrollo urbano quetzalcoatl   \n",
       "4                      ui 2sd                     infonavit iztacalco   \n",
       "...                       ...                                     ...   \n",
       "774947                 ui 1sd                                 anahuac   \n",
       "774948                 ui 1cd                   santa cruz xochitepec   \n",
       "774949                 ui 1sd                              industrial   \n",
       "774950                 ui 1sd                             cosmopolita   \n",
       "774951                 ui 1sd  aeropuerto internacional benito juarez   \n",
       "\n",
       "           v_alcaldia_hechos       d_fecha_inicio v_mes_inicio  ao_inicio  \\\n",
       "0                 Zona Norte  2016-01-05 18:35:37        enero       2016   \n",
       "1                 Zona Norte  2017-11-01 16:56:04    noviembre       2017   \n",
       "2               Zona Oriente  2016-01-05 21:12:42        enero       2016   \n",
       "3               Zona Oriente  2018-05-22 10:44:45         mayo       2018   \n",
       "4                 Zona Norte  2018-05-22 10:52:18         mayo       2018   \n",
       "...                      ...                  ...          ...        ...   \n",
       "774947  Zona Centro Poniente  2018-07-10 18:24:33        julio       2018   \n",
       "774948          Zona Oriente  2018-07-29 12:37:27        julio       2018   \n",
       "774949            Zona Norte  2019-02-15 12:50:00      febrero       2019   \n",
       "774950  Zona Centro Poniente  2019-02-15 13:04:00      febrero       2019   \n",
       "774951            Zona Norte  2017-05-26 17:04:07         mayo       2017   \n",
       "\n",
       "                       t_calle_hechos g_longitud  g_latitud  \\\n",
       "0                  san juan de aragon -99.103527  19.481076   \n",
       "1                             sur 117 -99.106072  19.395398   \n",
       "2            cuarta cerrada de fresno -99.055887  19.322458   \n",
       "3                             tarasco -99.042786  19.319141   \n",
       "4       francisco del paso y troncoso -99.111563  19.386594   \n",
       "...                               ...        ...        ...   \n",
       "774947                   lago alberto -99.182018  19.439418   \n",
       "774948               callejon morelos -99.134738  19.254935   \n",
       "774949          calz de los misterios -99.122943  19.473867   \n",
       "774950                        cerdeaa -99.163384  19.473593   \n",
       "774951        cap aviador carlos leon -99.083974  19.435153   \n",
       "\n",
       "                          g_geopoint    v_cuatrimestre v_dia_de_semana  \\\n",
       "0           19.4810759998,-99.103527  1er Cuatrimestre         Tuesday   \n",
       "1       19.3953976727,-99.1060723829  3er Cuatrimestre       Wednesday   \n",
       "2           19.3224579998,-99.055887  3er Cuatrimestre       Wednesday   \n",
       "3       19.3191405147,-99.0427862526  2do Cuatrimestre       Wednesday   \n",
       "4       19.3865939284,-99.1115626682  2do Cuatrimestre          Monday   \n",
       "...                              ...               ...             ...   \n",
       "774947   19.439418014,-99.1820184667  2do Cuatrimestre          Monday   \n",
       "774948     19.2549354998,-99.1347381  2do Cuatrimestre          Sunday   \n",
       "774949   19.473866796,-99.1229431996  1er Cuatrimestre        Thursday   \n",
       "774950   19.4735930736,-99.163384042  1er Cuatrimestre          Friday   \n",
       "774951  19.4351530369,-99.0839742938  1er Cuatrimestre        Saturday   \n",
       "\n",
       "        v_fin_de_semana  \n",
       "0                 False  \n",
       "1                 False  \n",
       "2                 False  \n",
       "3                 False  \n",
       "4                 False  \n",
       "...                 ...  \n",
       "774947            False  \n",
       "774948             True  \n",
       "774949            False  \n",
       "774950            False  \n",
       "774951             True  \n",
       "\n",
       "[768633 rows x 21 columns]"
      ]
     },
     "execution_count": 100,
     "metadata": {},
     "output_type": "execute_result"
    }
   ],
   "source": [
    "df"
   ]
  },
  {
   "cell_type": "code",
   "execution_count": 101,
   "id": "4575d857-2e2d-432c-9d0a-f2687d97e435",
   "metadata": {
    "tags": []
   },
   "outputs": [
    {
     "name": "stdout",
     "output_type": "stream",
     "text": [
      "<class 'pandas.core.frame.DataFrame'>\n",
      "Index: 768633 entries, 0 to 774951\n",
      "Data columns (total 21 columns):\n",
      " #   Column                  Non-Null Count   Dtype         \n",
      "---  ------                  --------------   -----         \n",
      " 0   c_id                    768633 non-null  int64         \n",
      " 1   c_ao_hechos             768633 non-null  int32         \n",
      " 2   v_mes_hechos            768633 non-null  object        \n",
      " 3   d_fecha_hechos          763632 non-null  datetime64[ns]\n",
      " 4   v_delito                768633 non-null  object        \n",
      " 5   v_categoria_delito      768633 non-null  object        \n",
      " 6   v_fiscalia              768633 non-null  object        \n",
      " 7   v_agencia               768633 non-null  object        \n",
      " 8   v_unidad_investigacion  768633 non-null  object        \n",
      " 9   v_colonia_hechos        768633 non-null  object        \n",
      " 10  v_alcaldia_hechos       768633 non-null  object        \n",
      " 11  d_fecha_inicio          768633 non-null  object        \n",
      " 12  v_mes_inicio            768633 non-null  object        \n",
      " 13  ao_inicio               768633 non-null  int64         \n",
      " 14  t_calle_hechos          768633 non-null  object        \n",
      " 15  g_longitud              768632 non-null  object        \n",
      " 16  g_latitud               768633 non-null  float64       \n",
      " 17  g_geopoint              768633 non-null  object        \n",
      " 18  v_cuatrimestre          763632 non-null  object        \n",
      " 19  v_dia_de_semana         763632 non-null  object        \n",
      " 20  v_fin_de_semana         768633 non-null  bool          \n",
      "dtypes: bool(1), datetime64[ns](1), float64(1), int32(1), int64(2), object(15)\n",
      "memory usage: 120.9+ MB\n"
     ]
    }
   ],
   "source": [
    "df.info()"
   ]
  },
  {
   "cell_type": "code",
   "execution_count": 102,
   "id": "b1843a1b-1b26-4842-a95a-1c0d19976416",
   "metadata": {
    "tags": []
   },
   "outputs": [
    {
     "data": {
      "text/plain": [
       "<Axes: >"
      ]
     },
     "execution_count": 102,
     "metadata": {},
     "output_type": "execute_result"
    },
    {
     "data": {
      "image/png": "[encoded data removed]",
      "text/plain": [
       "<Figure size 2500x1000 with 2 Axes>"
      ]
     },
     "metadata": {},
     "output_type": "display_data"
    }
   ],
   "source": [
    "msno.matrix(df.iloc[:, :21])"
   ]
  },
  {
   "cell_type": "code",
   "execution_count": 103,
   "id": "2ca275e9-4bba-4656-90e1-88f2e1285e46",
   "metadata": {
    "tags": []
   },
   "outputs": [
    {
     "data": {
      "text/plain": [
       "v_categoria_delito\n",
       "Delito menor                  654564\n",
       "Delito grave                  105315\n",
       "Delito grave con agravante      8754\n",
       "Name: count, dtype: int64"
      ]
     },
     "execution_count": 103,
     "metadata": {},
     "output_type": "execute_result"
    }
   ],
   "source": [
    "df[\"v_categoria_delito\"].value_counts()"
   ]
  },
  {
   "cell_type": "code",
   "execution_count": 104,
   "id": "e0cf2fa9-68f9-419b-b93d-ecaa2db9ad38",
   "metadata": {
    "tags": []
   },
   "outputs": [
    {
     "data": {
      "text/plain": [
       "v_alcaldia_hechos\n",
       "Zona Centro Poniente    276798\n",
       "Zona Sur                177502\n",
       "Zona Oriente            159979\n",
       "Zona Norte              154354\n",
       "Name: count, dtype: int64"
      ]
     },
     "execution_count": 104,
     "metadata": {},
     "output_type": "execute_result"
    }
   ],
   "source": [
    "df[\"v_alcaldia_hechos\"].value_counts()"
   ]
  },
  {
   "cell_type": "code",
   "execution_count": 105,
   "id": "1927e1a4-e5c8-45f7-8bc3-1a25f43308df",
   "metadata": {
    "tags": []
   },
   "outputs": [
    {
     "data": {
      "text/plain": [
       "v_delito\n",
       "robo                                                                         364951\n",
       "violencia                                                                     67829\n",
       "fraude                                                                        42333\n",
       "denuncia de hechos                                                            39360\n",
       "amenaza                                                                       36864\n",
       "lesiones                                                                      31099\n",
       "falsificacion de titulos al portador y documentos de credito publico          21533\n",
       "abuso de confianza                                                            12595\n",
       "daao en propiedad ajena culposa por transito vehicular a automovil            12480\n",
       "despojo                                                                       12150\n",
       "narcomenudeo posesion simple                                                   9781\n",
       "daao en propiedad ajena intencional                                            9104\n",
       "usurpacian de identidad                                                        8320\n",
       "abuso sexual                                                                   6931\n",
       "daao en propiedad ajena culposa                                                6792\n",
       "homicidio                                                                      5867\n",
       "abuso de autoridad                                                             4832\n",
       "tentativa de extorsion                                                         4725\n",
       "daao en propiedad ajena intencional a automovil                                4062\n",
       "falsificacion de documentos                                                    3924\n",
       "encubrimiento                                                                  3654\n",
       "perdida de la vida por otras causas                                            3530\n",
       "sustraccion de menores                                                         3379\n",
       "allanamiento de morada                                                         2789\n",
       "narcomenudeo posesian con fines de venta comercio y suministro                 2685\n",
       "abandono de persona                                                            2441\n",
       "la administracion de justicia                                                  2302\n",
       "delitos ambientales                                                            2135\n",
       "privacion de la libertad personal                                              2081\n",
       "quebrantamiento de sellos                                                      2007\n",
       "insolvencia alimentaria                                                        2002\n",
       "extorsion                                                                      2001\n",
       "violacion                                                                      1945\n",
       "negacion del servicio publico                                                  1791\n",
       "otros                                                                          1721\n",
       "daao en propiedad ajena intencional a bienes inmuebles                         1701\n",
       "falsedad de declaraciones                                                      1576\n",
       "discriminacion                                                                 1552\n",
       "uso de documento falso                                                         1344\n",
       "perdida de la vida por suicidio                                                1306\n",
       "daao en propiedad ajena intencional a casa habitacion                          1289\n",
       "daao en propiedad ajena culposa por transito vehicular a bienes inmuebles      1279\n",
       "contra funcionarios publicos                                                   1104\n",
       "acoso sexual                                                                   1058\n",
       "uso indebido de atribuciones y facultades                                       939\n",
       "resistencia de particulares se oponga o resista                                 900\n",
       "ejercicio indebido del servidor publico                                         865\n",
       "portacion arma prohib                                                           856\n",
       "maltrato animal                                                                 818\n",
       "tortura                                                                         813\n",
       "cohecho                                                                         795\n",
       "delitos electorales                                                             791\n",
       "responsabilidad profesional                                                     743\n",
       "posesion de vehiculo robado                                                     742\n",
       "portacion de arma de fuego                                                      646\n",
       "corrupcion de menores                                                           549\n",
       "perdida de la vida por caida                                                    495\n",
       "perdida de la vida por paro cardiaco                                            417\n",
       "delitos de abogados patronos y litigantes                                       365\n",
       "daao en propiedad ajena intencional a negocio                                   340\n",
       "disparos de arma de fuego                                                       315\n",
       "perdida de la vida por enfermedad                                               310\n",
       "ataque a las vias generales de comunicacian                                     296\n",
       "desobedencia de particulares                                                    262\n",
       "pornografia infantil                                                            261\n",
       "revelacion de secretos                                                          252\n",
       "aborto                                                                          234\n",
       "trata de personas                                                               206\n",
       "usurpacion de profesion                                                         176\n",
       "personas extraviadas                                                            164\n",
       "ataque a las vias de comunicacion daao a vias o medios de transporte            161\n",
       "usurpacion de funciones                                                         148\n",
       "feminicidio                                                                     138\n",
       "cobranza ilegitima                                                              112\n",
       "perdida de la vida por quemadura                                                108\n",
       "perdida de la vida por precipitacion                                            107\n",
       "intimidacion                                                                    105\n",
       "Name: count, dtype: int64"
      ]
     },
     "execution_count": 105,
     "metadata": {},
     "output_type": "execute_result"
    }
   ],
   "source": [
    "df[\"v_delito\"].value_counts()"
   ]
  },
  {
   "cell_type": "code",
   "execution_count": 106,
   "id": "be2ef4f9-f1e5-499f-aac8-cd06a8af186a",
   "metadata": {
    "tags": []
   },
   "outputs": [
    {
     "data": {
      "text/plain": [
       "v_fiscalia\n",
       "investigacian en cuauhtemoc                                           97848\n",
       "investigacian en iztapalapa                                           95686\n",
       "investigacian en gustavo a madero                                     64066\n",
       "investigacian en benito juarez                                        63940\n",
       "Fiscalia de delitos                                                   53510\n",
       "investigacian en coyoacan                                             45752\n",
       "investigacian en miguel hidalgo                                       44769\n",
       "investigacian en alvaro obregan                                       44680\n",
       "investigacian en tlalpan                                              40108\n",
       "investigacian en venustiano carranza                                  37503\n",
       "investigacian en azcapotzalco                                         34269\n",
       "investigacian en iztacalco                                            29460\n",
       "investigacian para la atencian de niaos niaas y adolescentes          22384\n",
       "investigacian en xochimilco                                           20453\n",
       "juzgados familiares                                                   16391\n",
       "investigacian en tlahuac                                              15186\n",
       "investigacian en agencias de atencian especializadas                  14386\n",
       "investigacian en magdalena contreras                                  10166\n",
       "investigacian en cuajimalpa                                            9512\n",
       "investigacian en milpa alta                                            4394\n",
       "juzgados civiles                                                       1740\n",
       "investigacian para la atencian de asuntos especiales y electorales     1692\n",
       "agencia central de investigacian                                        719\n",
       "Otras fiscalias                                                          19\n",
       "Name: count, dtype: int64"
      ]
     },
     "execution_count": 106,
     "metadata": {},
     "output_type": "execute_result"
    }
   ],
   "source": [
    "df[\"v_fiscalia\"].value_counts()"
   ]
  },
  {
   "cell_type": "code",
   "execution_count": 108,
   "id": "e564845f-fa10-40c8-be38-9d52c5a52aa9",
   "metadata": {
    "tags": []
   },
   "outputs": [
    {
     "data": {
      "text/html": [
       "<div>\n",
       "<style scoped>\n",
       "    .dataframe tbody tr th:only-of-type {\n",
       "        vertical-align: middle;\n",
       "    }\n",
       "\n",
       "    .dataframe tbody tr th {\n",
       "        vertical-align: top;\n",
       "    }\n",
       "\n",
       "    .dataframe thead th {\n",
       "        text-align: right;\n",
       "    }\n",
       "</style>\n",
       "<table border=\"1\" class=\"dataframe\">\n",
       "  <thead>\n",
       "    <tr style=\"text-align: right;\">\n",
       "      <th></th>\n",
       "      <th>v_cuatrimestre</th>\n",
       "      <th>v_dia_de_semana</th>\n",
       "      <th>v_fin_de_semana</th>\n",
       "    </tr>\n",
       "  </thead>\n",
       "  <tbody>\n",
       "    <tr>\n",
       "      <th>0</th>\n",
       "      <td>1er Cuatrimestre</td>\n",
       "      <td>Tuesday</td>\n",
       "      <td>False</td>\n",
       "    </tr>\n",
       "    <tr>\n",
       "      <th>1</th>\n",
       "      <td>3er Cuatrimestre</td>\n",
       "      <td>Wednesday</td>\n",
       "      <td>False</td>\n",
       "    </tr>\n",
       "    <tr>\n",
       "      <th>2</th>\n",
       "      <td>3er Cuatrimestre</td>\n",
       "      <td>Wednesday</td>\n",
       "      <td>False</td>\n",
       "    </tr>\n",
       "    <tr>\n",
       "      <th>3</th>\n",
       "      <td>2do Cuatrimestre</td>\n",
       "      <td>Wednesday</td>\n",
       "      <td>False</td>\n",
       "    </tr>\n",
       "    <tr>\n",
       "      <th>4</th>\n",
       "      <td>2do Cuatrimestre</td>\n",
       "      <td>Monday</td>\n",
       "      <td>False</td>\n",
       "    </tr>\n",
       "    <tr>\n",
       "      <th>...</th>\n",
       "      <td>...</td>\n",
       "      <td>...</td>\n",
       "      <td>...</td>\n",
       "    </tr>\n",
       "    <tr>\n",
       "      <th>774947</th>\n",
       "      <td>2do Cuatrimestre</td>\n",
       "      <td>Monday</td>\n",
       "      <td>False</td>\n",
       "    </tr>\n",
       "    <tr>\n",
       "      <th>774948</th>\n",
       "      <td>2do Cuatrimestre</td>\n",
       "      <td>Sunday</td>\n",
       "      <td>True</td>\n",
       "    </tr>\n",
       "    <tr>\n",
       "      <th>774949</th>\n",
       "      <td>1er Cuatrimestre</td>\n",
       "      <td>Thursday</td>\n",
       "      <td>False</td>\n",
       "    </tr>\n",
       "    <tr>\n",
       "      <th>774950</th>\n",
       "      <td>1er Cuatrimestre</td>\n",
       "      <td>Friday</td>\n",
       "      <td>False</td>\n",
       "    </tr>\n",
       "    <tr>\n",
       "      <th>774951</th>\n",
       "      <td>1er Cuatrimestre</td>\n",
       "      <td>Saturday</td>\n",
       "      <td>True</td>\n",
       "    </tr>\n",
       "  </tbody>\n",
       "</table>\n",
       "<p>768633 rows × 3 columns</p>\n",
       "</div>"
      ],
      "text/plain": [
       "          v_cuatrimestre v_dia_de_semana  v_fin_de_semana\n",
       "0       1er Cuatrimestre         Tuesday            False\n",
       "1       3er Cuatrimestre       Wednesday            False\n",
       "2       3er Cuatrimestre       Wednesday            False\n",
       "3       2do Cuatrimestre       Wednesday            False\n",
       "4       2do Cuatrimestre          Monday            False\n",
       "...                  ...             ...              ...\n",
       "774947  2do Cuatrimestre          Monday            False\n",
       "774948  2do Cuatrimestre          Sunday             True\n",
       "774949  1er Cuatrimestre        Thursday            False\n",
       "774950  1er Cuatrimestre          Friday            False\n",
       "774951  1er Cuatrimestre        Saturday             True\n",
       "\n",
       "[768633 rows x 3 columns]"
      ]
     },
     "execution_count": 108,
     "metadata": {},
     "output_type": "execute_result"
    }
   ],
   "source": [
    "df[[\"v_cuatrimestre\",\"v_dia_de_semana\",\"v_fin_de_semana\"]]"
   ]
  }
 ],
 "metadata": {
  "kernelspec": {
   "display_name": "Python 3 (ipykernel)",
   "language": "python",
   "name": "python3"
  },
  "language_info": {
   "codemirror_mode": {
    "name": "ipython",
    "version": 3
   },
   "file_extension": ".py",
   "mimetype": "text/x-python",
   "name": "python",
   "nbconvert_exporter": "python",
   "pygments_lexer": "ipython3",
   "version": "3.10.8"
  }
 },
 "nbformat": 4,
 "nbformat_minor": 5
}
